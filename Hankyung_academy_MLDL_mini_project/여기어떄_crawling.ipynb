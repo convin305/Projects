{
  "nbformat": 4,
  "nbformat_minor": 0,
  "metadata": {
    "interpreter": {
      "hash": "8c1eae21719a0790335dcb83aad72b63b602cfe5cdb2bda0f60bc11d4f154e4b"
    },
    "kernelspec": {
      "display_name": "Python 3.8.5 64-bit ('base': conda)",
      "name": "python3"
    },
    "language_info": {
      "codemirror_mode": {
        "name": "ipython",
        "version": 3
      },
      "file_extension": ".py",
      "mimetype": "text/x-python",
      "name": "python",
      "nbconvert_exporter": "python",
      "pygments_lexer": "ipython3",
      "version": "3.8.5"
    },
    "orig_nbformat": 4,
    "colab": {
      "name": "여기어떄_crawling.ipynb",
      "provenance": []
    }
  },
  "cells": [
    {
      "cell_type": "code",
      "metadata": {
        "id": "OlvF1ZprLw9V"
      },
      "source": [
        "from selenium import webdriver\n",
        "import requests\n",
        "from bs4 import BeautifulSoup as bs\n",
        "import time\n",
        "import pandas as pd"
      ],
      "execution_count": null,
      "outputs": []
    },
    {
      "cell_type": "markdown",
      "metadata": {
        "id": "XVqsGiggLw9b"
      },
      "source": [
        "## 크롤링 함수"
      ]
    },
    {
      "cell_type": "code",
      "metadata": {
        "id": "_oc9Q1f5Lw9d"
      },
      "source": [
        "# 크롤링 결과 담을 리스트\n",
        "\n",
        "# 크롤링 함수\n",
        "def crawl(start, end):\n",
        "    for p in range(start,end):\n",
        "        html = driver.page_source\n",
        "        soup = bs(html, 'html.parser')\n",
        "        \n",
        "        reviews = soup.select('#review > ul > li')\n",
        "        hotel_name = driver.find_element_by_css_selector(\"#content > div.top > div.right > div.info > h2\").text\n",
        "        \n",
        "        for r in reviews:\n",
        "            review.append(r.select_one('.txt').text)\n",
        "            star.append(r.select_one('.score_wrap_sm .num').text)\n",
        "            name.append(hotel_name)\n",
        "        \n",
        "        try : \n",
        "            driver.find_element_by_xpath('//*[@id=\"pagination\"]/div/button['+str(p)+']').click()\n",
        "        except : \n",
        "            pass\n",
        "        time.sleep(2)\n",
        "        #print(soup.select('.paging .on')[0].text)\n",
        "\n",
        "def make_review_crawl(url):\n",
        "\n",
        "    driver.get(url)\n",
        "\n",
        "    # 페이지 파싱\n",
        "    html = driver.page_source\n",
        "    soup = bs(html, 'html.parser')\n",
        "\n",
        "    # '리뷰' 클릭하도록 명령\n",
        "    driver.find_element_by_xpath('//*[@id=\"content\"]/div[2]/button[3]').click()\n",
        "    \n",
        "    top_text = soup.select('.score_top')[0].find('strong').text\n",
        "    top_score = soup.select('.score_top .num')[0].text\n",
        "    top_total=soup.select('.score_top')[0].find('p').find('b').text\n",
        "\n",
        "    # 리뷰 총 개수\n",
        "    top_total = int(soup.select('.score_top')[0].find('p').find('b').text)\n",
        "\n",
        "    # 마지막 페이지 수 (한페이지에 리뷰 10개씩)\n",
        "    if top_total % 10 == 0 :\n",
        "        last_page = top_total // 10\n",
        "    else : \n",
        "        last_page = top_total // 10  + 1\n",
        "\n",
        "    # next_page 몇 번 클릭 해야하는지 설정\n",
        "    if last_page % 5 == 0:\n",
        "        page_step = last_page // 5 \n",
        "    else:\n",
        "        page_step = last_page // 5 + 1   \n",
        "    \n",
        "    print(top_total, last_page, page_step)\n",
        "    step = 1\n",
        "    while(page_step >= step):\n",
        "        \n",
        "        # 첫번째 step\n",
        "        if step == 1:\n",
        "            print('step1 loop')\n",
        "            crawl(2,7)\n",
        "            \n",
        "        # 마지막 step\n",
        "        elif step == page_step:\n",
        "            print('step 마지막 loop')\n",
        "\n",
        "                \n",
        "            if top_total % 50 > 10:\n",
        "                            \n",
        "                if last_page % 5 == 0:\n",
        "                    end_page = 7\n",
        "                else: \n",
        "                    end_page =last_page % 5 + 2\n",
        "                \n",
        "                crawl(3, end_page)\n",
        "\n",
        "            # 마지막 페이지\n",
        "            html = driver.page_source\n",
        "            soup = bs(html, 'html.parser')\n",
        "            reviews = soup.select('#review > ul > li')\n",
        "            hotel_name = driver.find_element_by_css_selector(\"#content > div.top > div.right > div.info > h2\").text\n",
        "        \n",
        "            for r in reviews:\n",
        "                review.append(r.select_one('.txt').text)\n",
        "                star.append(r.select_one('.score_wrap_sm .num').text)\n",
        "                name.append(hotel_name)    \n",
        "        # 중간 step\n",
        "        else:\n",
        "            print('step 중간 loop')\n",
        "            crawl(3,8)\n",
        "        step += 1"
      ],
      "execution_count": null,
      "outputs": []
    },
    {
      "cell_type": "code",
      "metadata": {
        "id": "lKue42fJLw9f",
        "outputId": "1a9b9f59-6b96-402d-9f28-14f90f68dc72"
      },
      "source": [
        "review = []\n",
        "name = []\n",
        "star = []\n",
        "\n",
        "driver = webdriver.Chrome('./chromedriver')\n",
        "\n",
        "# 페이지 로딩 3초 대기\n",
        "driver.implicitly_wait(3)\n",
        "make_review_crawl('https://www.goodchoice.kr/product/detail?ano=6490') \n",
        "\n",
        "driver.close()"
      ],
      "execution_count": null,
      "outputs": [
        {
          "output_type": "stream",
          "text": [
            "115 12 3\n",
            "step1 loop\n",
            "1\n",
            "2\n",
            "3\n",
            "4\n",
            "5\n",
            "step 중간 loop\n",
            "6\n",
            "7\n",
            "8\n",
            "9\n",
            "10\n",
            "step 마지막 loop\n",
            "11\n"
          ],
          "name": "stdout"
        }
      ]
    },
    {
      "cell_type": "code",
      "metadata": {
        "id": "hO2BBpMCLw9h",
        "outputId": "8e213334-d1fa-4a91-efd5-b197d2db0b71"
      },
      "source": [
        "df = pd.DataFrame({\n",
        "    'review': review,\n",
        "    'name': name\n",
        "})\n",
        "df"
      ],
      "execution_count": null,
      "outputs": [
        {
          "output_type": "execute_result",
          "data": {
            "text/html": [
              "<div>\n",
              "<style scoped>\n",
              "    .dataframe tbody tr th:only-of-type {\n",
              "        vertical-align: middle;\n",
              "    }\n",
              "\n",
              "    .dataframe tbody tr th {\n",
              "        vertical-align: top;\n",
              "    }\n",
              "\n",
              "    .dataframe thead th {\n",
              "        text-align: right;\n",
              "    }\n",
              "</style>\n",
              "<table border=\"1\" class=\"dataframe\">\n",
              "  <thead>\n",
              "    <tr style=\"text-align: right;\">\n",
              "      <th></th>\n",
              "      <th>review</th>\n",
              "      <th>name</th>\n",
              "    </tr>\n",
              "  </thead>\n",
              "  <tbody>\n",
              "    <tr>\n",
              "      <th>0</th>\n",
              "      <td>제주에서 곧바로 날라와서 짐 놓고 업계 사람들 만나러 가는 약속 때문에 잡은 호텔 ...</td>\n",
              "      <td>그랜드 인터컨티넨탈 서울 파르나스</td>\n",
              "    </tr>\n",
              "    <tr>\n",
              "      <th>1</th>\n",
              "      <td>친절하고, 입지는 좋습니다.허나 특급호텔 치고 청결상태가 매우 불량해 불쾌했네요.핸...</td>\n",
              "      <td>그랜드 인터컨티넨탈 서울 파르나스</td>\n",
              "    </tr>\n",
              "    <tr>\n",
              "      <th>2</th>\n",
              "      <td>7월3일 ~ 7월4일 킹주니어스위트 30시간 패키지 후기1. 체크인 후 짐 이동 서...</td>\n",
              "      <td>그랜드 인터컨티넨탈 서울 파르나스</td>\n",
              "    </tr>\n",
              "    <tr>\n",
              "      <th>3</th>\n",
              "      <td>한달만에 다시 방문했어요!저번 방문이 너무 편하고 좋아서 이번엔 동생과 함께 서울 ...</td>\n",
              "      <td>그랜드 인터컨티넨탈 서울 파르나스</td>\n",
              "    </tr>\n",
              "    <tr>\n",
              "      <th>4</th>\n",
              "      <td>생일 기념으로 호캉스 다녀왔습니다~ 파르나스는 처음 방문이였는데 너무너무 만족스러운...</td>\n",
              "      <td>그랜드 인터컨티넨탈 서울 파르나스</td>\n",
              "    </tr>\n",
              "    <tr>\n",
              "      <th>...</th>\n",
              "      <td>...</td>\n",
              "      <td>...</td>\n",
              "    </tr>\n",
              "    <tr>\n",
              "      <th>110</th>\n",
              "      <td>처음 가는 곳인만큼 참뜻깊고좋았습니다.</td>\n",
              "      <td>그랜드 인터컨티넨탈 서울 파르나스</td>\n",
              "    </tr>\n",
              "    <tr>\n",
              "      <th>111</th>\n",
              "      <td>리모델링을 한것 차고는 객실이 별로 ㅠㅠ개인적인 바램 2가지는첫째 TV 높이가 침대...</td>\n",
              "      <td>그랜드 인터컨티넨탈 서울 파르나스</td>\n",
              "    </tr>\n",
              "    <tr>\n",
              "      <th>112</th>\n",
              "      <td>요즘 유행하는 호캉스 저도 한번 해보고 싶어서 다녀왔어요.마침 코엑스에 볼일이 있어...</td>\n",
              "      <td>그랜드 인터컨티넨탈 서울 파르나스</td>\n",
              "    </tr>\n",
              "    <tr>\n",
              "      <th>113</th>\n",
              "      <td>조금 오래된듯했지만 깨끗하고 관리가 잘되어 있었던것 같아요. 조식도 괜찮았고 주변 ...</td>\n",
              "      <td>그랜드 인터컨티넨탈 서울 파르나스</td>\n",
              "    </tr>\n",
              "    <tr>\n",
              "      <th>114</th>\n",
              "      <td>너무 맘에 들었어요 IHG멤버쉽이 있지만 여기어때 쿠폰이있어 특가로 저렴하게 성수기...</td>\n",
              "      <td>그랜드 인터컨티넨탈 서울 파르나스</td>\n",
              "    </tr>\n",
              "  </tbody>\n",
              "</table>\n",
              "<p>115 rows × 2 columns</p>\n",
              "</div>"
            ],
            "text/plain": [
              "                                                review                name\n",
              "0    제주에서 곧바로 날라와서 짐 놓고 업계 사람들 만나러 가는 약속 때문에 잡은 호텔 ...  그랜드 인터컨티넨탈 서울 파르나스\n",
              "1    친절하고, 입지는 좋습니다.허나 특급호텔 치고 청결상태가 매우 불량해 불쾌했네요.핸...  그랜드 인터컨티넨탈 서울 파르나스\n",
              "2    7월3일 ~ 7월4일 킹주니어스위트 30시간 패키지 후기1. 체크인 후 짐 이동 서...  그랜드 인터컨티넨탈 서울 파르나스\n",
              "3    한달만에 다시 방문했어요!저번 방문이 너무 편하고 좋아서 이번엔 동생과 함께 서울 ...  그랜드 인터컨티넨탈 서울 파르나스\n",
              "4    생일 기념으로 호캉스 다녀왔습니다~ 파르나스는 처음 방문이였는데 너무너무 만족스러운...  그랜드 인터컨티넨탈 서울 파르나스\n",
              "..                                                 ...                 ...\n",
              "110                              처음 가는 곳인만큼 참뜻깊고좋았습니다.  그랜드 인터컨티넨탈 서울 파르나스\n",
              "111  리모델링을 한것 차고는 객실이 별로 ㅠㅠ개인적인 바램 2가지는첫째 TV 높이가 침대...  그랜드 인터컨티넨탈 서울 파르나스\n",
              "112  요즘 유행하는 호캉스 저도 한번 해보고 싶어서 다녀왔어요.마침 코엑스에 볼일이 있어...  그랜드 인터컨티넨탈 서울 파르나스\n",
              "113  조금 오래된듯했지만 깨끗하고 관리가 잘되어 있었던것 같아요. 조식도 괜찮았고 주변 ...  그랜드 인터컨티넨탈 서울 파르나스\n",
              "114  너무 맘에 들었어요 IHG멤버쉽이 있지만 여기어때 쿠폰이있어 특가로 저렴하게 성수기...  그랜드 인터컨티넨탈 서울 파르나스\n",
              "\n",
              "[115 rows x 2 columns]"
            ]
          },
          "metadata": {
            "tags": []
          },
          "execution_count": 25
        }
      ]
    },
    {
      "cell_type": "code",
      "metadata": {
        "id": "5XhLnvUvLw9i"
      },
      "source": [
        "link_list = []\n",
        "driver = webdriver.Chrome('./chromedriver')\n",
        "driver.get(\"https://www.goodchoice.kr/product/search/2\")\n",
        "box = driver.find_element_by_css_selector('#poduct_list_area > li:nth-child(2) > a')"
      ],
      "execution_count": null,
      "outputs": []
    },
    {
      "cell_type": "code",
      "metadata": {
        "id": "rFuwKDj2Lw9i"
      },
      "source": [
        "def get_link(search_link) : \n",
        "    driver = webdriver.Chrome('./chromedriver')\n",
        "    driver.get(search_link)\n",
        "    for i in range(2,100):\n",
        "        try : \n",
        "            box = driver.find_element_by_css_selector(f\"#poduct_list_area > li:nth-child({i}) > a\")\n",
        "            link = box.get_attribute('href')\n",
        "            link_list.append(link)\n",
        "        except : \n",
        "            pass"
      ],
      "execution_count": null,
      "outputs": []
    },
    {
      "cell_type": "code",
      "metadata": {
        "id": "5WMHW0v0Lw9j",
        "outputId": "2de180de-49c9-4e76-c608-6af82a0a9850"
      },
      "source": [
        "driver = webdriver.Chrome('./chromedriver')\n",
        "driver.get('https://www.goodchoice.kr/product/detail?ano=12877')\n",
        "name = driver.find_element_by_css_selector(\"#content > div.top > div.right > div.info > h2\").text\n",
        "name"
      ],
      "execution_count": null,
      "outputs": [
        {
          "output_type": "execute_result",
          "data": {
            "text/plain": [
              "'호텔 유리앤'"
            ]
          },
          "metadata": {
            "tags": []
          },
          "execution_count": 17
        }
      ]
    },
    {
      "cell_type": "code",
      "metadata": {
        "id": "FaBbTQPTLw9k",
        "outputId": "70755c92-9619-4139-dc6b-a3cebea3ae9f"
      },
      "source": [
        "a = link_list[0].split(\"&\")[0]\n",
        "a"
      ],
      "execution_count": null,
      "outputs": [
        {
          "output_type": "execute_result",
          "data": {
            "text/plain": [
              "'https://www.goodchoice.kr/product/detail?ano=12877'"
            ]
          },
          "metadata": {
            "tags": []
          },
          "execution_count": 14
        }
      ]
    },
    {
      "cell_type": "markdown",
      "metadata": {
        "id": "Q4hjBfAPLw9l"
      },
      "source": [
        "# 여기어때 서울 호텔 크롤링"
      ]
    },
    {
      "cell_type": "code",
      "metadata": {
        "id": "Mu7xm4gALw9m"
      },
      "source": [
        "# 서울 호텔 검색 페이지\n",
        "seoul_hotel = [\n",
        "    'https://www.goodchoice.kr/product/search/2/2012',\n",
        "    'https://www.goodchoice.kr/product/search/2/2019',\n",
        "    'https://www.goodchoice.kr/product/search/2/2016',\n",
        "    'https://www.goodchoice.kr/product/search/2/2014',\n",
        "    'https://www.goodchoice.kr/product/search/2/2015',\n",
        "    'https://www.goodchoice.kr/product/search/2/2020',\n",
        "    'https://www.goodchoice.kr/product/search/2/2018',\n",
        "    'https://www.goodchoice.kr/product/search/2/2017',\n",
        "    'https://www.goodchoice.kr/product/search/2/2021'\n",
        "]"
      ],
      "execution_count": null,
      "outputs": []
    },
    {
      "cell_type": "code",
      "metadata": {
        "id": "TcToneBGLw9m"
      },
      "source": [
        "link_list = []\n",
        "get_link(\"https://www.goodchoice.kr/product/search/2/2012\")\n",
        "link_list.head()"
      ],
      "execution_count": null,
      "outputs": []
    },
    {
      "cell_type": "code",
      "metadata": {
        "id": "0WkeyyzSLw9n"
      },
      "source": [
        "link_list = []\n",
        "\n",
        "for search_link in seoul_hotel:\n",
        "    get_link(search_link)\n",
        "    # 호텔 링크가 있는 link_list반환됨\n"
      ],
      "execution_count": null,
      "outputs": []
    },
    {
      "cell_type": "code",
      "metadata": {
        "id": "eVGO2scBLw9o",
        "outputId": "0a68bc2b-78bd-4273-86b6-c96a7e818240"
      },
      "source": [
        "len(link_list)"
      ],
      "execution_count": null,
      "outputs": [
        {
          "output_type": "execute_result",
          "data": {
            "text/plain": [
              "294"
            ]
          },
          "metadata": {
            "tags": []
          },
          "execution_count": 15
        }
      ]
    },
    {
      "cell_type": "code",
      "metadata": {
        "id": "4axIeM_HLw9o",
        "outputId": "196b8abb-f2a8-4821-d90f-6bae58c95035"
      },
      "source": [
        "import pandas as pd\n",
        "\n",
        "df = []\n",
        "\n",
        "for link in link_list:\n",
        "    a = link.split('&')[0]\n",
        "    df.append(a)\n",
        "\n",
        "linklist = pd.DataFrame({\n",
        "    'hotel_link' : df\n",
        "})\n",
        "\n",
        "linklist.head()"
      ],
      "execution_count": null,
      "outputs": [
        {
          "output_type": "execute_result",
          "data": {
            "text/html": [
              "<div>\n",
              "<style scoped>\n",
              "    .dataframe tbody tr th:only-of-type {\n",
              "        vertical-align: middle;\n",
              "    }\n",
              "\n",
              "    .dataframe tbody tr th {\n",
              "        vertical-align: top;\n",
              "    }\n",
              "\n",
              "    .dataframe thead th {\n",
              "        text-align: right;\n",
              "    }\n",
              "</style>\n",
              "<table border=\"1\" class=\"dataframe\">\n",
              "  <thead>\n",
              "    <tr style=\"text-align: right;\">\n",
              "      <th></th>\n",
              "      <th>hotel_link</th>\n",
              "    </tr>\n",
              "  </thead>\n",
              "  <tbody>\n",
              "    <tr>\n",
              "      <th>0</th>\n",
              "      <td>https://www.goodchoice.kr/product/detail?ano=6490</td>\n",
              "    </tr>\n",
              "    <tr>\n",
              "      <th>1</th>\n",
              "      <td>https://www.goodchoice.kr/product/detail?ano=1...</td>\n",
              "    </tr>\n",
              "    <tr>\n",
              "      <th>2</th>\n",
              "      <td>https://www.goodchoice.kr/product/detail?ano=6...</td>\n",
              "    </tr>\n",
              "    <tr>\n",
              "      <th>3</th>\n",
              "      <td>https://www.goodchoice.kr/product/detail?ano=6258</td>\n",
              "    </tr>\n",
              "    <tr>\n",
              "      <th>4</th>\n",
              "      <td>https://www.goodchoice.kr/product/detail?ano=4...</td>\n",
              "    </tr>\n",
              "  </tbody>\n",
              "</table>\n",
              "</div>"
            ],
            "text/plain": [
              "                                          hotel_link\n",
              "0  https://www.goodchoice.kr/product/detail?ano=6490\n",
              "1  https://www.goodchoice.kr/product/detail?ano=1...\n",
              "2  https://www.goodchoice.kr/product/detail?ano=6...\n",
              "3  https://www.goodchoice.kr/product/detail?ano=6258\n",
              "4  https://www.goodchoice.kr/product/detail?ano=4..."
            ]
          },
          "metadata": {
            "tags": []
          },
          "execution_count": 34
        }
      ]
    },
    {
      "cell_type": "code",
      "metadata": {
        "id": "63FKyN0KLw9p"
      },
      "source": [
        "linklist.to_csv('hotel_linklist.csv',index=False)"
      ],
      "execution_count": null,
      "outputs": []
    },
    {
      "cell_type": "code",
      "metadata": {
        "id": "7ic_cXQVLw9p",
        "outputId": "8928182e-07ab-4b19-bd30-0509731665e8"
      },
      "source": [
        "link_list[2]"
      ],
      "execution_count": null,
      "outputs": [
        {
          "output_type": "execute_result",
          "data": {
            "text/plain": [
              "'https://www.goodchoice.kr/product/detail?ano=65311&adcno=2&sel_date=2021-07-08&sel_date2=2021-07-09'"
            ]
          },
          "metadata": {
            "tags": []
          },
          "execution_count": 31
        }
      ]
    },
    {
      "cell_type": "code",
      "metadata": {
        "id": "_r91MCv7Lw9p",
        "outputId": "ca09bc76-87b9-4c4d-d161-0223a895004a"
      },
      "source": [
        "review = []\n",
        "name = []\n",
        "star = []\n",
        "\n",
        "driver = webdriver.Chrome('./chromedriver')\n",
        "\n",
        "for link in link_list[2:3]:\n",
        "    a = link.split('&')[0]\n",
        "    driver.implicitly_wait(3)\n",
        "    make_review_crawl(a)\n",
        "    print(a)\n",
        "    \n",
        "driver.close()"
      ],
      "execution_count": null,
      "outputs": [
        {
          "output_type": "stream",
          "text": [
            "40 4 1\n",
            "step1 loop\n",
            "https://www.goodchoice.kr/product/detail?ano=65311\n"
          ],
          "name": "stdout"
        }
      ]
    },
    {
      "cell_type": "code",
      "metadata": {
        "id": "5D1FxvrgLw9q",
        "outputId": "ec38147f-aca4-438d-ede1-28170d576950"
      },
      "source": [
        "df = pd.DataFrame({\n",
        "    'review': review,\n",
        "    'name': name\n",
        "})\n",
        "df.tail(5)"
      ],
      "execution_count": null,
      "outputs": [
        {
          "output_type": "execute_result",
          "data": {
            "text/html": [
              "<div>\n",
              "<style scoped>\n",
              "    .dataframe tbody tr th:only-of-type {\n",
              "        vertical-align: middle;\n",
              "    }\n",
              "\n",
              "    .dataframe tbody tr th {\n",
              "        vertical-align: top;\n",
              "    }\n",
              "\n",
              "    .dataframe thead th {\n",
              "        text-align: right;\n",
              "    }\n",
              "</style>\n",
              "<table border=\"1\" class=\"dataframe\">\n",
              "  <thead>\n",
              "    <tr style=\"text-align: right;\">\n",
              "      <th></th>\n",
              "      <th>review</th>\n",
              "      <th>name</th>\n",
              "    </tr>\n",
              "  </thead>\n",
              "  <tbody>\n",
              "    <tr>\n",
              "      <th>40</th>\n",
              "      <td>시설,청결,서비스, 전망 전부 만족!코엑스랑 연결되서 편리하고 최고!4인가족 쓰기 ...</td>\n",
              "      <td>오크우드 프리미어 코엑스센터</td>\n",
              "    </tr>\n",
              "    <tr>\n",
              "      <th>41</th>\n",
              "      <td>오크우드는 역시 오크우드입니다</td>\n",
              "      <td>오크우드 프리미어 코엑스센터</td>\n",
              "    </tr>\n",
              "    <tr>\n",
              "      <th>42</th>\n",
              "      <td>호텔 깔끔하고 제가 기대했던 것보다 더 좋았어요ㅎㅎㅎ특히 직원들이 너무 친절하시고 ...</td>\n",
              "      <td>오크우드 프리미어 코엑스센터</td>\n",
              "    </tr>\n",
              "    <tr>\n",
              "      <th>43</th>\n",
              "      <td>코엑스와 연결되어 있어  좋아요비교적 넓은 룸공간이 매력적인 레지던스 호텔 입니다.</td>\n",
              "      <td>오크우드 프리미어 코엑스센터</td>\n",
              "    </tr>\n",
              "    <tr>\n",
              "      <th>44</th>\n",
              "      <td>특급호텔이고 접근성은 좋은데 전망, 청결도 등이 좀 아쉬웠어요...</td>\n",
              "      <td>오크우드 프리미어 코엑스센터</td>\n",
              "    </tr>\n",
              "  </tbody>\n",
              "</table>\n",
              "</div>"
            ],
            "text/plain": [
              "                                               review             name\n",
              "40  시설,청결,서비스, 전망 전부 만족!코엑스랑 연결되서 편리하고 최고!4인가족 쓰기 ...  오크우드 프리미어 코엑스센터\n",
              "41                                   오크우드는 역시 오크우드입니다  오크우드 프리미어 코엑스센터\n",
              "42  호텔 깔끔하고 제가 기대했던 것보다 더 좋았어요ㅎㅎㅎ특히 직원들이 너무 친절하시고 ...  오크우드 프리미어 코엑스센터\n",
              "43     코엑스와 연결되어 있어  좋아요비교적 넓은 룸공간이 매력적인 레지던스 호텔 입니다.  오크우드 프리미어 코엑스센터\n",
              "44              특급호텔이고 접근성은 좋은데 전망, 청결도 등이 좀 아쉬웠어요...  오크우드 프리미어 코엑스센터"
            ]
          },
          "metadata": {
            "tags": []
          },
          "execution_count": 40
        }
      ]
    },
    {
      "cell_type": "code",
      "metadata": {
        "id": "Hvs1GYxrLw9q"
      },
      "source": [
        "df.to_csv('hotel_review.csv',index=False)"
      ],
      "execution_count": null,
      "outputs": []
    },
    {
      "cell_type": "code",
      "metadata": {
        "id": "V8qMKtAQLw9r",
        "outputId": "d57607b3-a4d9-4cf2-c617-fc09e17f66d1"
      },
      "source": [
        "df.tail(5)"
      ],
      "execution_count": null,
      "outputs": [
        {
          "output_type": "execute_result",
          "data": {
            "text/html": [
              "<div>\n",
              "<style scoped>\n",
              "    .dataframe tbody tr th:only-of-type {\n",
              "        vertical-align: middle;\n",
              "    }\n",
              "\n",
              "    .dataframe tbody tr th {\n",
              "        vertical-align: top;\n",
              "    }\n",
              "\n",
              "    .dataframe thead th {\n",
              "        text-align: right;\n",
              "    }\n",
              "</style>\n",
              "<table border=\"1\" class=\"dataframe\">\n",
              "  <thead>\n",
              "    <tr style=\"text-align: right;\">\n",
              "      <th></th>\n",
              "      <th>review</th>\n",
              "      <th>name</th>\n",
              "    </tr>\n",
              "  </thead>\n",
              "  <tbody>\n",
              "    <tr>\n",
              "      <th>659</th>\n",
              "      <td>객실청결, 직원친절합니다  첫방문인데  다른 레지던스에 비해 매우 만족합니다</td>\n",
              "      <td>오크우드 프리미어 코엑스센터</td>\n",
              "    </tr>\n",
              "    <tr>\n",
              "      <th>660</th>\n",
              "      <td>4명함께 이용하는데친구들모두 너무넓고쾌적해서 좋아했어요♡</td>\n",
              "      <td>오크우드 프리미어 코엑스센터</td>\n",
              "    </tr>\n",
              "    <tr>\n",
              "      <th>661</th>\n",
              "      <td>사진으로 보는거보다 좋았던거 같아요. 방도 진짜 크고 거실도 크고 엄마는 주방큰거를...</td>\n",
              "      <td>오크우드 프리미어 코엑스센터</td>\n",
              "    </tr>\n",
              "    <tr>\n",
              "      <th>662</th>\n",
              "      <td>말모 말모.. 너무 좋았어요!! 청결,친절,편의 뭐 하나 빠지는것 없이 너무 좋았습니다~</td>\n",
              "      <td>오크우드 프리미어 코엑스센터</td>\n",
              "    </tr>\n",
              "    <tr>\n",
              "      <th>663</th>\n",
              "      <td>직원이 좀 어리바리한거 빼고는 좋아요</td>\n",
              "      <td>오크우드 프리미어 코엑스센터</td>\n",
              "    </tr>\n",
              "  </tbody>\n",
              "</table>\n",
              "</div>"
            ],
            "text/plain": [
              "                                                review             name\n",
              "659         객실청결, 직원친절합니다  첫방문인데  다른 레지던스에 비해 매우 만족합니다  오크우드 프리미어 코엑스센터\n",
              "660                    4명함께 이용하는데친구들모두 너무넓고쾌적해서 좋아했어요♡  오크우드 프리미어 코엑스센터\n",
              "661  사진으로 보는거보다 좋았던거 같아요. 방도 진짜 크고 거실도 크고 엄마는 주방큰거를...  오크우드 프리미어 코엑스센터\n",
              "662  말모 말모.. 너무 좋았어요!! 청결,친절,편의 뭐 하나 빠지는것 없이 너무 좋았습니다~  오크우드 프리미어 코엑스센터\n",
              "663                               직원이 좀 어리바리한거 빼고는 좋아요  오크우드 프리미어 코엑스센터"
            ]
          },
          "metadata": {
            "tags": []
          },
          "execution_count": 32
        }
      ]
    },
    {
      "cell_type": "code",
      "metadata": {
        "id": "C6vT1Y05Lw9r"
      },
      "source": [
        ""
      ],
      "execution_count": null,
      "outputs": []
    }
  ]
}