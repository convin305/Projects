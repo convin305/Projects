{
  "nbformat": 4,
  "nbformat_minor": 0,
  "metadata": {
    "colab": {
      "name": "키워드_호텔 LSTM.ipynb",
      "provenance": [],
      "collapsed_sections": []
    },
    "kernelspec": {
      "name": "python3",
      "display_name": "Python 3"
    },
    "language_info": {
      "name": "python"
    },
    "accelerator": "GPU",
    "widgets": {
      "application/vnd.jupyter.widget-state+json": {
        "9a23db2e1daa46eaa7728d74eed810e6": {
          "model_module": "@jupyter-widgets/controls",
          "model_name": "HBoxModel",
          "state": {
            "_view_name": "HBoxView",
            "_dom_classes": [],
            "_model_name": "HBoxModel",
            "_view_module": "@jupyter-widgets/controls",
            "_model_module_version": "1.5.0",
            "_view_count": null,
            "_view_module_version": "1.5.0",
            "box_style": "",
            "layout": "IPY_MODEL_6671aea785cc463d8df2c10340788f94",
            "_model_module": "@jupyter-widgets/controls",
            "children": [
              "IPY_MODEL_acbc34d457fc43f8936118fc94fe74c6",
              "IPY_MODEL_f1ae9c13c4474fb9adcfb4f327bc818e"
            ]
          }
        },
        "6671aea785cc463d8df2c10340788f94": {
          "model_module": "@jupyter-widgets/base",
          "model_name": "LayoutModel",
          "state": {
            "_view_name": "LayoutView",
            "grid_template_rows": null,
            "right": null,
            "justify_content": null,
            "_view_module": "@jupyter-widgets/base",
            "overflow": null,
            "_model_module_version": "1.2.0",
            "_view_count": null,
            "flex_flow": null,
            "width": null,
            "min_width": null,
            "border": null,
            "align_items": null,
            "bottom": null,
            "_model_module": "@jupyter-widgets/base",
            "top": null,
            "grid_column": null,
            "overflow_y": null,
            "overflow_x": null,
            "grid_auto_flow": null,
            "grid_area": null,
            "grid_template_columns": null,
            "flex": null,
            "_model_name": "LayoutModel",
            "justify_items": null,
            "grid_row": null,
            "max_height": null,
            "align_content": null,
            "visibility": null,
            "align_self": null,
            "height": null,
            "min_height": null,
            "padding": null,
            "grid_auto_rows": null,
            "grid_gap": null,
            "max_width": null,
            "order": null,
            "_view_module_version": "1.2.0",
            "grid_template_areas": null,
            "object_position": null,
            "object_fit": null,
            "grid_auto_columns": null,
            "margin": null,
            "display": null,
            "left": null
          }
        },
        "acbc34d457fc43f8936118fc94fe74c6": {
          "model_module": "@jupyter-widgets/controls",
          "model_name": "FloatProgressModel",
          "state": {
            "_view_name": "ProgressView",
            "style": "IPY_MODEL_c14889b3588b4a059328c988871a6a19",
            "_dom_classes": [],
            "description": "100%",
            "_model_name": "FloatProgressModel",
            "bar_style": "success",
            "max": 137062,
            "_view_module": "@jupyter-widgets/controls",
            "_model_module_version": "1.5.0",
            "value": 137062,
            "_view_count": null,
            "_view_module_version": "1.5.0",
            "orientation": "horizontal",
            "min": 0,
            "description_tooltip": null,
            "_model_module": "@jupyter-widgets/controls",
            "layout": "IPY_MODEL_04fdb14d007745c3a0877e66d59f12be"
          }
        },
        "f1ae9c13c4474fb9adcfb4f327bc818e": {
          "model_module": "@jupyter-widgets/controls",
          "model_name": "HTMLModel",
          "state": {
            "_view_name": "HTMLView",
            "style": "IPY_MODEL_09ab65a9faf348c19b9b556286cc6ad8",
            "_dom_classes": [],
            "description": "",
            "_model_name": "HTMLModel",
            "placeholder": "​",
            "_view_module": "@jupyter-widgets/controls",
            "_model_module_version": "1.5.0",
            "value": " 137062/137062 [06:04&lt;00:00, 375.72it/s]",
            "_view_count": null,
            "_view_module_version": "1.5.0",
            "description_tooltip": null,
            "_model_module": "@jupyter-widgets/controls",
            "layout": "IPY_MODEL_2e22d0a5f61b4a75801a9b81fb445bff"
          }
        },
        "c14889b3588b4a059328c988871a6a19": {
          "model_module": "@jupyter-widgets/controls",
          "model_name": "ProgressStyleModel",
          "state": {
            "_view_name": "StyleView",
            "_model_name": "ProgressStyleModel",
            "description_width": "initial",
            "_view_module": "@jupyter-widgets/base",
            "_model_module_version": "1.5.0",
            "_view_count": null,
            "_view_module_version": "1.2.0",
            "bar_color": null,
            "_model_module": "@jupyter-widgets/controls"
          }
        },
        "04fdb14d007745c3a0877e66d59f12be": {
          "model_module": "@jupyter-widgets/base",
          "model_name": "LayoutModel",
          "state": {
            "_view_name": "LayoutView",
            "grid_template_rows": null,
            "right": null,
            "justify_content": null,
            "_view_module": "@jupyter-widgets/base",
            "overflow": null,
            "_model_module_version": "1.2.0",
            "_view_count": null,
            "flex_flow": null,
            "width": null,
            "min_width": null,
            "border": null,
            "align_items": null,
            "bottom": null,
            "_model_module": "@jupyter-widgets/base",
            "top": null,
            "grid_column": null,
            "overflow_y": null,
            "overflow_x": null,
            "grid_auto_flow": null,
            "grid_area": null,
            "grid_template_columns": null,
            "flex": null,
            "_model_name": "LayoutModel",
            "justify_items": null,
            "grid_row": null,
            "max_height": null,
            "align_content": null,
            "visibility": null,
            "align_self": null,
            "height": null,
            "min_height": null,
            "padding": null,
            "grid_auto_rows": null,
            "grid_gap": null,
            "max_width": null,
            "order": null,
            "_view_module_version": "1.2.0",
            "grid_template_areas": null,
            "object_position": null,
            "object_fit": null,
            "grid_auto_columns": null,
            "margin": null,
            "display": null,
            "left": null
          }
        },
        "09ab65a9faf348c19b9b556286cc6ad8": {
          "model_module": "@jupyter-widgets/controls",
          "model_name": "DescriptionStyleModel",
          "state": {
            "_view_name": "StyleView",
            "_model_name": "DescriptionStyleModel",
            "description_width": "",
            "_view_module": "@jupyter-widgets/base",
            "_model_module_version": "1.5.0",
            "_view_count": null,
            "_view_module_version": "1.2.0",
            "_model_module": "@jupyter-widgets/controls"
          }
        },
        "2e22d0a5f61b4a75801a9b81fb445bff": {
          "model_module": "@jupyter-widgets/base",
          "model_name": "LayoutModel",
          "state": {
            "_view_name": "LayoutView",
            "grid_template_rows": null,
            "right": null,
            "justify_content": null,
            "_view_module": "@jupyter-widgets/base",
            "overflow": null,
            "_model_module_version": "1.2.0",
            "_view_count": null,
            "flex_flow": null,
            "width": null,
            "min_width": null,
            "border": null,
            "align_items": null,
            "bottom": null,
            "_model_module": "@jupyter-widgets/base",
            "top": null,
            "grid_column": null,
            "overflow_y": null,
            "overflow_x": null,
            "grid_auto_flow": null,
            "grid_area": null,
            "grid_template_columns": null,
            "flex": null,
            "_model_name": "LayoutModel",
            "justify_items": null,
            "grid_row": null,
            "max_height": null,
            "align_content": null,
            "visibility": null,
            "align_self": null,
            "height": null,
            "min_height": null,
            "padding": null,
            "grid_auto_rows": null,
            "grid_gap": null,
            "max_width": null,
            "order": null,
            "_view_module_version": "1.2.0",
            "grid_template_areas": null,
            "object_position": null,
            "object_fit": null,
            "grid_auto_columns": null,
            "margin": null,
            "display": null,
            "left": null
          }
        },
        "6654383f618740f599b099f87a1bb8ec": {
          "model_module": "@jupyter-widgets/controls",
          "model_name": "HBoxModel",
          "state": {
            "_view_name": "HBoxView",
            "_dom_classes": [],
            "_model_name": "HBoxModel",
            "_view_module": "@jupyter-widgets/controls",
            "_model_module_version": "1.5.0",
            "_view_count": null,
            "_view_module_version": "1.5.0",
            "box_style": "",
            "layout": "IPY_MODEL_0335632a3da6497494c018f2b8aeaa53",
            "_model_module": "@jupyter-widgets/controls",
            "children": [
              "IPY_MODEL_9ae3f7d2acf744d187c86b374ce31066",
              "IPY_MODEL_3d6a0e9c41eb41e3a6c38d4973ec5aa2"
            ]
          }
        },
        "0335632a3da6497494c018f2b8aeaa53": {
          "model_module": "@jupyter-widgets/base",
          "model_name": "LayoutModel",
          "state": {
            "_view_name": "LayoutView",
            "grid_template_rows": null,
            "right": null,
            "justify_content": null,
            "_view_module": "@jupyter-widgets/base",
            "overflow": null,
            "_model_module_version": "1.2.0",
            "_view_count": null,
            "flex_flow": null,
            "width": null,
            "min_width": null,
            "border": null,
            "align_items": null,
            "bottom": null,
            "_model_module": "@jupyter-widgets/base",
            "top": null,
            "grid_column": null,
            "overflow_y": null,
            "overflow_x": null,
            "grid_auto_flow": null,
            "grid_area": null,
            "grid_template_columns": null,
            "flex": null,
            "_model_name": "LayoutModel",
            "justify_items": null,
            "grid_row": null,
            "max_height": null,
            "align_content": null,
            "visibility": null,
            "align_self": null,
            "height": null,
            "min_height": null,
            "padding": null,
            "grid_auto_rows": null,
            "grid_gap": null,
            "max_width": null,
            "order": null,
            "_view_module_version": "1.2.0",
            "grid_template_areas": null,
            "object_position": null,
            "object_fit": null,
            "grid_auto_columns": null,
            "margin": null,
            "display": null,
            "left": null
          }
        },
        "9ae3f7d2acf744d187c86b374ce31066": {
          "model_module": "@jupyter-widgets/controls",
          "model_name": "FloatProgressModel",
          "state": {
            "_view_name": "ProgressView",
            "style": "IPY_MODEL_8f2452562ccd4eb58adb1f2f0bd343f3",
            "_dom_classes": [],
            "description": "100%",
            "_model_name": "FloatProgressModel",
            "bar_style": "success",
            "max": 34266,
            "_view_module": "@jupyter-widgets/controls",
            "_model_module_version": "1.5.0",
            "value": 34266,
            "_view_count": null,
            "_view_module_version": "1.5.0",
            "orientation": "horizontal",
            "min": 0,
            "description_tooltip": null,
            "_model_module": "@jupyter-widgets/controls",
            "layout": "IPY_MODEL_6e970a7db32241b984c923283f4a4470"
          }
        },
        "3d6a0e9c41eb41e3a6c38d4973ec5aa2": {
          "model_module": "@jupyter-widgets/controls",
          "model_name": "HTMLModel",
          "state": {
            "_view_name": "HTMLView",
            "style": "IPY_MODEL_1a9aedfab04644988510b3b86c720934",
            "_dom_classes": [],
            "description": "",
            "_model_name": "HTMLModel",
            "placeholder": "​",
            "_view_module": "@jupyter-widgets/controls",
            "_model_module_version": "1.5.0",
            "value": " 34266/34266 [01:29&lt;00:00, 384.86it/s]",
            "_view_count": null,
            "_view_module_version": "1.5.0",
            "description_tooltip": null,
            "_model_module": "@jupyter-widgets/controls",
            "layout": "IPY_MODEL_7c9950d40ac94b5fb688bc714a12c613"
          }
        },
        "8f2452562ccd4eb58adb1f2f0bd343f3": {
          "model_module": "@jupyter-widgets/controls",
          "model_name": "ProgressStyleModel",
          "state": {
            "_view_name": "StyleView",
            "_model_name": "ProgressStyleModel",
            "description_width": "initial",
            "_view_module": "@jupyter-widgets/base",
            "_model_module_version": "1.5.0",
            "_view_count": null,
            "_view_module_version": "1.2.0",
            "bar_color": null,
            "_model_module": "@jupyter-widgets/controls"
          }
        },
        "6e970a7db32241b984c923283f4a4470": {
          "model_module": "@jupyter-widgets/base",
          "model_name": "LayoutModel",
          "state": {
            "_view_name": "LayoutView",
            "grid_template_rows": null,
            "right": null,
            "justify_content": null,
            "_view_module": "@jupyter-widgets/base",
            "overflow": null,
            "_model_module_version": "1.2.0",
            "_view_count": null,
            "flex_flow": null,
            "width": null,
            "min_width": null,
            "border": null,
            "align_items": null,
            "bottom": null,
            "_model_module": "@jupyter-widgets/base",
            "top": null,
            "grid_column": null,
            "overflow_y": null,
            "overflow_x": null,
            "grid_auto_flow": null,
            "grid_area": null,
            "grid_template_columns": null,
            "flex": null,
            "_model_name": "LayoutModel",
            "justify_items": null,
            "grid_row": null,
            "max_height": null,
            "align_content": null,
            "visibility": null,
            "align_self": null,
            "height": null,
            "min_height": null,
            "padding": null,
            "grid_auto_rows": null,
            "grid_gap": null,
            "max_width": null,
            "order": null,
            "_view_module_version": "1.2.0",
            "grid_template_areas": null,
            "object_position": null,
            "object_fit": null,
            "grid_auto_columns": null,
            "margin": null,
            "display": null,
            "left": null
          }
        },
        "1a9aedfab04644988510b3b86c720934": {
          "model_module": "@jupyter-widgets/controls",
          "model_name": "DescriptionStyleModel",
          "state": {
            "_view_name": "StyleView",
            "_model_name": "DescriptionStyleModel",
            "description_width": "",
            "_view_module": "@jupyter-widgets/base",
            "_model_module_version": "1.5.0",
            "_view_count": null,
            "_view_module_version": "1.2.0",
            "_model_module": "@jupyter-widgets/controls"
          }
        },
        "7c9950d40ac94b5fb688bc714a12c613": {
          "model_module": "@jupyter-widgets/base",
          "model_name": "LayoutModel",
          "state": {
            "_view_name": "LayoutView",
            "grid_template_rows": null,
            "right": null,
            "justify_content": null,
            "_view_module": "@jupyter-widgets/base",
            "overflow": null,
            "_model_module_version": "1.2.0",
            "_view_count": null,
            "flex_flow": null,
            "width": null,
            "min_width": null,
            "border": null,
            "align_items": null,
            "bottom": null,
            "_model_module": "@jupyter-widgets/base",
            "top": null,
            "grid_column": null,
            "overflow_y": null,
            "overflow_x": null,
            "grid_auto_flow": null,
            "grid_area": null,
            "grid_template_columns": null,
            "flex": null,
            "_model_name": "LayoutModel",
            "justify_items": null,
            "grid_row": null,
            "max_height": null,
            "align_content": null,
            "visibility": null,
            "align_self": null,
            "height": null,
            "min_height": null,
            "padding": null,
            "grid_auto_rows": null,
            "grid_gap": null,
            "max_width": null,
            "order": null,
            "_view_module_version": "1.2.0",
            "grid_template_areas": null,
            "object_position": null,
            "object_fit": null,
            "grid_auto_columns": null,
            "margin": null,
            "display": null,
            "left": null
          }
        }
      }
    }
  },
  "cells": [
    {
      "cell_type": "code",
      "metadata": {
        "colab": {
          "base_uri": "https://localhost:8080/"
        },
        "id": "0DxZAkBkjuR5",
        "outputId": "b82608ec-9788-4faa-ae93-5f82ca7c4c81"
      },
      "source": [
        "from google.colab import drive\n",
        "drive.mount('/content/drive')"
      ],
      "execution_count": null,
      "outputs": [
        {
          "output_type": "stream",
          "text": [
            "Mounted at /content/drive\n"
          ],
          "name": "stdout"
        }
      ]
    },
    {
      "cell_type": "code",
      "metadata": {
        "colab": {
          "base_uri": "https://localhost:8080/",
          "height": 205
        },
        "id": "8xGq6FSyjMxp",
        "outputId": "fb7ccf11-83f2-4247-f557-753f11a2b9cd"
      },
      "source": [
        "import pandas as pd\n",
        "df = pd.read_csv('/content/drive/MyDrive/Colab Notebooks/프로젝트/한경_MLDL_호텔리뷰/rawdata/키워드_호텔_라벨링.csv')\n",
        "df.head()"
      ],
      "execution_count": null,
      "outputs": [
        {
          "output_type": "execute_result",
          "data": {
            "text/html": [
              "<div>\n",
              "<style scoped>\n",
              "    .dataframe tbody tr th:only-of-type {\n",
              "        vertical-align: middle;\n",
              "    }\n",
              "\n",
              "    .dataframe tbody tr th {\n",
              "        vertical-align: top;\n",
              "    }\n",
              "\n",
              "    .dataframe thead th {\n",
              "        text-align: right;\n",
              "    }\n",
              "</style>\n",
              "<table border=\"1\" class=\"dataframe\">\n",
              "  <thead>\n",
              "    <tr style=\"text-align: right;\">\n",
              "      <th></th>\n",
              "      <th>index</th>\n",
              "      <th>hotel</th>\n",
              "      <th>star</th>\n",
              "      <th>review</th>\n",
              "      <th>추천</th>\n",
              "      <th>힐링</th>\n",
              "      <th>뷰</th>\n",
              "      <th>주차</th>\n",
              "      <th>위치</th>\n",
              "      <th>깨끗</th>\n",
              "      <th>시설</th>\n",
              "      <th>친절</th>\n",
              "      <th>attitude</th>\n",
              "      <th>sum</th>\n",
              "      <th>helpful</th>\n",
              "    </tr>\n",
              "  </thead>\n",
              "  <tbody>\n",
              "    <tr>\n",
              "      <th>0</th>\n",
              "      <td>0</td>\n",
              "      <td>호텔 8 Hours</td>\n",
              "      <td>5</td>\n",
              "      <td>깨끗하고 위치도 좋고 구성비 좋았습니다 다만 비품이 거의 없다고 보면 돼서 챙겨가야...</td>\n",
              "      <td>False</td>\n",
              "      <td>False</td>\n",
              "      <td>False</td>\n",
              "      <td>False</td>\n",
              "      <td>True</td>\n",
              "      <td>True</td>\n",
              "      <td>False</td>\n",
              "      <td>False</td>\n",
              "      <td>2</td>\n",
              "      <td>2</td>\n",
              "      <td>1</td>\n",
              "    </tr>\n",
              "    <tr>\n",
              "      <th>1</th>\n",
              "      <td>1</td>\n",
              "      <td>호텔 8 Hours</td>\n",
              "      <td>4</td>\n",
              "      <td>너무 좋아요 잘 머물다 갑니다</td>\n",
              "      <td>False</td>\n",
              "      <td>False</td>\n",
              "      <td>False</td>\n",
              "      <td>False</td>\n",
              "      <td>False</td>\n",
              "      <td>False</td>\n",
              "      <td>False</td>\n",
              "      <td>False</td>\n",
              "      <td>2</td>\n",
              "      <td>0</td>\n",
              "      <td>0</td>\n",
              "    </tr>\n",
              "    <tr>\n",
              "      <th>2</th>\n",
              "      <td>2</td>\n",
              "      <td>호텔 8 Hours</td>\n",
              "      <td>5</td>\n",
              "      <td>적당히 잘 쉬다 가요</td>\n",
              "      <td>False</td>\n",
              "      <td>False</td>\n",
              "      <td>False</td>\n",
              "      <td>False</td>\n",
              "      <td>False</td>\n",
              "      <td>False</td>\n",
              "      <td>False</td>\n",
              "      <td>False</td>\n",
              "      <td>2</td>\n",
              "      <td>0</td>\n",
              "      <td>0</td>\n",
              "    </tr>\n",
              "    <tr>\n",
              "      <th>3</th>\n",
              "      <td>3</td>\n",
              "      <td>호텔 8 Hours</td>\n",
              "      <td>5</td>\n",
              "      <td>매번 요때마다 매우 만족합니다 번창하세요</td>\n",
              "      <td>False</td>\n",
              "      <td>False</td>\n",
              "      <td>False</td>\n",
              "      <td>False</td>\n",
              "      <td>False</td>\n",
              "      <td>False</td>\n",
              "      <td>False</td>\n",
              "      <td>False</td>\n",
              "      <td>2</td>\n",
              "      <td>0</td>\n",
              "      <td>0</td>\n",
              "    </tr>\n",
              "    <tr>\n",
              "      <th>4</th>\n",
              "      <td>4</td>\n",
              "      <td>호텔 8 Hours</td>\n",
              "      <td>5</td>\n",
              "      <td>너무 편하고 좋았어요</td>\n",
              "      <td>False</td>\n",
              "      <td>False</td>\n",
              "      <td>False</td>\n",
              "      <td>False</td>\n",
              "      <td>False</td>\n",
              "      <td>False</td>\n",
              "      <td>False</td>\n",
              "      <td>False</td>\n",
              "      <td>2</td>\n",
              "      <td>0</td>\n",
              "      <td>0</td>\n",
              "    </tr>\n",
              "  </tbody>\n",
              "</table>\n",
              "</div>"
            ],
            "text/plain": [
              "   index       hotel  star  ... attitude  sum  helpful\n",
              "0      0  호텔 8 Hours     5  ...        2    2        1\n",
              "1      1  호텔 8 Hours     4  ...        2    0        0\n",
              "2      2  호텔 8 Hours     5  ...        2    0        0\n",
              "3      3  호텔 8 Hours     5  ...        2    0        0\n",
              "4      4  호텔 8 Hours     5  ...        2    0        0\n",
              "\n",
              "[5 rows x 15 columns]"
            ]
          },
          "metadata": {
            "tags": []
          },
          "execution_count": 2
        }
      ]
    },
    {
      "cell_type": "code",
      "metadata": {
        "colab": {
          "base_uri": "https://localhost:8080/"
        },
        "id": "QJ6ogZPLizp3",
        "outputId": "1e5db9c2-5587-4495-c3e8-28976c0adb5e"
      },
      "source": [
        "!pip install Konlpy"
      ],
      "execution_count": null,
      "outputs": [
        {
          "output_type": "stream",
          "text": [
            "Collecting Konlpy\n",
            "\u001b[?25l  Downloading https://files.pythonhosted.org/packages/85/0e/f385566fec837c0b83f216b2da65db9997b35dd675e107752005b7d392b1/konlpy-0.5.2-py2.py3-none-any.whl (19.4MB)\n",
            "\u001b[K     |████████████████████████████████| 19.4MB 1.4MB/s \n",
            "\u001b[?25hRequirement already satisfied: lxml>=4.1.0 in /usr/local/lib/python3.7/dist-packages (from Konlpy) (4.2.6)\n",
            "Requirement already satisfied: tweepy>=3.7.0 in /usr/local/lib/python3.7/dist-packages (from Konlpy) (3.10.0)\n",
            "Collecting colorama\n",
            "  Downloading https://files.pythonhosted.org/packages/44/98/5b86278fbbf250d239ae0ecb724f8572af1c91f4a11edf4d36a206189440/colorama-0.4.4-py2.py3-none-any.whl\n",
            "Collecting JPype1>=0.7.0\n",
            "\u001b[?25l  Downloading https://files.pythonhosted.org/packages/98/88/f817ef1af6f794e8f11313dcd1549de833f4599abcec82746ab5ed086686/JPype1-1.3.0-cp37-cp37m-manylinux_2_5_x86_64.manylinux1_x86_64.whl (448kB)\n",
            "\u001b[K     |████████████████████████████████| 450kB 45.5MB/s \n",
            "\u001b[?25hCollecting beautifulsoup4==4.6.0\n",
            "\u001b[?25l  Downloading https://files.pythonhosted.org/packages/9e/d4/10f46e5cfac773e22707237bfcd51bbffeaf0a576b0a847ec7ab15bd7ace/beautifulsoup4-4.6.0-py3-none-any.whl (86kB)\n",
            "\u001b[K     |████████████████████████████████| 92kB 13.2MB/s \n",
            "\u001b[?25hRequirement already satisfied: numpy>=1.6 in /usr/local/lib/python3.7/dist-packages (from Konlpy) (1.19.5)\n",
            "Requirement already satisfied: requests[socks]>=2.11.1 in /usr/local/lib/python3.7/dist-packages (from tweepy>=3.7.0->Konlpy) (2.23.0)\n",
            "Requirement already satisfied: six>=1.10.0 in /usr/local/lib/python3.7/dist-packages (from tweepy>=3.7.0->Konlpy) (1.15.0)\n",
            "Requirement already satisfied: requests-oauthlib>=0.7.0 in /usr/local/lib/python3.7/dist-packages (from tweepy>=3.7.0->Konlpy) (1.3.0)\n",
            "Requirement already satisfied: typing-extensions; python_version < \"3.8\" in /usr/local/lib/python3.7/dist-packages (from JPype1>=0.7.0->Konlpy) (3.7.4.3)\n",
            "Requirement already satisfied: chardet<4,>=3.0.2 in /usr/local/lib/python3.7/dist-packages (from requests[socks]>=2.11.1->tweepy>=3.7.0->Konlpy) (3.0.4)\n",
            "Requirement already satisfied: idna<3,>=2.5 in /usr/local/lib/python3.7/dist-packages (from requests[socks]>=2.11.1->tweepy>=3.7.0->Konlpy) (2.10)\n",
            "Requirement already satisfied: urllib3!=1.25.0,!=1.25.1,<1.26,>=1.21.1 in /usr/local/lib/python3.7/dist-packages (from requests[socks]>=2.11.1->tweepy>=3.7.0->Konlpy) (1.24.3)\n",
            "Requirement already satisfied: certifi>=2017.4.17 in /usr/local/lib/python3.7/dist-packages (from requests[socks]>=2.11.1->tweepy>=3.7.0->Konlpy) (2021.5.30)\n",
            "Requirement already satisfied: PySocks!=1.5.7,>=1.5.6; extra == \"socks\" in /usr/local/lib/python3.7/dist-packages (from requests[socks]>=2.11.1->tweepy>=3.7.0->Konlpy) (1.7.1)\n",
            "Requirement already satisfied: oauthlib>=3.0.0 in /usr/local/lib/python3.7/dist-packages (from requests-oauthlib>=0.7.0->tweepy>=3.7.0->Konlpy) (3.1.1)\n",
            "Installing collected packages: colorama, JPype1, beautifulsoup4, Konlpy\n",
            "  Found existing installation: beautifulsoup4 4.6.3\n",
            "    Uninstalling beautifulsoup4-4.6.3:\n",
            "      Successfully uninstalled beautifulsoup4-4.6.3\n",
            "Successfully installed JPype1-1.3.0 Konlpy-0.5.2 beautifulsoup4-4.6.0 colorama-0.4.4\n"
          ],
          "name": "stdout"
        }
      ]
    },
    {
      "cell_type": "code",
      "metadata": {
        "colab": {
          "base_uri": "https://localhost:8080/",
          "height": 35
        },
        "id": "jKKQf6ynjlb_",
        "outputId": "64d6684c-5c42-4b8e-a5c0-66f82aba5b2b"
      },
      "source": [
        "import konlpy\n",
        "konlpy.__version__"
      ],
      "execution_count": null,
      "outputs": [
        {
          "output_type": "execute_result",
          "data": {
            "application/vnd.google.colaboratory.intrinsic+json": {
              "type": "string"
            },
            "text/plain": [
              "'0.5.2'"
            ]
          },
          "metadata": {
            "tags": []
          },
          "execution_count": 4
        }
      ]
    },
    {
      "cell_type": "code",
      "metadata": {
        "id": "eoGvdKObg-Ue"
      },
      "source": [
        "import matplotlib.pyplot as plt"
      ],
      "execution_count": null,
      "outputs": []
    },
    {
      "cell_type": "code",
      "metadata": {
        "id": "dvYTvHdrke23"
      },
      "source": [
        "from konlpy.tag import Okt\n",
        "import tqdm.notebook as tn"
      ],
      "execution_count": null,
      "outputs": []
    },
    {
      "cell_type": "code",
      "metadata": {
        "colab": {
          "base_uri": "https://localhost:8080/"
        },
        "id": "n-w8SW-jkh7v",
        "outputId": "ac001235-e9d2-4b24-95fb-b703e1114f51"
      },
      "source": [
        "file = open('/content/drive/MyDrive/Colab Notebooks/프로젝트/한경_MLDL_호텔리뷰/코드/korean_stopwords.txt','r',encoding='utf-8')\n",
        "stop_words = file.readlines()\n",
        "stop_words = [x.strip() for x in stop_words]\n",
        "stop_words[:5]"
      ],
      "execution_count": null,
      "outputs": [
        {
          "output_type": "execute_result",
          "data": {
            "text/plain": [
              "['아', '휴', '아이구', '아이쿠', '아이고']"
            ]
          },
          "metadata": {
            "tags": []
          },
          "execution_count": 7
        }
      ]
    },
    {
      "cell_type": "markdown",
      "metadata": {
        "id": "6ChoElanvM6o"
      },
      "source": [
        "### 한글 처리"
      ]
    },
    {
      "cell_type": "code",
      "metadata": {
        "id": "RvrynYO1s8K4"
      },
      "source": [
        "from konlpy.tag import Okt\n",
        "okt = Okt()"
      ],
      "execution_count": null,
      "outputs": []
    },
    {
      "cell_type": "code",
      "metadata": {
        "colab": {
          "base_uri": "https://localhost:8080/"
        },
        "id": "L2VEdBdkuYLz",
        "outputId": "13eb8466-2486-4b02-d465-be0e1d1d1dc2"
      },
      "source": [
        "text = df.review[0]\n",
        "okt.morphs(text,stem=True)"
      ],
      "execution_count": null,
      "outputs": [
        {
          "output_type": "execute_result",
          "data": {
            "text/plain": [
              "['깨끗하다',\n",
              " '위치',\n",
              " '도',\n",
              " '좋다',\n",
              " '구',\n",
              " '성비',\n",
              " '좋다',\n",
              " '다만',\n",
              " '비품',\n",
              " '이',\n",
              " '거의',\n",
              " '없다',\n",
              " '보다',\n",
              " '돼다',\n",
              " '챙기다',\n",
              " '하다']"
            ]
          },
          "metadata": {
            "tags": []
          },
          "execution_count": 9
        }
      ]
    },
    {
      "cell_type": "markdown",
      "metadata": {
        "id": "-yN-GPz90Che"
      },
      "source": [
        "트레인 테스트 세트 나누기"
      ]
    },
    {
      "cell_type": "code",
      "metadata": {
        "id": "_J0fSwgdx9ox"
      },
      "source": [
        "from sklearn.model_selection import train_test_split\n",
        "X_train_df, X_test_df, y_train, y_test = train_test_split(\n",
        "    df.review,df.helpful,test_size=0.2,random_state=2021\n",
        ")"
      ],
      "execution_count": null,
      "outputs": []
    },
    {
      "cell_type": "code",
      "metadata": {
        "colab": {
          "base_uri": "https://localhost:8080/",
          "height": 122,
          "referenced_widgets": [
            "9a23db2e1daa46eaa7728d74eed810e6",
            "6671aea785cc463d8df2c10340788f94",
            "acbc34d457fc43f8936118fc94fe74c6",
            "f1ae9c13c4474fb9adcfb4f327bc818e",
            "c14889b3588b4a059328c988871a6a19",
            "04fdb14d007745c3a0877e66d59f12be",
            "09ab65a9faf348c19b9b556286cc6ad8",
            "2e22d0a5f61b4a75801a9b81fb445bff"
          ]
        },
        "id": "atOPdTVdvatt",
        "outputId": "9930c8d1-249c-47c4-f79f-b9cd293aa3bb"
      },
      "source": [
        "from tqdm import tqdm_notebook\n",
        "\n",
        "X_train = []\n",
        "for sentence in tqdm_notebook(X_train_df):\n",
        "    morphs = okt.morphs(sentence,stem=True)\n",
        "    temp_X = ' '.join([word for word in morphs if not word in stop_words])\n",
        "    X_train.append(temp_X)"
      ],
      "execution_count": null,
      "outputs": [
        {
          "output_type": "stream",
          "text": [
            "/usr/local/lib/python3.7/dist-packages/ipykernel_launcher.py:4: TqdmDeprecationWarning: This function will be removed in tqdm==5.0.0\n",
            "Please use `tqdm.notebook.tqdm` instead of `tqdm.tqdm_notebook`\n",
            "  after removing the cwd from sys.path.\n"
          ],
          "name": "stderr"
        },
        {
          "output_type": "display_data",
          "data": {
            "application/vnd.jupyter.widget-view+json": {
              "model_id": "9a23db2e1daa46eaa7728d74eed810e6",
              "version_minor": 0,
              "version_major": 2
            },
            "text/plain": [
              "HBox(children=(FloatProgress(value=0.0, max=137062.0), HTML(value='')))"
            ]
          },
          "metadata": {
            "tags": []
          }
        },
        {
          "output_type": "stream",
          "text": [
            "\n"
          ],
          "name": "stdout"
        }
      ]
    },
    {
      "cell_type": "code",
      "metadata": {
        "colab": {
          "base_uri": "https://localhost:8080/"
        },
        "id": "y2-4DKJvz8a6",
        "outputId": "96800aa9-e84f-4c29-9e8a-1e20e1576059"
      },
      "source": [
        "X_train[:5]"
      ],
      "execution_count": null,
      "outputs": [
        {
          "output_type": "execute_result",
          "data": {
            "text/plain": [
              "['좋다 좋다 좋다',\n",
              " '깔끔하다 좋다',\n",
              " '깔끔하다 깨끗하다',\n",
              " '직원 분들 도 친절하다 시설 도 깨끗하다 역시 5 성 급 호텔 이라는 생각 들다 별 3 개 준 이유 는 습격 미니바 때문 이다 미니바 포함 사항 잭 대니엘 코냑 포함 되어다 막상 보다 한 모금 도 안되다 향수병 만 한 잭 대니엘 코냑 속 았 달다 기분 들어서다 썩 기분 좋다 않다 상세 설명 해당 음료 정확하다 용량 표시 하다 필요하다 보이다',\n",
              " '항상 쾌적하다']"
            ]
          },
          "metadata": {
            "tags": []
          },
          "execution_count": 12
        }
      ]
    },
    {
      "cell_type": "code",
      "metadata": {
        "colab": {
          "base_uri": "https://localhost:8080/",
          "height": 122,
          "referenced_widgets": [
            "6654383f618740f599b099f87a1bb8ec",
            "0335632a3da6497494c018f2b8aeaa53",
            "9ae3f7d2acf744d187c86b374ce31066",
            "3d6a0e9c41eb41e3a6c38d4973ec5aa2",
            "8f2452562ccd4eb58adb1f2f0bd343f3",
            "6e970a7db32241b984c923283f4a4470",
            "1a9aedfab04644988510b3b86c720934",
            "7c9950d40ac94b5fb688bc714a12c613"
          ]
        },
        "id": "puZRjAIy0IUa",
        "outputId": "bbd54a69-67b0-45a0-d4e2-9c3ed9bc0b81"
      },
      "source": [
        "X_test = []\n",
        "for sentence in tqdm_notebook(X_test_df):\n",
        "    morphs = okt.morphs(sentence,stem=True)\n",
        "    temp_X = ' '.join([word for word in morphs if not word in stop_words])\n",
        "    X_test.append(temp_X)"
      ],
      "execution_count": null,
      "outputs": [
        {
          "output_type": "stream",
          "text": [
            "/usr/local/lib/python3.7/dist-packages/ipykernel_launcher.py:2: TqdmDeprecationWarning: This function will be removed in tqdm==5.0.0\n",
            "Please use `tqdm.notebook.tqdm` instead of `tqdm.tqdm_notebook`\n",
            "  \n"
          ],
          "name": "stderr"
        },
        {
          "output_type": "display_data",
          "data": {
            "application/vnd.jupyter.widget-view+json": {
              "model_id": "6654383f618740f599b099f87a1bb8ec",
              "version_minor": 0,
              "version_major": 2
            },
            "text/plain": [
              "HBox(children=(FloatProgress(value=0.0, max=34266.0), HTML(value='')))"
            ]
          },
          "metadata": {
            "tags": []
          }
        },
        {
          "output_type": "stream",
          "text": [
            "\n"
          ],
          "name": "stdout"
        }
      ]
    },
    {
      "cell_type": "code",
      "metadata": {
        "colab": {
          "base_uri": "https://localhost:8080/"
        },
        "id": "6rbd5wWZ0PWA",
        "outputId": "5c22a0ed-7fc0-40a0-b189-7b10f21eab26"
      },
      "source": [
        "X_test[:5]"
      ],
      "execution_count": null,
      "outputs": [
        {
          "output_type": "execute_result",
          "data": {
            "text/plain": [
              "['위치 다 좋다 깔끔하다 샴푸 바디 워시 향 은 개인 적 별로 에요 포근하다 푹 자다 쉬 고 오다 주 차비 만원 넘다 나오다 가시다 분 감안 하다 영등포 위치 는 최고 좋다 조용하다 쉬다 기도 좋다 깔끔하다 좋아하다 추천',\n",
              " '좋다',\n",
              " '부티크 호텔 이라 방 마다 편차 크다 듯',\n",
              " '베스트 오브 베스트 ㅋㅋㅋㅋ',\n",
              " '욕조 없다 아쉽다 사진 보이다 방 사이즈 크다 티백 도 신경 써다 고르다 기분 좋다 생수 도 부족하다 프론트 무료 더 주 고요 더 보기']"
            ]
          },
          "metadata": {
            "tags": []
          },
          "execution_count": 14
        }
      ]
    },
    {
      "cell_type": "code",
      "metadata": {
        "id": "KuV1sRyi0bcw"
      },
      "source": [
        "import numpy as np\n",
        "import pandas as pd\n",
        "import tensorflow as tf\n",
        "\n",
        "seed = 2021\n",
        "np.random.seed(seed)\n",
        "tf.random.set_seed(seed)"
      ],
      "execution_count": null,
      "outputs": []
    },
    {
      "cell_type": "code",
      "metadata": {
        "id": "xAfnJnjp0dQQ"
      },
      "source": [
        "from tensorflow.keras.preprocessing.sequence import pad_sequences\n",
        "from tensorflow.keras.models import Sequential, load_model\n",
        "from tensorflow.keras.layers import Embedding, LSTM, Dense, Conv1D, Dropout, MaxPooling1D\n",
        "from tensorflow.keras.callbacks import ModelCheckpoint, EarlyStopping\n",
        "from tensorflow.keras.preprocessing.text import Tokenizer"
      ],
      "execution_count": null,
      "outputs": []
    },
    {
      "cell_type": "code",
      "metadata": {
        "id": "Nw1ZxPwn0iWg"
      },
      "source": [
        "max_words = 30000\n",
        "tokenizer = Tokenizer(num_words=max_words)\n",
        "tokenizer.fit_on_texts(X_train)\n",
        "X_train = tokenizer.texts_to_sequences(X_train)\n",
        "X_test = tokenizer.texts_to_sequences(X_test)"
      ],
      "execution_count": null,
      "outputs": []
    },
    {
      "cell_type": "code",
      "metadata": {
        "colab": {
          "base_uri": "https://localhost:8080/"
        },
        "id": "hVKf6nGM2YWp",
        "outputId": "5851de9c-3feb-4406-b251-43e37a2927ba"
      },
      "source": [
        "X_train[:3]"
      ],
      "execution_count": null,
      "outputs": [
        {
          "output_type": "execute_result",
          "data": {
            "text/plain": [
              "[[1, 1, 1], [13, 1], [13, 8]]"
            ]
          },
          "metadata": {
            "tags": []
          },
          "execution_count": 18
        }
      ]
    },
    {
      "cell_type": "code",
      "metadata": {
        "colab": {
          "base_uri": "https://localhost:8080/"
        },
        "id": "70C1MqS82Zeg",
        "outputId": "2d09ad35-c9ae-44ab-bcb0-880dc50fe616"
      },
      "source": [
        "# 전체 데이터의 길이 분포\n",
        "print('최대 길이 : ', max(len(l) for l in X_train))\n",
        "print('평균 길이 : ', sum(map(len,X_train)) / len(X_train))"
      ],
      "execution_count": null,
      "outputs": [
        {
          "output_type": "stream",
          "text": [
            "최대 길이 :  224\n",
            "평균 길이 :  16.019538602968\n"
          ],
          "name": "stdout"
        }
      ]
    },
    {
      "cell_type": "code",
      "metadata": {
        "id": "SMoUIRHr2a_B"
      },
      "source": [
        "max_len = 30\n",
        "X_train = pad_sequences(X_train,maxlen=max_len)\n",
        "X_test = pad_sequences(X_test,maxlen = max_len)"
      ],
      "execution_count": null,
      "outputs": []
    },
    {
      "cell_type": "code",
      "metadata": {
        "colab": {
          "base_uri": "https://localhost:8080/"
        },
        "id": "z_8RACXp2eJY",
        "outputId": "ad3d3d54-fca4-4dff-b8e6-19d22e96d099"
      },
      "source": [
        "model = Sequential([\n",
        "                    Embedding(max_words,100),\n",
        "                    LSTM(128),\n",
        "                    Dense(1,activation=\"sigmoid\")\n",
        "])\n",
        "model.summary()"
      ],
      "execution_count": null,
      "outputs": [
        {
          "output_type": "stream",
          "text": [
            "Model: \"sequential\"\n",
            "_________________________________________________________________\n",
            "Layer (type)                 Output Shape              Param #   \n",
            "=================================================================\n",
            "embedding (Embedding)        (None, None, 100)         3000000   \n",
            "_________________________________________________________________\n",
            "lstm (LSTM)                  (None, 128)               117248    \n",
            "_________________________________________________________________\n",
            "dense (Dense)                (None, 1)                 129       \n",
            "=================================================================\n",
            "Total params: 3,117,377\n",
            "Trainable params: 3,117,377\n",
            "Non-trainable params: 0\n",
            "_________________________________________________________________\n"
          ],
          "name": "stdout"
        }
      ]
    },
    {
      "cell_type": "code",
      "metadata": {
        "id": "STr3T0oMSrCe"
      },
      "source": [
        "mc = ModelCheckpoint('hotel_lstm_best.h5',save_best_only=True)"
      ],
      "execution_count": null,
      "outputs": []
    },
    {
      "cell_type": "code",
      "metadata": {
        "id": "h505KFwd2x1T"
      },
      "source": [
        "model.compile(optimizer='adam',loss='binary_crossentropy', metrics=['accuracy'])"
      ],
      "execution_count": null,
      "outputs": []
    },
    {
      "cell_type": "code",
      "metadata": {
        "colab": {
          "base_uri": "https://localhost:8080/"
        },
        "id": "itDCsbNJ2yQZ",
        "outputId": "1f619905-2ef9-4eec-c16e-1a095c1578eb"
      },
      "source": [
        "history = model.fit(X_train, y_train, validation_split=0.2, batch_size=60, epochs=4, callbacks=[mc] )"
      ],
      "execution_count": null,
      "outputs": [
        {
          "output_type": "stream",
          "text": [
            "Epoch 1/4\n",
            "1828/1828 [==============================] - 66s 31ms/step - loss: 0.1309 - accuracy: 0.9446 - val_loss: 0.1021 - val_accuracy: 0.9527\n",
            "Epoch 2/4\n",
            "1828/1828 [==============================] - 56s 31ms/step - loss: 0.0908 - accuracy: 0.9604 - val_loss: 0.0988 - val_accuracy: 0.9541\n",
            "Epoch 3/4\n",
            "1828/1828 [==============================] - 53s 29ms/step - loss: 0.0768 - accuracy: 0.9669 - val_loss: 0.1084 - val_accuracy: 0.9529\n",
            "Epoch 4/4\n",
            "1828/1828 [==============================] - 53s 29ms/step - loss: 0.0610 - accuracy: 0.9741 - val_loss: 0.1213 - val_accuracy: 0.9502\n"
          ],
          "name": "stdout"
        }
      ]
    },
    {
      "cell_type": "code",
      "metadata": {
        "colab": {
          "base_uri": "https://localhost:8080/"
        },
        "id": "u2VAHAyN23zp",
        "outputId": "54b30b9c-322f-48b8-a513-9d1a52d2ce23"
      },
      "source": [
        "best_model = load_model('hotel_lstm_best.h5')\n",
        "best_model.evaluate(X_test, y_test)"
      ],
      "execution_count": null,
      "outputs": [
        {
          "output_type": "stream",
          "text": [
            "1071/1071 [==============================] - 4s 3ms/step - loss: 0.0981 - accuracy: 0.9545\n"
          ],
          "name": "stdout"
        },
        {
          "output_type": "execute_result",
          "data": {
            "text/plain": [
              "[0.09813550859689713, 0.9544737935066223]"
            ]
          },
          "metadata": {
            "tags": []
          },
          "execution_count": 25
        }
      ]
    },
    {
      "cell_type": "code",
      "metadata": {
        "id": "1m0rjDTdsR_X"
      },
      "source": [
        "import seaborn as sns"
      ],
      "execution_count": null,
      "outputs": []
    },
    {
      "cell_type": "code",
      "metadata": {
        "colab": {
          "base_uri": "https://localhost:8080/",
          "height": 227
        },
        "id": "kz_DZLeLgzMG",
        "outputId": "0b2d07f5-a071-42bb-d643-c3b823d76614"
      },
      "source": [
        "y_pred = model.predict(X_test)\n",
        "\n",
        "from sklearn.metrics import confusion_matrix\n",
        "\n",
        "confu = confusion_matrix(y_true = y_test, y_pred = np.round(y_pred,0))\n",
        "\n",
        "plt.figure(figsize=(4, 3))\n",
        "sns.heatmap(confu, annot=True, annot_kws={'size':15}, cmap='OrRd', fmt='.10g')\n",
        "plt.title('Confusion Matrix')\n",
        "plt.show()\n"
      ],
      "execution_count": null,
      "outputs": [
        {
          "output_type": "display_data",
          "data": {
            "image/png": "[encoded data removed]",
            "text/plain": [
              "<Figure size 288x216 with 2 Axes>"
            ]
          },
          "metadata": {
            "tags": [],
            "needs_background": "light"
          }
        }
      ]
    },
    {
      "cell_type": "markdown",
      "metadata": {
        "id": "Tw_H1M6D6eFa"
      },
      "source": [
        "\n",
        "\n",
        "---\n",
        "\n"
      ]
    },
    {
      "cell_type": "code",
      "metadata": {
        "id": "V_jXCsxW4-9V"
      },
      "source": [
        "from tensorflow.keras.layers import GRU"
      ],
      "execution_count": null,
      "outputs": []
    },
    {
      "cell_type": "code",
      "metadata": {
        "colab": {
          "base_uri": "https://localhost:8080/"
        },
        "id": "0VaLjdRO6mfx",
        "outputId": "fd60a6d2-6f07-4cd3-b3d7-44d833d0d323"
      },
      "source": [
        "model2 = Sequential([\n",
        "                    Embedding(max_words,100),\n",
        "                    LSTM(256),\n",
        "                    Dense(1,activation=\"sigmoid\")\n",
        "])\n",
        "model2.summary()"
      ],
      "execution_count": null,
      "outputs": [
        {
          "output_type": "stream",
          "text": [
            "Model: \"sequential_2\"\n",
            "_________________________________________________________________\n",
            "Layer (type)                 Output Shape              Param #   \n",
            "=================================================================\n",
            "embedding_2 (Embedding)      (None, None, 100)         3000000   \n",
            "_________________________________________________________________\n",
            "lstm_3 (LSTM)                (None, 256)               365568    \n",
            "_________________________________________________________________\n",
            "dense_2 (Dense)              (None, 1)                 257       \n",
            "=================================================================\n",
            "Total params: 3,365,825\n",
            "Trainable params: 3,365,825\n",
            "Non-trainable params: 0\n",
            "_________________________________________________________________\n"
          ],
          "name": "stdout"
        }
      ]
    },
    {
      "cell_type": "code",
      "metadata": {
        "id": "dohTMuYi6prp"
      },
      "source": [
        "model2.compile(optimizer='adam',loss='binary_crossentropy', metrics=['accuracy'])"
      ],
      "execution_count": null,
      "outputs": []
    },
    {
      "cell_type": "code",
      "metadata": {
        "colab": {
          "base_uri": "https://localhost:8080/"
        },
        "id": "juo1jd3g6r5N",
        "outputId": "7584ae67-3949-4341-f2bb-1a29c2c0e4ee"
      },
      "source": [
        "history2 = model2.fit(X_train, y_train, validation_split=0.2, batch_size=60, epochs=4)"
      ],
      "execution_count": null,
      "outputs": [
        {
          "output_type": "stream",
          "text": [
            "Epoch 1/4\n",
            "1828/1828 [==============================] - 60s 32ms/step - loss: 0.1326 - accuracy: 0.9440 - val_loss: 0.1041 - val_accuracy: 0.9515\n",
            "Epoch 2/4\n",
            "1828/1828 [==============================] - 57s 31ms/step - loss: 0.0922 - accuracy: 0.9601 - val_loss: 0.0986 - val_accuracy: 0.9544\n",
            "Epoch 3/4\n",
            "1828/1828 [==============================] - 57s 31ms/step - loss: 0.0779 - accuracy: 0.9668 - val_loss: 0.1094 - val_accuracy: 0.9531\n",
            "Epoch 4/4\n",
            "1828/1828 [==============================] - 57s 31ms/step - loss: 0.0619 - accuracy: 0.9740 - val_loss: 0.1217 - val_accuracy: 0.9520\n"
          ],
          "name": "stdout"
        }
      ]
    },
    {
      "cell_type": "code",
      "metadata": {
        "colab": {
          "base_uri": "https://localhost:8080/"
        },
        "id": "61JIaJ-V6tQJ",
        "outputId": "54485863-20ea-43b5-c0a2-703572a2e8a3"
      },
      "source": [
        "model2.evaluate(X_test, y_test)"
      ],
      "execution_count": null,
      "outputs": [
        {
          "output_type": "stream",
          "text": [
            "1071/1071 [==============================] - 4s 3ms/step - loss: 0.1237 - accuracy: 0.9512\n"
          ],
          "name": "stdout"
        },
        {
          "output_type": "execute_result",
          "data": {
            "text/plain": [
              "[0.12370797991752625, 0.9512052536010742]"
            ]
          },
          "metadata": {
            "tags": []
          },
          "execution_count": 37
        }
      ]
    },
    {
      "cell_type": "code",
      "metadata": {
        "colab": {
          "base_uri": "https://localhost:8080/",
          "height": 227
        },
        "id": "KlBUgCtpt0Uf",
        "outputId": "97a66812-8cec-44c2-f872-4b730f6d23aa"
      },
      "source": [
        "y_pred = model2.predict(X_test)\n",
        "\n",
        "from sklearn.metrics import confusion_matrix\n",
        "\n",
        "confu = confusion_matrix(y_true = y_test, y_pred = np.round(y_pred,0))\n",
        "\n",
        "plt.figure(figsize=(4, 3))\n",
        "sns.heatmap(confu, annot=True, annot_kws={'size':15}, cmap='OrRd', fmt='.10g')\n",
        "plt.title('Confusion Matrix')\n",
        "plt.show()"
      ],
      "execution_count": null,
      "outputs": [
        {
          "output_type": "display_data",
          "data": {
            "image/png": "[encoded data removed]",
            "text/plain": [
              "<Figure size 288x216 with 2 Axes>"
            ]
          },
          "metadata": {
            "tags": [],
            "needs_background": "light"
          }
        }
      ]
    },
    {
      "cell_type": "markdown",
      "metadata": {
        "id": "GemUJKZ_9bS7"
      },
      "source": [
        "\n",
        "\n",
        "---\n",
        "\n"
      ]
    },
    {
      "cell_type": "code",
      "metadata": {
        "id": "JJlbqRJ1uCHl"
      },
      "source": [
        "from tensorflow.keras.layers import Conv1D, Dropout, MaxPooling1D,GRU"
      ],
      "execution_count": null,
      "outputs": []
    },
    {
      "cell_type": "code",
      "metadata": {
        "colab": {
          "base_uri": "https://localhost:8080/"
        },
        "id": "MoMXe8xGM3T8",
        "outputId": "a2acd074-c93b-48c8-e724-28b4201188e0"
      },
      "source": [
        "model3 = Sequential([\n",
        "    Embedding(max_words,100),\n",
        "    Dropout(0.5),\n",
        "    Conv1D(64, 5, activation='relu'),\n",
        "    MaxPooling1D(pool_size=4),\n",
        "    GRU(60),\n",
        "    Dense(1, activation='sigmoid')\n",
        "])\n",
        "model3.summary()"
      ],
      "execution_count": null,
      "outputs": [
        {
          "output_type": "stream",
          "text": [
            "Model: \"sequential_3\"\n",
            "_________________________________________________________________\n",
            "Layer (type)                 Output Shape              Param #   \n",
            "=================================================================\n",
            "embedding_4 (Embedding)      (None, None, 100)         3000000   \n",
            "_________________________________________________________________\n",
            "dropout_1 (Dropout)          (None, None, 100)         0         \n",
            "_________________________________________________________________\n",
            "conv1d_1 (Conv1D)            (None, None, 64)          32064     \n",
            "_________________________________________________________________\n",
            "max_pooling1d_1 (MaxPooling1 (None, None, 64)          0         \n",
            "_________________________________________________________________\n",
            "gru (GRU)                    (None, 60)                22680     \n",
            "_________________________________________________________________\n",
            "dense_3 (Dense)              (None, 1)                 61        \n",
            "=================================================================\n",
            "Total params: 3,054,805\n",
            "Trainable params: 3,054,805\n",
            "Non-trainable params: 0\n",
            "_________________________________________________________________\n"
          ],
          "name": "stdout"
        }
      ]
    },
    {
      "cell_type": "code",
      "metadata": {
        "id": "mPkB7rA-M3UA"
      },
      "source": [
        "model3.compile(optimizer='adam',loss='binary_crossentropy', metrics=['accuracy'])"
      ],
      "execution_count": null,
      "outputs": []
    },
    {
      "cell_type": "code",
      "metadata": {
        "colab": {
          "base_uri": "https://localhost:8080/"
        },
        "id": "pETrjOuwM3UC",
        "outputId": "c08ca181-e88a-46b3-eaa1-d70ed5ebcabe"
      },
      "source": [
        "history = model3.fit(X_train, y_train, validation_split=0.2, batch_size=100, epochs=10, )"
      ],
      "execution_count": null,
      "outputs": [
        {
          "output_type": "stream",
          "text": [
            "Epoch 1/10\n",
            "1097/1097 [==============================] - 61s 30ms/step - loss: 0.2110 - accuracy: 0.9152 - val_loss: 0.1777 - val_accuracy: 0.9285\n",
            "Epoch 2/10\n",
            "1097/1097 [==============================] - 32s 29ms/step - loss: 0.1602 - accuracy: 0.9374 - val_loss: 0.1715 - val_accuracy: 0.9317\n",
            "Epoch 3/10\n",
            "1097/1097 [==============================] - 32s 29ms/step - loss: 0.1421 - accuracy: 0.9462 - val_loss: 0.1825 - val_accuracy: 0.9304\n",
            "Epoch 4/10\n",
            "1097/1097 [==============================] - 32s 29ms/step - loss: 0.1262 - accuracy: 0.9536 - val_loss: 0.1901 - val_accuracy: 0.9249\n",
            "Epoch 5/10\n",
            "1097/1097 [==============================] - 32s 29ms/step - loss: 0.1132 - accuracy: 0.9595 - val_loss: 0.1995 - val_accuracy: 0.9250\n",
            "Epoch 6/10\n",
            "1097/1097 [==============================] - 32s 29ms/step - loss: 0.1023 - accuracy: 0.9644 - val_loss: 0.2155 - val_accuracy: 0.9262\n",
            "Epoch 7/10\n",
            "1097/1097 [==============================] - 32s 29ms/step - loss: 0.0922 - accuracy: 0.9689 - val_loss: 0.2279 - val_accuracy: 0.9227\n",
            "Epoch 8/10\n",
            "1097/1097 [==============================] - 32s 29ms/step - loss: 0.0867 - accuracy: 0.9707 - val_loss: 0.2409 - val_accuracy: 0.9259\n",
            "Epoch 9/10\n",
            "1097/1097 [==============================] - 32s 29ms/step - loss: 0.0809 - accuracy: 0.9726 - val_loss: 0.2520 - val_accuracy: 0.9219\n",
            "Epoch 10/10\n",
            "1097/1097 [==============================] - 32s 29ms/step - loss: 0.0761 - accuracy: 0.9749 - val_loss: 0.2843 - val_accuracy: 0.9199\n"
          ],
          "name": "stdout"
        }
      ]
    },
    {
      "cell_type": "code",
      "metadata": {
        "colab": {
          "base_uri": "https://localhost:8080/"
        },
        "id": "vnSn-D4CM3UD",
        "outputId": "9a7dd20d-caac-43ac-ea11-74e85e7f0477"
      },
      "source": [
        "model3.evaluate(X_test, y_test)"
      ],
      "execution_count": null,
      "outputs": [
        {
          "output_type": "stream",
          "text": [
            "1071/1071 [==============================] - 3s 2ms/step - loss: 0.2836 - accuracy: 0.9204\n"
          ],
          "name": "stdout"
        },
        {
          "output_type": "execute_result",
          "data": {
            "text/plain": [
              "[0.2836180329322815, 0.9203875660896301]"
            ]
          },
          "metadata": {
            "tags": []
          },
          "execution_count": 45
        }
      ]
    },
    {
      "cell_type": "markdown",
      "metadata": {
        "id": "3uXTk_47d-Rt"
      },
      "source": [
        "\n",
        "\n",
        "---\n",
        "\n"
      ]
    },
    {
      "cell_type": "code",
      "metadata": {
        "id": "GtaBzrF2dXCN"
      },
      "source": [
        "import re\n",
        "from konlpy.tag import Okt\n",
        "from collections import Counter\n",
        "\n",
        "def apply_regular_expression(text):\n",
        "    hangul = re.compile('[^ ㄱ-ㅣ 가-힣]')  # 한글 추출 규칙: 띄어 쓰기(1 개)를 포함한 한글\n",
        "    result = hangul.sub('', text)  # 위에 설정한 \"hangul\"규칙을 \"text\"에 적용(.sub)시킴\n",
        "    return result\n",
        "\n",
        "okt = Okt()\n",
        "nouns = okt.nouns(apply_regular_expression(df['review'][0]))\n",
        "corpus = \"\".join(df['review'].tolist())\n",
        "nouns = okt.nouns(apply_regular_expression(corpus))\n"
      ],
      "execution_count": null,
      "outputs": []
    },
    {
      "cell_type": "code",
      "metadata": {
        "id": "wRqfHU8wfnbu"
      },
      "source": [
        "counter = Counter(nouns)\n",
        "counter.most_common(10)"
      ],
      "execution_count": null,
      "outputs": []
    },
    {
      "cell_type": "code",
      "metadata": {
        "id": "0QP13QR8lL9d"
      },
      "source": [
        "# 한글자 명사 제거\n",
        "available_counter = Counter({x: counter[x] for x in counter if len(x) > 1})\n",
        "available_counter.most_common(10)"
      ],
      "execution_count": null,
      "outputs": []
    },
    {
      "cell_type": "code",
      "metadata": {
        "id": "vOrFZt7NlTVW"
      },
      "source": [
        "stop_words[:5]"
      ],
      "execution_count": null,
      "outputs": []
    },
    {
      "cell_type": "code",
      "metadata": {
        "id": "zJdAYy6OlXLy"
      },
      "source": [
        "# Bow 벡터 생성\n",
        "\n",
        "from sklearn.feature_extraction.text import CountVectorizer\n",
        "\n",
        "def text_cleaning(text):\n",
        "    hangul = re.compile('[^ ㄱ-ㅣ 가-힣]')  # 정규 표현식 처리\n",
        "    result = hangul.sub('', text)\n",
        "    okt = Okt()  # 형태소 추출\n",
        "    nouns = okt.nouns(result)\n",
        "    nouns = [x for x in nouns if len(x) > 1]  # 한글자 키워드 제거\n",
        "    nouns = [x for x in nouns if x not in stop_words]  # 불용어 제거\n",
        "    return nouns\n",
        "\n",
        "vect = CountVectorizer(tokenizer = lambda x: text_cleaning(x))\n",
        "bow_vect = vect.fit_transform(df['review'].tolist())\n",
        "word_list = vect.get_feature_names()\n",
        "count_list = bow_vect.toarray().sum(axis=0)"
      ],
      "execution_count": null,
      "outputs": []
    },
    {
      "cell_type": "code",
      "metadata": {
        "id": "5eWtUY-jle4Y"
      },
      "source": [
        "bow_vect.toarray()\n",
        "bow_vect.shape"
      ],
      "execution_count": null,
      "outputs": []
    },
    {
      "cell_type": "code",
      "metadata": {
        "id": "CwcqnxpMmm0m"
      },
      "source": [
        "word_count_dict = dict(zip(word_list, count_list))"
      ],
      "execution_count": null,
      "outputs": []
    },
    {
      "cell_type": "code",
      "metadata": {
        "id": "00Vw5C1hmoYu"
      },
      "source": [
        "# TF-IDF 적용\n",
        "from sklearn.feature_extraction.text import TfidfTransformer\n",
        "\n",
        "tfidf_vectorizer = TfidfTransformer()\n",
        "tf_idf_vect = tfidf_vectorizer.fit_transform(bow_vect)\n",
        "\n",
        "print(tf_idf_vect.shape)"
      ],
      "execution_count": null,
      "outputs": []
    },
    {
      "cell_type": "code",
      "metadata": {
        "id": "N-vC3eunmsiu"
      },
      "source": [
        "# 첫 번째 리뷰에서의 단어 중요도(TF-IDF 값) -- 0이 아닌 것만 출력\n",
        "print(tf_idf_vect[0])\n"
      ],
      "execution_count": null,
      "outputs": []
    }
  ]
}