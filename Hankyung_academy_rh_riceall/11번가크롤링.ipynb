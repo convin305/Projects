{
 "cells": [
  {
   "cell_type": "code",
   "execution_count": 44,
   "source": [
    "import time\r\n",
    "\r\n",
    "# 찾고자 하는 링크를 드라이버에게 전달 \r\n",
    "driver.get('https://www.11st.co.kr/products/1644144419?utm_medium=%EF%A7%8F%E2%91%A4%EF%BF%BD%EF%BF%BD%EC%87%B1%EF%BF%BD%EF%BF%BD%EF%BF%BD%EF%BF%BD&utm_campaign=%E8%8D%91%EF%BF%BD%EF%BF%BD%EA%B3%97%EA%B0%90%EF%BF%BD%EF%BF%BD%26gt%3BCPS%26gt%3B%E8%B8%B0%EF%BF%BD%EF%BF%BD%E3%85%BD%EF%BF%BD%EF%BF%BDAPI&utm_source=%E8%8D%91%EF%BF%BD%EF%BF%BD%EA%B3%97%EA%B0%90%EF%BF%BD%EF%BF%BD_M_AP&code=1542&utm_term=')\r\n",
    "\r\n",
    "# 혹시 모르니 스크롤 부터 조정해서 맨 밑으로 내리고 \r\n",
    "SCROLL_PAUSE_SEC = 1\r\n",
    "# 스크롤 높이 가져옴\r\n",
    "last_height = driver.execute_script(\"return document.body.scrollHeight\")\r\n",
    "\r\n",
    "while True:\r\n",
    "    # 끝까지 스크롤 다운\r\n",
    "    driver.execute_script(\"window.scrollTo(0, document.body.scrollHeight);\")\r\n",
    "\r\n",
    "    # 1초 대기\r\n",
    "    time.sleep(SCROLL_PAUSE_SEC)\r\n",
    "\r\n",
    "    # 스크롤 다운 후 스크롤 높이 다시 가져옴\r\n",
    "    new_height = driver.execute_script(\"return document.body.scrollHeight\")\r\n",
    "    if new_height == last_height:\r\n",
    "        break\r\n",
    "    last_height = new_height"
   ],
   "outputs": [],
   "metadata": {}
  },
  {
   "cell_type": "code",
   "execution_count": 52,
   "source": [
    "'''\r\n",
    "copy css selector를 했음에도 불구하고 자꾸 요소를 못찾았던 건 사이트 안에 또 다른 사이트가 있어서 그랬던 것. \r\n",
    "그래서 일단 frame을 찾고, 그 프레임 종류들 중에서 리뷰가 있을 것 같은 ifrmReview로 이동\r\n",
    "'''\r\n",
    "iframes = driver.find_elements_by_css_selector('iframe')\r\n",
    "for i in iframes:\r\n",
    "    print(i.get_attribute('name'))"
   ],
   "outputs": [
    {
     "output_type": "stream",
     "name": "stdout",
     "text": [
      "prdBbsIfrm\n",
      "prdDescIfrm\n",
      "ifrmReview\n",
      "ifrmQnA\n",
      "hiddenProcessId\n"
     ]
    }
   ],
   "metadata": {}
  },
  {
   "cell_type": "code",
   "execution_count": 53,
   "source": [
    "driver.switch_to_frame('ifrmReview')"
   ],
   "outputs": [
    {
     "output_type": "stream",
     "name": "stderr",
     "text": [
      "<ipython-input-53-d698f72d99da>:1: DeprecationWarning: use driver.switch_to.frame instead\n",
      "  driver.switch_to_frame('ifrmReview')\n"
     ]
    }
   ],
   "metadata": {}
  },
  {
   "cell_type": "code",
   "execution_count": 56,
   "source": [
    "# 이제 리뷰에서 copy > copy_selector로 해서 나온 요소들로 for문 돌려가면서 찾을 수 있음. \r\n",
    "\r\n",
    "# 아이디 찾기 예시\r\n",
    "id_list = []\r\n",
    "\r\n",
    "for i in range(1,21):\r\n",
    "    id = driver.find_element_by_css_selector(f'#review-list-page-area > ul > li:nth-child({i}) > dl > dt').text\r\n",
    "    id_list.append(id)\r\n",
    "\r\n",
    "id_list"
   ],
   "outputs": [
    {
     "data": {
      "text/plain": [
       "['cjh0***',\n",
       " '연탄콩이',\n",
       " 'wkd3**',\n",
       " 'bmnt****',\n",
       " 'poi8***',\n",
       " '신라면신',\n",
       " 'love*******',\n",
       " 'mark*******',\n",
       " 'nato*****',\n",
       " 'hell****',\n",
       " 'bban*****',\n",
       " 'thdu*****',\n",
       " 'hell****',\n",
       " 'gang***',\n",
       " 'k229*****',\n",
       " 'hell****',\n",
       " 'suee****',\n",
       " 'desi*****',\n",
       " 'desi*****',\n",
       " 'bmnt****']"
      ]
     },
     "metadata": {},
     "output_type": "display_data"
    }
   ],
   "metadata": {}
  }
 ],
 "metadata": {
  "orig_nbformat": 4,
  "language_info": {
   "name": "python"
  }
 },
 "nbformat": 4,
 "nbformat_minor": 2
}