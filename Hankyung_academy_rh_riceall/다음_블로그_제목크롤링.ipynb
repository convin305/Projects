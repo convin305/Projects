{
 "cells": [
  {
   "cell_type": "markdown",
   "source": [
    "# 다음 블로그 제목 크롤링"
   ],
   "metadata": {}
  },
  {
   "cell_type": "code",
   "execution_count": 1,
   "source": [
    "import requests\r\n",
    "from urllib.parse import quote"
   ],
   "outputs": [],
   "metadata": {}
  },
  {
   "cell_type": "code",
   "execution_count": 30,
   "source": [
    "import selenium\r\n",
    "from selenium import webdriver\r\n",
    "\r\n",
    "path = 'chromedriver.exe'\r\n",
    "driver = webdriver.Chrome(path)"
   ],
   "outputs": [],
   "metadata": {}
  },
  {
   "cell_type": "code",
   "execution_count": 31,
   "source": [
    "search = \"농협 쌀\"\r\n",
    "text = quote(search)\r\n",
    "\r\n",
    "driver.get(f'https://search.daum.net/search?w=blog&nil_search=btn&DA=NTB&enc=utf8&q={text}')\r\n",
    "\r\n",
    "title_list = []"
   ],
   "outputs": [],
   "metadata": {}
  },
  {
   "cell_type": "code",
   "execution_count": 19,
   "source": [
    "a = driver.find_elements_by_css_selector('#blogColl > div.coll_cont > ul > li')\r\n",
    "a"
   ],
   "outputs": [
    {
     "output_type": "execute_result",
     "data": {
      "text/plain": [
       "[<selenium.webdriver.remote.webelement.WebElement (session=\"c03425b77e6b1db17031e4291e473ac3\", element=\"dfdef85a-cdd7-4063-907f-dac2ea2d8302\")>,\n",
       " <selenium.webdriver.remote.webelement.WebElement (session=\"c03425b77e6b1db17031e4291e473ac3\", element=\"a7e19781-5a59-4668-8aa2-28e37eec431b\")>,\n",
       " <selenium.webdriver.remote.webelement.WebElement (session=\"c03425b77e6b1db17031e4291e473ac3\", element=\"d3ada614-647b-4c3f-8690-4b889cdc5e30\")>,\n",
       " <selenium.webdriver.remote.webelement.WebElement (session=\"c03425b77e6b1db17031e4291e473ac3\", element=\"67225e30-9189-48da-9c49-683573bbb3fc\")>,\n",
       " <selenium.webdriver.remote.webelement.WebElement (session=\"c03425b77e6b1db17031e4291e473ac3\", element=\"fa07e910-960f-4718-aa76-64855c3332da\")>,\n",
       " <selenium.webdriver.remote.webelement.WebElement (session=\"c03425b77e6b1db17031e4291e473ac3\", element=\"e859470f-a6f1-4fb1-9936-1c185469b32f\")>,\n",
       " <selenium.webdriver.remote.webelement.WebElement (session=\"c03425b77e6b1db17031e4291e473ac3\", element=\"139ea2c4-133d-45bb-89ab-b2a90ee96db6\")>,\n",
       " <selenium.webdriver.remote.webelement.WebElement (session=\"c03425b77e6b1db17031e4291e473ac3\", element=\"f1b49e04-1bdf-474f-a6cf-a4ca94d8a2ff\")>,\n",
       " <selenium.webdriver.remote.webelement.WebElement (session=\"c03425b77e6b1db17031e4291e473ac3\", element=\"9e9bc0a6-ed7a-4f7c-8d01-9862395f043b\")>,\n",
       " <selenium.webdriver.remote.webelement.WebElement (session=\"c03425b77e6b1db17031e4291e473ac3\", element=\"a2b79521-8900-4857-b2f2-e178c4e11e8d\")>]"
      ]
     },
     "metadata": {},
     "execution_count": 19
    }
   ],
   "metadata": {}
  },
  {
   "cell_type": "code",
   "execution_count": 24,
   "source": [
    "for i in range(0,len(a)):\r\n",
    "    print(a[i].text.split('\\n')[1])\r\n"
   ],
   "outputs": [
    {
     "output_type": "stream",
     "name": "stdout",
     "text": [
      "김제공덕농협 김제쌀 신동진쌀 상상예찬골드 찰기 예술\n",
      "[YAFF 8기 젤리잼] 7월 자율미션 : 서대문역 농협쌀박물관 방문\n",
      "동송농협 철원오대쌀 즉석밥 간편하고 맛있게 먹기 딱좋았던 간편식\n",
      "간식으로 좋은 과자 추천 / 농협 우리쌀과 검은콩 인절미\n",
      "유기농쌀 김제공덕농협 지평선 김제쌀 퀄리티가 다르다\n",
      "우리 품종 경기미 양평농협 참드림 쌀 vs 고양 가와지 1호 쌀 비교 분석\n",
      "농협 우리쌀인절미스낵&검은콩인절미스낵 :: 완전추천 :>\n",
      "농협 우리쌀 인절미 스낵\n",
      "황금 메뚜기쌀(창녕군농협) / 쌀10kg / 쌀20kg\n",
      "맛있는 쌀 찰진 안동농협 백진주쌀 내돈내산\n"
     ]
    }
   ],
   "metadata": {}
  },
  {
   "cell_type": "code",
   "execution_count": 33,
   "source": [
    "import time\r\n",
    "\r\n",
    "for i in range(0, 10):\r\n",
    "    a = driver.find_elements_by_css_selector('#blogColl > div.coll_cont > ul > li')\r\n",
    "    for i in range(0,10):\r\n",
    "        title_list.append(a[i].text.split('\\n')[1])\r\n",
    "    driver.find_element_by_css_selector('#pagingArea > span > span:nth-child(3) > a').click()\r\n",
    "    print('클릭 한 번')\r\n",
    "    time.sleep(2)"
   ],
   "outputs": [
    {
     "output_type": "stream",
     "name": "stdout",
     "text": [
      "클릭 한 번\n",
      "클릭 한 번\n",
      "클릭 한 번\n",
      "클릭 한 번\n",
      "클릭 한 번\n",
      "클릭 한 번\n",
      "클릭 한 번\n",
      "클릭 한 번\n",
      "클릭 한 번\n",
      "클릭 한 번\n"
     ]
    },
    {
     "output_type": "error",
     "ename": "AttributeError",
     "evalue": "'list' object has no attribute 'tail'",
     "traceback": [
      "\u001b[1;31m---------------------------------------------------------------------------\u001b[0m",
      "\u001b[1;31mAttributeError\u001b[0m                            Traceback (most recent call last)",
      "\u001b[1;32m<ipython-input-33-413d09e74cc2>\u001b[0m in \u001b[0;36m<module>\u001b[1;34m\u001b[0m\n\u001b[0;32m      9\u001b[0m     \u001b[0mtime\u001b[0m\u001b[1;33m.\u001b[0m\u001b[0msleep\u001b[0m\u001b[1;33m(\u001b[0m\u001b[1;36m2\u001b[0m\u001b[1;33m)\u001b[0m\u001b[1;33m\u001b[0m\u001b[1;33m\u001b[0m\u001b[0m\n\u001b[0;32m     10\u001b[0m \u001b[1;33m\u001b[0m\u001b[0m\n\u001b[1;32m---> 11\u001b[1;33m \u001b[0mtitle_list\u001b[0m\u001b[1;33m.\u001b[0m\u001b[0mtail\u001b[0m\u001b[1;33m(\u001b[0m\u001b[1;33m)\u001b[0m\u001b[1;33m\u001b[0m\u001b[1;33m\u001b[0m\u001b[0m\n\u001b[0m",
      "\u001b[1;31mAttributeError\u001b[0m: 'list' object has no attribute 'tail'"
     ]
    }
   ],
   "metadata": {}
  },
  {
   "cell_type": "code",
   "execution_count": 35,
   "source": [
    "title_list[-5:]"
   ],
   "outputs": [
    {
     "output_type": "execute_result",
     "data": {
      "text/plain": [
       "['순천농협 나누우리 우리 쌀 막걸리',\n",
       " '[영광군농협쌀] 신동진쌀 우리가족을 위한 햅쌀~ 밥맛이 최고입니다.',\n",
       " '찰지고 맛있는 밥을 위한 추천, 안동농협 무농약 백진주쌀',\n",
       " '농협쌀박물관 랜선 쌀요리교실 쌀로 만든 크림 빠에야',\n",
       " '다올찬쌀 농협 당일도정 무료배송쌀']"
      ]
     },
     "metadata": {},
     "execution_count": 35
    }
   ],
   "metadata": {}
  },
  {
   "cell_type": "code",
   "execution_count": null,
   "source": [
    "import pandas as pd\r\n",
    "\r\n",
    "df = pd.DataFrame({'title_list' : title_list})\r\n",
    "df.head()"
   ],
   "outputs": [],
   "metadata": {}
  },
  {
   "cell_type": "code",
   "execution_count": null,
   "source": [
    "df.to_csv(f'다음_블로그제목_{len(title_list)}개_{search}.csv',encoding='utf-8-sig')"
   ],
   "outputs": [],
   "metadata": {}
  }
 ],
 "metadata": {
  "orig_nbformat": 4,
  "language_info": {
   "name": "python",
   "version": "3.8.3",
   "mimetype": "text/x-python",
   "codemirror_mode": {
    "name": "ipython",
    "version": 3
   },
   "pygments_lexer": "ipython3",
   "nbconvert_exporter": "python",
   "file_extension": ".py"
  },
  "kernelspec": {
   "name": "python3",
   "display_name": "Python 3.8.3 64-bit ('base': conda)"
  },
  "interpreter": {
   "hash": "63a3d0eb315879201a4ba4d849cfcb11f77ed8ed1ecd0e79837906be1748192d"
  }
 },
 "nbformat": 4,
 "nbformat_minor": 2
}