{
 "cells": [
  {
   "cell_type": "code",
   "execution_count": 31,
   "source": [
    "import selenium\r\n",
    "from selenium import webdriver\r\n",
    "import time\r\n",
    "import pandas as pd\r\n",
    "\r\n",
    "path = 'C:/Users/Sumin/Sumin/한경 프로젝트/chromedriver.exe'\r\n",
    "driver = webdriver.Chrome(path)"
   ],
   "outputs": [],
   "metadata": {}
  },
  {
   "cell_type": "code",
   "execution_count": 36,
   "source": [
    "url = 'https://mall.epost.go.kr/fo/goods/goodsDetailView.do?goodsCd=EA1001119&goodsDispTypeCd=&goodsDispTypeDtlCd=&pavlnDivCd=02&ctgryCd=101201301&searchTermCd=%EC%82%BC%EA%B4%91'\r\n",
    "driver.get(url)"
   ],
   "outputs": [],
   "metadata": {}
  },
  {
   "cell_type": "code",
   "execution_count": 37,
   "source": [
    "# 리뷰 클릭\r\n",
    "driver.find_element_by_css_selector('#contents > div.content > div > div.good_tab.ct_col4 > ul > li:nth-child(3) > a').click()"
   ],
   "outputs": [],
   "metadata": {}
  },
  {
   "cell_type": "code",
   "execution_count": 38,
   "source": [
    "from selenium.webdriver.common.keys import Keys\r\n",
    "\r\n",
    "id_list = []\r\n",
    "pname_list = []\r\n",
    "star_list = []\r\n",
    "review_list = []\r\n",
    "\r\n",
    "for k in range(1,200):\r\n",
    "    p = k % 10\r\n",
    "    for i in range(2,7,2):\r\n",
    "        try : \r\n",
    "            id = driver.find_element_by_css_selector(f'#goods_evlBbs > div.bbs_list_box.listTJQ2 > table > tbody > tr:nth-child({i}) > td:nth-child(3)').text\r\n",
    "            id_list.append(id)\r\n",
    "\r\n",
    "            pname = driver.find_element_by_css_selector('#contents > div.content > div > div.good_head > div.f_right > div > div > p.tit').text\r\n",
    "            pname_list.append(pname)\r\n",
    "\r\n",
    "            star = driver.find_element_by_css_selector(f'#goods_evlBbs > div.bbs_list_box.listTJQ2 > table > tbody > tr:nth-child({i}) > td:nth-child(1) > p > span').text\r\n",
    "            star_list.append(star)\r\n",
    "\r\n",
    "            review = driver.find_element_by_css_selector(f'#goods_evlBbs > div.bbs_list_box.listTJQ2 > table > tbody > tr:nth-child({i}) > td.tit > a > p').text            \r\n",
    "            review_list.append(review)\r\n",
    "        except : \r\n",
    "            pass\r\n",
    "    if p != 0:\r\n",
    "        driver.find_element_by_css_selector(f'#goods_evlBbs > div.w100per.o_flow.pt45 > div > div > a:nth-child({p+3})').send_keys(Keys.ENTER)\r\n",
    "    else :\r\n",
    "        driver.find_element_by_css_selector('#goods_evlBbs > div.w100per.o_flow.pt45 > div > div > a.next').send_keys(Keys.ENTER)\r\n",
    "    time.sleep(1)"
   ],
   "outputs": [],
   "metadata": {}
  },
  {
   "cell_type": "code",
   "execution_count": 39,
   "source": [
    "df = pd.DataFrame({\r\n",
    "    'id' : id_list,\r\n",
    "    'pname' : pname_list,\r\n",
    "    'star' : star_list,\r\n",
    "    'review' : review_list\r\n",
    "})\r\n",
    "\r\n",
    "df.to_excel('data/우체국_만세보령쌀_삼광.xlsx',index=False,encoding='utf-8-sig')\r\n",
    "\r\n",
    "df.head(3)"
   ],
   "outputs": [
    {
     "output_type": "execute_result",
     "data": {
      "text/plain": [
       "         id                       pname star   review\n",
       "0  7******n  [보령장터]만세보령쌀 삼광미 GOLD (특등급)  별5개   맘에 들어요\n",
       "1   c*****o  [보령장터]만세보령쌀 삼광미 GOLD (특등급)  별5개  보령쌀 삼광미\n",
       "2   s*****g  [보령장터]만세보령쌀 삼광미 GOLD (특등급)  별5개   좋아요~~~"
      ],
      "text/html": [
       "<div>\n",
       "<style scoped>\n",
       "    .dataframe tbody tr th:only-of-type {\n",
       "        vertical-align: middle;\n",
       "    }\n",
       "\n",
       "    .dataframe tbody tr th {\n",
       "        vertical-align: top;\n",
       "    }\n",
       "\n",
       "    .dataframe thead th {\n",
       "        text-align: right;\n",
       "    }\n",
       "</style>\n",
       "<table border=\"1\" class=\"dataframe\">\n",
       "  <thead>\n",
       "    <tr style=\"text-align: right;\">\n",
       "      <th></th>\n",
       "      <th>id</th>\n",
       "      <th>pname</th>\n",
       "      <th>star</th>\n",
       "      <th>review</th>\n",
       "    </tr>\n",
       "  </thead>\n",
       "  <tbody>\n",
       "    <tr>\n",
       "      <th>0</th>\n",
       "      <td>7******n</td>\n",
       "      <td>[보령장터]만세보령쌀 삼광미 GOLD (특등급)</td>\n",
       "      <td>별5개</td>\n",
       "      <td>맘에 들어요</td>\n",
       "    </tr>\n",
       "    <tr>\n",
       "      <th>1</th>\n",
       "      <td>c*****o</td>\n",
       "      <td>[보령장터]만세보령쌀 삼광미 GOLD (특등급)</td>\n",
       "      <td>별5개</td>\n",
       "      <td>보령쌀 삼광미</td>\n",
       "    </tr>\n",
       "    <tr>\n",
       "      <th>2</th>\n",
       "      <td>s*****g</td>\n",
       "      <td>[보령장터]만세보령쌀 삼광미 GOLD (특등급)</td>\n",
       "      <td>별5개</td>\n",
       "      <td>좋아요~~~</td>\n",
       "    </tr>\n",
       "  </tbody>\n",
       "</table>\n",
       "</div>"
      ]
     },
     "metadata": {},
     "execution_count": 39
    }
   ],
   "metadata": {}
  },
  {
   "cell_type": "code",
   "execution_count": 40,
   "source": [
    "len(df)"
   ],
   "outputs": [
    {
     "output_type": "execute_result",
     "data": {
      "text/plain": [
       "597"
      ]
     },
     "metadata": {},
     "execution_count": 40
    }
   ],
   "metadata": {}
  }
 ],
 "metadata": {
  "orig_nbformat": 4,
  "language_info": {
   "name": "python",
   "version": "3.8.5",
   "mimetype": "text/x-python",
   "codemirror_mode": {
    "name": "ipython",
    "version": 3
   },
   "pygments_lexer": "ipython3",
   "nbconvert_exporter": "python",
   "file_extension": ".py"
  },
  "kernelspec": {
   "name": "python3",
   "display_name": "Python 3.8.5 64-bit ('base': conda)"
  },
  "interpreter": {
   "hash": "a9304dfccfc2803363eba81e94316a7fbb7230839deefde8043067d034843f70"
  }
 },
 "nbformat": 4,
 "nbformat_minor": 2
}