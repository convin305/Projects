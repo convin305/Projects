{
 "cells": [
  {
   "cell_type": "code",
   "execution_count": 36,
   "source": [
    "import konlpy"
   ],
   "outputs": [],
   "metadata": {}
  },
  {
   "cell_type": "code",
   "execution_count": 37,
   "source": [
    "from konlpy.tag import Okt\r\n",
    "okt = Okt()"
   ],
   "outputs": [],
   "metadata": {}
  },
  {
   "cell_type": "code",
   "execution_count": 38,
   "source": [
    "okt.nouns('해당 에러가 발생하는 것을 알 수 있다')"
   ],
   "outputs": [
    {
     "output_type": "execute_result",
     "data": {
      "text/plain": [
       "['해당', '에러', '발생', '것', '알', '수']"
      ]
     },
     "metadata": {},
     "execution_count": 38
    }
   ],
   "metadata": {}
  },
  {
   "cell_type": "markdown",
   "source": [
    "_______________________________"
   ],
   "metadata": {}
  },
  {
   "cell_type": "code",
   "execution_count": 39,
   "source": [
    "import pandas as pd\r\n",
    "import re\r\n",
    "import numpy as np"
   ],
   "outputs": [],
   "metadata": {}
  },
  {
   "cell_type": "code",
   "execution_count": 40,
   "source": [
    "text = pd.read_csv(\"C:\\\\Users\\\\Sum\\\\Desktop\\\\Sumin\\\\16.프로젝트\\\\한경_농협양곡\\\\00.데이터\\\\크롤링\\\\블로그제목.csv\")\r\n",
    "text.head()"
   ],
   "outputs": [
    {
     "output_type": "execute_result",
     "data": {
      "text/plain": [
       "   Unnamed: 0                              title_list\n",
       "0           0            김제공덕농협 김제쌀 신동진쌀 상상예찬골드 찰기 예술\n",
       "1           1  [YAFF 8기 젤리잼] 7월 자율미션 : 서대문역 농협쌀박물관 방문\n",
       "2           2     동송농협 철원오대쌀 즉석밥 간편하고 맛있게 먹기 딱좋았던 간편식\n",
       "3           3         간식으로 좋은 과자 추천 / 농협 우리쌀과 검은콩 인절미\n",
       "4           4            유기농쌀 김제공덕농협 지평선 김제쌀 퀄리티가 다르다"
      ],
      "text/html": [
       "<div>\n",
       "<style scoped>\n",
       "    .dataframe tbody tr th:only-of-type {\n",
       "        vertical-align: middle;\n",
       "    }\n",
       "\n",
       "    .dataframe tbody tr th {\n",
       "        vertical-align: top;\n",
       "    }\n",
       "\n",
       "    .dataframe thead th {\n",
       "        text-align: right;\n",
       "    }\n",
       "</style>\n",
       "<table border=\"1\" class=\"dataframe\">\n",
       "  <thead>\n",
       "    <tr style=\"text-align: right;\">\n",
       "      <th></th>\n",
       "      <th>Unnamed: 0</th>\n",
       "      <th>title_list</th>\n",
       "    </tr>\n",
       "  </thead>\n",
       "  <tbody>\n",
       "    <tr>\n",
       "      <th>0</th>\n",
       "      <td>0</td>\n",
       "      <td>김제공덕농협 김제쌀 신동진쌀 상상예찬골드 찰기 예술</td>\n",
       "    </tr>\n",
       "    <tr>\n",
       "      <th>1</th>\n",
       "      <td>1</td>\n",
       "      <td>[YAFF 8기 젤리잼] 7월 자율미션 : 서대문역 농협쌀박물관 방문</td>\n",
       "    </tr>\n",
       "    <tr>\n",
       "      <th>2</th>\n",
       "      <td>2</td>\n",
       "      <td>동송농협 철원오대쌀 즉석밥 간편하고 맛있게 먹기 딱좋았던 간편식</td>\n",
       "    </tr>\n",
       "    <tr>\n",
       "      <th>3</th>\n",
       "      <td>3</td>\n",
       "      <td>간식으로 좋은 과자 추천 / 농협 우리쌀과 검은콩 인절미</td>\n",
       "    </tr>\n",
       "    <tr>\n",
       "      <th>4</th>\n",
       "      <td>4</td>\n",
       "      <td>유기농쌀 김제공덕농협 지평선 김제쌀 퀄리티가 다르다</td>\n",
       "    </tr>\n",
       "  </tbody>\n",
       "</table>\n",
       "</div>"
      ]
     },
     "metadata": {},
     "execution_count": 40
    }
   ],
   "metadata": {}
  },
  {
   "cell_type": "code",
   "execution_count": 41,
   "source": [
    "del text['Unnamed: 0']\r\n",
    "text.head()"
   ],
   "outputs": [
    {
     "output_type": "execute_result",
     "data": {
      "text/plain": [
       "                               title_list\n",
       "0            김제공덕농협 김제쌀 신동진쌀 상상예찬골드 찰기 예술\n",
       "1  [YAFF 8기 젤리잼] 7월 자율미션 : 서대문역 농협쌀박물관 방문\n",
       "2     동송농협 철원오대쌀 즉석밥 간편하고 맛있게 먹기 딱좋았던 간편식\n",
       "3         간식으로 좋은 과자 추천 / 농협 우리쌀과 검은콩 인절미\n",
       "4            유기농쌀 김제공덕농협 지평선 김제쌀 퀄리티가 다르다"
      ],
      "text/html": [
       "<div>\n",
       "<style scoped>\n",
       "    .dataframe tbody tr th:only-of-type {\n",
       "        vertical-align: middle;\n",
       "    }\n",
       "\n",
       "    .dataframe tbody tr th {\n",
       "        vertical-align: top;\n",
       "    }\n",
       "\n",
       "    .dataframe thead th {\n",
       "        text-align: right;\n",
       "    }\n",
       "</style>\n",
       "<table border=\"1\" class=\"dataframe\">\n",
       "  <thead>\n",
       "    <tr style=\"text-align: right;\">\n",
       "      <th></th>\n",
       "      <th>title_list</th>\n",
       "    </tr>\n",
       "  </thead>\n",
       "  <tbody>\n",
       "    <tr>\n",
       "      <th>0</th>\n",
       "      <td>김제공덕농협 김제쌀 신동진쌀 상상예찬골드 찰기 예술</td>\n",
       "    </tr>\n",
       "    <tr>\n",
       "      <th>1</th>\n",
       "      <td>[YAFF 8기 젤리잼] 7월 자율미션 : 서대문역 농협쌀박물관 방문</td>\n",
       "    </tr>\n",
       "    <tr>\n",
       "      <th>2</th>\n",
       "      <td>동송농협 철원오대쌀 즉석밥 간편하고 맛있게 먹기 딱좋았던 간편식</td>\n",
       "    </tr>\n",
       "    <tr>\n",
       "      <th>3</th>\n",
       "      <td>간식으로 좋은 과자 추천 / 농협 우리쌀과 검은콩 인절미</td>\n",
       "    </tr>\n",
       "    <tr>\n",
       "      <th>4</th>\n",
       "      <td>유기농쌀 김제공덕농협 지평선 김제쌀 퀄리티가 다르다</td>\n",
       "    </tr>\n",
       "  </tbody>\n",
       "</table>\n",
       "</div>"
      ]
     },
     "metadata": {},
     "execution_count": 41
    }
   ],
   "metadata": {}
  },
  {
   "cell_type": "code",
   "execution_count": 42,
   "source": [
    "text['clean'] = text['title_list'].str.replace(\"[^ㄱ-ㅣ가-힣]\", \" \")\r\n",
    "text.head()"
   ],
   "outputs": [
    {
     "output_type": "execute_result",
     "data": {
      "text/plain": [
       "                               title_list  \\\n",
       "0            김제공덕농협 김제쌀 신동진쌀 상상예찬골드 찰기 예술   \n",
       "1  [YAFF 8기 젤리잼] 7월 자율미션 : 서대문역 농협쌀박물관 방문   \n",
       "2     동송농협 철원오대쌀 즉석밥 간편하고 맛있게 먹기 딱좋았던 간편식   \n",
       "3         간식으로 좋은 과자 추천 / 농협 우리쌀과 검은콩 인절미   \n",
       "4            유기농쌀 김제공덕농협 지평선 김제쌀 퀄리티가 다르다   \n",
       "\n",
       "                                    clean  \n",
       "0            김제공덕농협 김제쌀 신동진쌀 상상예찬골드 찰기 예술  \n",
       "1         기 젤리잼   월 자율미션   서대문역 농협쌀박물관 방문  \n",
       "2     동송농협 철원오대쌀 즉석밥 간편하고 맛있게 먹기 딱좋았던 간편식  \n",
       "3         간식으로 좋은 과자 추천   농협 우리쌀과 검은콩 인절미  \n",
       "4            유기농쌀 김제공덕농협 지평선 김제쌀 퀄리티가 다르다  "
      ],
      "text/html": [
       "<div>\n",
       "<style scoped>\n",
       "    .dataframe tbody tr th:only-of-type {\n",
       "        vertical-align: middle;\n",
       "    }\n",
       "\n",
       "    .dataframe tbody tr th {\n",
       "        vertical-align: top;\n",
       "    }\n",
       "\n",
       "    .dataframe thead th {\n",
       "        text-align: right;\n",
       "    }\n",
       "</style>\n",
       "<table border=\"1\" class=\"dataframe\">\n",
       "  <thead>\n",
       "    <tr style=\"text-align: right;\">\n",
       "      <th></th>\n",
       "      <th>title_list</th>\n",
       "      <th>clean</th>\n",
       "    </tr>\n",
       "  </thead>\n",
       "  <tbody>\n",
       "    <tr>\n",
       "      <th>0</th>\n",
       "      <td>김제공덕농협 김제쌀 신동진쌀 상상예찬골드 찰기 예술</td>\n",
       "      <td>김제공덕농협 김제쌀 신동진쌀 상상예찬골드 찰기 예술</td>\n",
       "    </tr>\n",
       "    <tr>\n",
       "      <th>1</th>\n",
       "      <td>[YAFF 8기 젤리잼] 7월 자율미션 : 서대문역 농협쌀박물관 방문</td>\n",
       "      <td>기 젤리잼   월 자율미션   서대문역 농협쌀박물관 방문</td>\n",
       "    </tr>\n",
       "    <tr>\n",
       "      <th>2</th>\n",
       "      <td>동송농협 철원오대쌀 즉석밥 간편하고 맛있게 먹기 딱좋았던 간편식</td>\n",
       "      <td>동송농협 철원오대쌀 즉석밥 간편하고 맛있게 먹기 딱좋았던 간편식</td>\n",
       "    </tr>\n",
       "    <tr>\n",
       "      <th>3</th>\n",
       "      <td>간식으로 좋은 과자 추천 / 농협 우리쌀과 검은콩 인절미</td>\n",
       "      <td>간식으로 좋은 과자 추천   농협 우리쌀과 검은콩 인절미</td>\n",
       "    </tr>\n",
       "    <tr>\n",
       "      <th>4</th>\n",
       "      <td>유기농쌀 김제공덕농협 지평선 김제쌀 퀄리티가 다르다</td>\n",
       "      <td>유기농쌀 김제공덕농협 지평선 김제쌀 퀄리티가 다르다</td>\n",
       "    </tr>\n",
       "  </tbody>\n",
       "</table>\n",
       "</div>"
      ]
     },
     "metadata": {},
     "execution_count": 42
    }
   ],
   "metadata": {}
  },
  {
   "cell_type": "code",
   "execution_count": 47,
   "source": [
    "text.info()"
   ],
   "outputs": [
    {
     "output_type": "stream",
     "name": "stdout",
     "text": [
      "<class 'pandas.core.frame.DataFrame'>\n",
      "RangeIndex: 1448 entries, 0 to 1447\n",
      "Data columns (total 2 columns):\n",
      " #   Column      Non-Null Count  Dtype \n",
      "---  ------      --------------  ----- \n",
      " 0   title_list  1448 non-null   object\n",
      " 1   clean       1448 non-null   object\n",
      "dtypes: object(2)\n",
      "memory usage: 22.8+ KB\n"
     ]
    }
   ],
   "metadata": {}
  },
  {
   "cell_type": "code",
   "execution_count": 43,
   "source": [
    "# 결측치 확인\r\n",
    "text.clean.isnull().sum()"
   ],
   "outputs": [
    {
     "output_type": "execute_result",
     "data": {
      "text/plain": [
       "0"
      ]
     },
     "metadata": {},
     "execution_count": 43
    }
   ],
   "metadata": {}
  },
  {
   "cell_type": "code",
   "execution_count": 48,
   "source": [
    "# 중복값 확인\r\n",
    "text['clean'].nunique()"
   ],
   "outputs": [
    {
     "output_type": "execute_result",
     "data": {
      "text/plain": [
       "845"
      ]
     },
     "metadata": {},
     "execution_count": 48
    }
   ],
   "metadata": {}
  },
  {
   "cell_type": "code",
   "execution_count": 50,
   "source": [
    "# 중복값 제거\r\n",
    "text.drop_duplicates(['clean'], inplace=True)\r\n",
    "text.duplicated('clean').sum()"
   ],
   "outputs": [
    {
     "output_type": "execute_result",
     "data": {
      "text/plain": [
       "0"
      ]
     },
     "metadata": {},
     "execution_count": 50
    }
   ],
   "metadata": {}
  },
  {
   "cell_type": "code",
   "execution_count": 51,
   "source": [
    "# 불용어 사전 불러오기\r\n",
    "stopwords_path = \"korean_stopwords.txt\"\r\n",
    "\r\n",
    "with open(stopwords_path, encoding=\"utf8\") as f:\r\n",
    "    stopwords = f.readlines()\r\n",
    "\r\n",
    "stopwords= [x.strip() for x in stopwords]"
   ],
   "outputs": [],
   "metadata": {}
  },
  {
   "cell_type": "code",
   "execution_count": 52,
   "source": [
    "from konlpy.tag import Okt\r\n",
    "from collections import Counter\r\n",
    "okt = Okt()"
   ],
   "outputs": [],
   "metadata": {}
  },
  {
   "cell_type": "code",
   "execution_count": 53,
   "source": [
    "def get_nouns(x):\r\n",
    "    okt = Okt()\r\n",
    "    nouns = okt.nouns(x)\r\n",
    "    # 불용어를 제거합니다.\r\n",
    "    nouns = [noun for noun in nouns if noun not in stopwords]\r\n",
    "    return nouns"
   ],
   "outputs": [],
   "metadata": {}
  },
  {
   "cell_type": "code",
   "execution_count": 54,
   "source": [
    "text['lists'] = text['clean'].apply(lambda x: get_nouns(x))"
   ],
   "outputs": [],
   "metadata": {}
  },
  {
   "cell_type": "code",
   "execution_count": 55,
   "source": [
    "text.head()"
   ],
   "outputs": [
    {
     "output_type": "execute_result",
     "data": {
      "text/plain": [
       "                               title_list  \\\n",
       "0            김제공덕농협 김제쌀 신동진쌀 상상예찬골드 찰기 예술   \n",
       "1  [YAFF 8기 젤리잼] 7월 자율미션 : 서대문역 농협쌀박물관 방문   \n",
       "2     동송농협 철원오대쌀 즉석밥 간편하고 맛있게 먹기 딱좋았던 간편식   \n",
       "3         간식으로 좋은 과자 추천 / 농협 우리쌀과 검은콩 인절미   \n",
       "4            유기농쌀 김제공덕농협 지평선 김제쌀 퀄리티가 다르다   \n",
       "\n",
       "                                    clean  \\\n",
       "0            김제공덕농협 김제쌀 신동진쌀 상상예찬골드 찰기 예술   \n",
       "1         기 젤리잼   월 자율미션   서대문역 농협쌀박물관 방문   \n",
       "2     동송농협 철원오대쌀 즉석밥 간편하고 맛있게 먹기 딱좋았던 간편식   \n",
       "3         간식으로 좋은 과자 추천   농협 우리쌀과 검은콩 인절미   \n",
       "4            유기농쌀 김제공덕농협 지평선 김제쌀 퀄리티가 다르다   \n",
       "\n",
       "                                         lists  \n",
       "0  [김제, 공덕, 농협, 김제, 쌀, 신동진, 쌀, 상상, 예찬, 골드, 예술]  \n",
       "1     [기, 젤리, 잼, 자율, 미션, 서대문역, 농협, 쌀, 박물관, 방문]  \n",
       "2                 [송, 농협, 철원, 쌀, 즉석밥, 먹기, 간편식]  \n",
       "3                  [간식, 과자, 추천, 농협, 쌀, 콩, 인절미]  \n",
       "4        [유기농, 쌀, 김제, 공덕, 농협, 지평선, 김제, 쌀, 퀄리티]  "
      ],
      "text/html": [
       "<div>\n",
       "<style scoped>\n",
       "    .dataframe tbody tr th:only-of-type {\n",
       "        vertical-align: middle;\n",
       "    }\n",
       "\n",
       "    .dataframe tbody tr th {\n",
       "        vertical-align: top;\n",
       "    }\n",
       "\n",
       "    .dataframe thead th {\n",
       "        text-align: right;\n",
       "    }\n",
       "</style>\n",
       "<table border=\"1\" class=\"dataframe\">\n",
       "  <thead>\n",
       "    <tr style=\"text-align: right;\">\n",
       "      <th></th>\n",
       "      <th>title_list</th>\n",
       "      <th>clean</th>\n",
       "      <th>lists</th>\n",
       "    </tr>\n",
       "  </thead>\n",
       "  <tbody>\n",
       "    <tr>\n",
       "      <th>0</th>\n",
       "      <td>김제공덕농협 김제쌀 신동진쌀 상상예찬골드 찰기 예술</td>\n",
       "      <td>김제공덕농협 김제쌀 신동진쌀 상상예찬골드 찰기 예술</td>\n",
       "      <td>[김제, 공덕, 농협, 김제, 쌀, 신동진, 쌀, 상상, 예찬, 골드, 예술]</td>\n",
       "    </tr>\n",
       "    <tr>\n",
       "      <th>1</th>\n",
       "      <td>[YAFF 8기 젤리잼] 7월 자율미션 : 서대문역 농협쌀박물관 방문</td>\n",
       "      <td>기 젤리잼   월 자율미션   서대문역 농협쌀박물관 방문</td>\n",
       "      <td>[기, 젤리, 잼, 자율, 미션, 서대문역, 농협, 쌀, 박물관, 방문]</td>\n",
       "    </tr>\n",
       "    <tr>\n",
       "      <th>2</th>\n",
       "      <td>동송농협 철원오대쌀 즉석밥 간편하고 맛있게 먹기 딱좋았던 간편식</td>\n",
       "      <td>동송농협 철원오대쌀 즉석밥 간편하고 맛있게 먹기 딱좋았던 간편식</td>\n",
       "      <td>[송, 농협, 철원, 쌀, 즉석밥, 먹기, 간편식]</td>\n",
       "    </tr>\n",
       "    <tr>\n",
       "      <th>3</th>\n",
       "      <td>간식으로 좋은 과자 추천 / 농협 우리쌀과 검은콩 인절미</td>\n",
       "      <td>간식으로 좋은 과자 추천   농협 우리쌀과 검은콩 인절미</td>\n",
       "      <td>[간식, 과자, 추천, 농협, 쌀, 콩, 인절미]</td>\n",
       "    </tr>\n",
       "    <tr>\n",
       "      <th>4</th>\n",
       "      <td>유기농쌀 김제공덕농협 지평선 김제쌀 퀄리티가 다르다</td>\n",
       "      <td>유기농쌀 김제공덕농협 지평선 김제쌀 퀄리티가 다르다</td>\n",
       "      <td>[유기농, 쌀, 김제, 공덕, 농협, 지평선, 김제, 쌀, 퀄리티]</td>\n",
       "    </tr>\n",
       "  </tbody>\n",
       "</table>\n",
       "</div>"
      ]
     },
     "metadata": {},
     "execution_count": 55
    }
   ],
   "metadata": {}
  },
  {
   "cell_type": "code",
   "execution_count": 56,
   "source": [
    "tokenized_doc = text.lists\r\n",
    "tokenized_doc[:5]"
   ],
   "outputs": [
    {
     "output_type": "execute_result",
     "data": {
      "text/plain": [
       "0    [김제, 공덕, 농협, 김제, 쌀, 신동진, 쌀, 상상, 예찬, 골드, 예술]\n",
       "1       [기, 젤리, 잼, 자율, 미션, 서대문역, 농협, 쌀, 박물관, 방문]\n",
       "2                   [송, 농협, 철원, 쌀, 즉석밥, 먹기, 간편식]\n",
       "3                    [간식, 과자, 추천, 농협, 쌀, 콩, 인절미]\n",
       "4          [유기농, 쌀, 김제, 공덕, 농협, 지평선, 김제, 쌀, 퀄리티]\n",
       "Name: lists, dtype: object"
      ]
     },
     "metadata": {},
     "execution_count": 56
    }
   ],
   "metadata": {}
  },
  {
   "cell_type": "code",
   "execution_count": 57,
   "source": [
    "!pip install gensim"
   ],
   "outputs": [
    {
     "output_type": "stream",
     "name": "stdout",
     "text": [
      "Requirement already satisfied: gensim in c:\\users\\sum\\anaconda3\\lib\\site-packages (4.0.1)\n",
      "Requirement already satisfied: numpy>=1.11.3 in c:\\users\\sum\\anaconda3\\lib\\site-packages (from gensim) (1.19.3)\n",
      "Requirement already satisfied: smart-open>=1.8.1 in c:\\users\\sum\\anaconda3\\lib\\site-packages (from gensim) (5.1.0)\n",
      "Requirement already satisfied: scipy>=0.18.1 in c:\\users\\sum\\anaconda3\\lib\\site-packages (from gensim) (1.6.2)\n",
      "Requirement already satisfied: Cython==0.29.21 in c:\\users\\sum\\anaconda3\\lib\\site-packages (from gensim) (0.29.21)\n"
     ]
    },
    {
     "output_type": "stream",
     "name": "stderr",
     "text": [
      "WARNING: Ignoring invalid distribution -pype1 (c:\\users\\sum\\anaconda3\\lib\\site-packages)\n",
      "WARNING: Ignoring invalid distribution -pype1 (c:\\users\\sum\\anaconda3\\lib\\site-packages)\n",
      "WARNING: Ignoring invalid distribution -pype1 (c:\\users\\sum\\anaconda3\\lib\\site-packages)\n",
      "WARNING: Ignoring invalid distribution -pype1 (c:\\users\\sum\\anaconda3\\lib\\site-packages)\n",
      "WARNING: Ignoring invalid distribution -pype1 (c:\\users\\sum\\anaconda3\\lib\\site-packages)\n"
     ]
    }
   ],
   "metadata": {}
  },
  {
   "cell_type": "code",
   "execution_count": 58,
   "source": [
    "from gensim import corpora\r\n",
    "dictionary = corpora.Dictionary(tokenized_doc)\r\n",
    "dictionary"
   ],
   "outputs": [
    {
     "output_type": "execute_result",
     "data": {
      "text/plain": [
       "<gensim.corpora.dictionary.Dictionary at 0x210e1f1d160>"
      ]
     },
     "metadata": {},
     "execution_count": 58
    }
   ],
   "metadata": {}
  },
  {
   "cell_type": "code",
   "execution_count": 59,
   "source": [
    "corpus = []\r\n",
    "for text in tokenized_doc:\r\n",
    "    corpus.append(dictionary.doc2bow(text))\r\n",
    "print(corpus[1]) # 수행된 결과에서 두번째 리뷰 출력. 첫번째 문서의 인덱스는 0"
   ],
   "outputs": [
    {
     "output_type": "stream",
     "name": "stdout",
     "text": [
      "[(3, 1), (6, 1), (9, 1), (10, 1), (11, 1), (12, 1), (13, 1), (14, 1), (15, 1), (16, 1)]\n"
     ]
    }
   ],
   "metadata": {}
  },
  {
   "cell_type": "code",
   "execution_count": 60,
   "source": [
    "len(dictionary)"
   ],
   "outputs": [
    {
     "output_type": "execute_result",
     "data": {
      "text/plain": [
       "1628"
      ]
     },
     "metadata": {},
     "execution_count": 60
    }
   ],
   "metadata": {}
  },
  {
   "cell_type": "markdown",
   "source": [
    "### LDA 모델 훈련시키기"
   ],
   "metadata": {}
  },
  {
   "cell_type": "code",
   "execution_count": 61,
   "source": [
    "import gensim\r\n",
    "NUM_TOPICS = 20 #20개의 토픽, k=20\r\n",
    "ldamodel = gensim.models.ldamodel.LdaModel(corpus, num_topics = NUM_TOPICS, id2word=dictionary, passes=15)\r\n",
    "topics = ldamodel.print_topics(num_words=4)\r\n",
    "for topic in topics:\r\n",
    "    print(topic)"
   ],
   "outputs": [
    {
     "output_type": "stream",
     "name": "stdout",
     "text": [
      "(0, '0.094*\"쌀\" + 0.042*\"농협\" + 0.028*\"곤약\" + 0.022*\"만들기\"')\n",
      "(1, '0.059*\"쌀\" + 0.021*\"유통\" + 0.018*\"농협\" + 0.016*\"경북\"')\n",
      "(2, '0.105*\"쌀\" + 0.088*\"농협\" + 0.040*\"황금\" + 0.037*\"메뚜기\"')\n",
      "(3, '0.113*\"농협\" + 0.085*\"쌀\" + 0.030*\"꾸러미\" + 0.025*\"식\"')\n",
      "(4, '0.159*\"박물관\" + 0.148*\"쌀\" + 0.123*\"농협\" + 0.033*\"요리\"')\n",
      "(5, '0.114*\"쌀\" + 0.095*\"농협\" + 0.017*\"축제\" + 0.015*\"옥수수\"')\n",
      "(6, '0.074*\"농협\" + 0.064*\"쌀\" + 0.020*\"밥맛\" + 0.019*\"창고\"')\n",
      "(7, '0.139*\"쌀\" + 0.048*\"농협\" + 0.029*\"아산\" + 0.027*\"구입\"')\n",
      "(8, '0.128*\"쌀\" + 0.072*\"농협\" + 0.055*\"철원\" + 0.025*\"김화\"')\n",
      "(9, '0.083*\"쌀\" + 0.076*\"농협\" + 0.032*\"조합\" + 0.027*\"법인\"')\n",
      "(10, '0.091*\"농협\" + 0.064*\"쌀\" + 0.035*\"양곡\" + 0.025*\"채용\"')\n",
      "(11, '0.030*\"쌀\" + 0.029*\"농협\" + 0.025*\"벼\" + 0.019*\"식품\"')\n",
      "(12, '0.046*\"농협\" + 0.024*\"관리\" + 0.019*\"쌀\" + 0.018*\"쌀국수\"')\n",
      "(13, '0.149*\"쌀\" + 0.076*\"농협\" + 0.038*\"신동진\" + 0.018*\"밥맛\"')\n",
      "(14, '0.189*\"쌀\" + 0.123*\"농협\" + 0.039*\"밥맛\" + 0.039*\"햅쌀\"')\n",
      "(15, '0.074*\"농협\" + 0.023*\"양곡\" + 0.020*\"쌀\" + 0.017*\"방학\"')\n",
      "(16, '0.126*\"쌀\" + 0.106*\"농협\" + 0.071*\"안동\" + 0.071*\"진주\"')\n",
      "(17, '0.083*\"쌀\" + 0.033*\"보관\" + 0.030*\"진공\" + 0.025*\"치즈\"')\n",
      "(18, '0.118*\"농협\" + 0.106*\"쌀\" + 0.039*\"찬쌀\" + 0.038*\"도정\"')\n",
      "(19, '0.090*\"쌀\" + 0.062*\"농협\" + 0.035*\"김제\" + 0.031*\"구매\"')\n"
     ]
    }
   ],
   "metadata": {}
  },
  {
   "cell_type": "code",
   "execution_count": 67,
   "source": [
    "import pyLDAvis.gensim\r\n",
    "pyLDAvis.enable_notebook()\r\n",
    "vis = pyLDAvis.gensim.prepare(ldamodel, corpus, dictionary)\r\n",
    "pyLDAvis.display(vis)"
   ],
   "outputs": [
    {
     "output_type": "error",
     "ename": "ModuleNotFoundError",
     "evalue": "No module named 'pyLDAvis.gensim'",
     "traceback": [
      "\u001b[1;31m---------------------------------------------------------------------------\u001b[0m",
      "\u001b[1;31mModuleNotFoundError\u001b[0m                       Traceback (most recent call last)",
      "\u001b[1;32m<ipython-input-67-13df265e3ec4>\u001b[0m in \u001b[0;36m<module>\u001b[1;34m\u001b[0m\n\u001b[1;32m----> 1\u001b[1;33m \u001b[1;32mimport\u001b[0m \u001b[0mpyLDAvis\u001b[0m\u001b[1;33m.\u001b[0m\u001b[0mgensim\u001b[0m\u001b[1;33m\u001b[0m\u001b[1;33m\u001b[0m\u001b[0m\n\u001b[0m\u001b[0;32m      2\u001b[0m \u001b[0mpyLDAvis\u001b[0m\u001b[1;33m.\u001b[0m\u001b[0menable_notebook\u001b[0m\u001b[1;33m(\u001b[0m\u001b[1;33m)\u001b[0m\u001b[1;33m\u001b[0m\u001b[1;33m\u001b[0m\u001b[0m\n\u001b[0;32m      3\u001b[0m \u001b[0mvis\u001b[0m \u001b[1;33m=\u001b[0m \u001b[0mpyLDAvis\u001b[0m\u001b[1;33m.\u001b[0m\u001b[0mgensim\u001b[0m\u001b[1;33m.\u001b[0m\u001b[0mprepare\u001b[0m\u001b[1;33m(\u001b[0m\u001b[0mldamodel\u001b[0m\u001b[1;33m,\u001b[0m \u001b[0mcorpus\u001b[0m\u001b[1;33m,\u001b[0m \u001b[0mdictionary\u001b[0m\u001b[1;33m)\u001b[0m\u001b[1;33m\u001b[0m\u001b[1;33m\u001b[0m\u001b[0m\n\u001b[0;32m      4\u001b[0m \u001b[0mpyLDAvis\u001b[0m\u001b[1;33m.\u001b[0m\u001b[0mdisplay\u001b[0m\u001b[1;33m(\u001b[0m\u001b[0mvis\u001b[0m\u001b[1;33m)\u001b[0m\u001b[1;33m\u001b[0m\u001b[1;33m\u001b[0m\u001b[0m\n",
      "\u001b[1;31mModuleNotFoundError\u001b[0m: No module named 'pyLDAvis.gensim'"
     ]
    }
   ],
   "metadata": {}
  },
  {
   "cell_type": "code",
   "execution_count": null,
   "source": [],
   "outputs": [],
   "metadata": {}
  }
 ],
 "metadata": {
  "orig_nbformat": 4,
  "language_info": {
   "name": "python",
   "version": "3.8.3",
   "mimetype": "text/x-python",
   "codemirror_mode": {
    "name": "ipython",
    "version": 3
   },
   "pygments_lexer": "ipython3",
   "nbconvert_exporter": "python",
   "file_extension": ".py"
  },
  "kernelspec": {
   "name": "python3",
   "display_name": "Python 3.8.3 64-bit ('base': conda)"
  },
  "interpreter": {
   "hash": "63a3d0eb315879201a4ba4d849cfcb11f77ed8ed1ecd0e79837906be1748192d"
  }
 },
 "nbformat": 4,
 "nbformat_minor": 2
}