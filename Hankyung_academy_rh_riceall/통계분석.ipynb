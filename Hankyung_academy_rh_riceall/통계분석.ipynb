{
 "cells": [
  {
   "cell_type": "code",
   "execution_count": null,
   "source": [
    "import scipy.stats as stats\r\n",
    "import pandas as pd\r\n",
    "import urllib\r\n",
    "from statsmodels.formula.api import ols\r\n",
    "from statsmodels.stats.anova import anova_lm\r\n",
    "import matplotlib.pyplot as plt\r\n",
    "import numpy as np\r\n",
    "%matplotlib inline"
   ],
   "outputs": [],
   "metadata": {}
  },
  {
   "cell_type": "code",
   "execution_count": null,
   "source": [
    "df = pd.read_excel('C:/Users/Sum/Desktop/Sumin/16.프로젝트/한경_농협양곡/00.데이터/추가데이터/네이버_상품_인구통계_2021-01-01_2021-06-30.xlsx')\r\n",
    "df.head(2)"
   ],
   "outputs": [],
   "metadata": {}
  },
  {
   "cell_type": "code",
   "execution_count": null,
   "source": [
    "df.나이.unique()"
   ],
   "outputs": [],
   "metadata": {}
  },
  {
   "cell_type": "code",
   "execution_count": null,
   "source": [
    "exp = ['십리향','진상','영호진미','하이아미','고시히카리','오대','추청'] \r\n",
    "young = ['21~25','26~30','31~35']\r\n",
    "middle = ['36~40','41~45','46~50','51~55']\r\n",
    "old = ['56~60','61~65','66~70','71+']\r\n",
    "\r\n",
    "df['가격대구분'] = ['비쌈' if x in exp else '보통이하' for x in df['품종']]\r\n",
    "df['나이대'] = ['청년' if x in young else '중년' if x in middle else '장년' if x in old else '그 외' for x in df['나이']]\r\n",
    "df.head(5)"
   ],
   "outputs": [],
   "metadata": {}
  },
  {
   "cell_type": "code",
   "execution_count": null,
   "source": [
    "# 가격대가 있음으로 분류한 제품만 필터링\r\n",
    "expensive = df[df.가격대구분 == '비쌈'][['나이대','결제상품수량']]\r\n",
    "# expensive = expensive[expensive.나이대 != '장년']"
   ],
   "outputs": [],
   "metadata": {}
  },
  {
   "cell_type": "markdown",
   "source": [
    "### ANOVA  \r\n",
    "전제조건  \r\n",
    "- 정규성  \r\n",
    "- 분산의 동질성\r\n",
    "- 관찰의 독립성  \r\n",
    "\r\n",
    "## Q.이미 통계처리가 된 부분이라서 전제조건에 대한 검증은 스킵해도 되지 않는지?"
   ],
   "metadata": {}
  },
  {
   "cell_type": "code",
   "execution_count": null,
   "source": [
    "# scipy.stats 이용\r\n",
    "# 다음에 추가"
   ],
   "outputs": [],
   "metadata": {}
  },
  {
   "cell_type": "code",
   "execution_count": null,
   "source": [
    "# statsmodel을 이용\r\n",
    "model = ols('결제상품수량 ~ 나이대',expensive).fit()\r\n",
    "print(anova_lm(model))"
   ],
   "outputs": [],
   "metadata": {}
  },
  {
   "cell_type": "markdown",
   "source": [
    "일원분산분석결과, F통계량은 4.38, p-value는 0.035으로 나타났다.  \r\n",
    "p-value의 값이 0.05이하이므로 각 그룹의 평균값이 통계적으로 유의하게 차이남을 알 수 있다. "
   ],
   "metadata": {}
  },
  {
   "cell_type": "markdown",
   "source": [
    "### Tukey's HSD\r\n",
    "다중비교 중 하나로 수준 집단간 차이가 어디에서 생겼는지 비교.  \r\n",
    "ANOVA이후 시행하는 사후분석이다.  \r\n",
    "https://mindscale.kr/course/basic-stat-python/22/"
   ],
   "metadata": {}
  },
  {
   "cell_type": "code",
   "execution_count": null,
   "source": [
    "from statsmodels.stats.multicomp import pairwise_tukeyhsd\r\n",
    "\r\n",
    "hsd = pairwise_tukeyhsd(expensive['결제상품수량'], expensive['나이대'], alpha=0.05)\r\n",
    "hsd.summary()"
   ],
   "outputs": [],
   "metadata": {}
  },
  {
   "cell_type": "markdown",
   "source": [
    "결제상품수량, 결제금액 모두 동일한 결과 출력됨."
   ],
   "metadata": {}
  },
  {
   "cell_type": "code",
   "execution_count": null,
   "source": [
    "df2 = pd.read_excel('C:/Users/Sum/Desktop/Sumin/16.프로젝트/한경_농협양곡/00.데이터/추가데이터/네이버_상품_인구통계_2021-01-01_2021-06-30.xlsx',sheet_name='age')\r\n",
    "df2['가격대구분'] = ['비쌈' if x in exp else '보통이하' for x in df2['품종']]\r\n",
    "df2.head()"
   ],
   "outputs": [],
   "metadata": {}
  },
  {
   "cell_type": "code",
   "execution_count": null,
   "source": [
    "expensive = df2[df2.가격대구분 == '비쌈']"
   ],
   "outputs": [],
   "metadata": {}
  },
  {
   "cell_type": "code",
   "execution_count": null,
   "source": [
    "model = ols('비율 ~ 나이',expensive).fit()\r\n",
    "print(anova_lm(model))"
   ],
   "outputs": [],
   "metadata": {}
  },
  {
   "cell_type": "markdown",
   "source": [
    "^^,,,,"
   ],
   "metadata": {}
  },
  {
   "cell_type": "code",
   "execution_count": null,
   "source": [],
   "outputs": [],
   "metadata": {}
  }
 ],
 "metadata": {
  "orig_nbformat": 4,
  "language_info": {
   "name": "python",
   "version": "3.8.3",
   "mimetype": "text/x-python",
   "codemirror_mode": {
    "name": "ipython",
    "version": 3
   },
   "pygments_lexer": "ipython3",
   "nbconvert_exporter": "python",
   "file_extension": ".py"
  },
  "kernelspec": {
   "name": "python3",
   "display_name": "Python 3.8.3 64-bit ('base': conda)"
  },
  "interpreter": {
   "hash": "63a3d0eb315879201a4ba4d849cfcb11f77ed8ed1ecd0e79837906be1748192d"
  }
 },
 "nbformat": 4,
 "nbformat_minor": 2
}