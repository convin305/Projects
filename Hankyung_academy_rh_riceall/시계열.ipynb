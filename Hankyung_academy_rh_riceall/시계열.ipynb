{
 "cells": [
  {
   "cell_type": "code",
   "execution_count": 1,
   "source": [
    "import pandas as pd\r\n",
    "import matplotlib.pyplot as plt\r\n",
    "\r\n",
    "import warnings\r\n",
    "warnings.filterwarnings(action='ignore', category=DeprecationWarning)\r\n",
    "\r\n",
    "import seaborn as sns\r\n",
    "\r\n",
    "import matplotlib as mpl\r\n",
    "mpl.rcParams['axes.unicode_minus'] = False\r\n",
    "plt.rcParams['font.family'] = 'Malgun Gothic'\r\n",
    "plt.rcParams['font.size'] = 10\r\n",
    "\r\n",
    "%matplotlib inline"
   ],
   "outputs": [],
   "metadata": {}
  },
  {
   "cell_type": "markdown",
   "source": [
    "## 일별 데이터의 경우 "
   ],
   "metadata": {}
  },
  {
   "cell_type": "code",
   "execution_count": null,
   "source": [
    "# 마이너스 포함 데이터 사용\r\n",
    "df = pd.read_excel('C:/Users/Sum/Desktop/Sumin/16.프로젝트/한경_농협양곡/00.데이터/시계열용.xlsx',sheet_name='price2')\r\n",
    "df.head()"
   ],
   "outputs": [],
   "metadata": {}
  },
  {
   "cell_type": "code",
   "execution_count": null,
   "source": [
    "df['날짜'] = pd.to_datetime(df['날짜'])\r\n",
    "df.info()"
   ],
   "outputs": [],
   "metadata": {}
  },
  {
   "cell_type": "code",
   "execution_count": null,
   "source": [
    "# 그래프 살펴보기\r\n",
    "plt.figure(figsize=(25,10))\r\n",
    "plt.plot(df.날짜, df.공급금액)\r\n",
    "plt.title(\"거래 날짜에 따른 공급금액 그래프\")\r\n",
    "plt.xlabel('날짜')\r\n",
    "plt.ylabel('공급금액')\r\n",
    "plt.show()"
   ],
   "outputs": [],
   "metadata": {}
  },
  {
   "cell_type": "markdown",
   "source": [
    "데이터의 등락폭이 너무나 커서 이런 현상이 발생하는 것 같음.  \r\n",
    "동시에 연도별로 살펴보면, 2019년을 제외하고는 하반기에 가서 매출이 증가하고 있다.  \r\n",
    "그러나 점진적으로 증가하고 있는 추세를 보이기 때문에 1차 차분으로 해결해보려고 함."
   ],
   "metadata": {}
  },
  {
   "cell_type": "code",
   "execution_count": null,
   "source": [
    "from statsmodels.tsa.seasonal import seasonal_decompose\r\n",
    "result = seasonal_decompose(df.공급금액, model='additive',freq=7)\r\n",
    "\r\n",
    "fig = plt.figure()\r\n",
    "fig = result.plot()\r\n",
    "fig.set_size_inches(20,15)"
   ],
   "outputs": [],
   "metadata": {}
  },
  {
   "cell_type": "code",
   "execution_count": null,
   "source": [
    "# ACF\r\n",
    "'''import statsmodels.api as sm\r\n",
    "fig = plt.figure(figsize=(20,8))\r\n",
    "ax1 = fig.add_subplot(211)\r\n",
    "fig = sm.graphics.tsa.plot_acf(df.공급금액,lags=20,ax=ax1)'''\r\n"
   ],
   "outputs": [],
   "metadata": {}
  },
  {
   "cell_type": "code",
   "execution_count": null,
   "source": [
    "from statsmodels.graphics.tsaplots import plot_acf, plot_pacf\r\n",
    "\r\n",
    "plot_acf(df.공급금액)\r\n",
    "plot_pacf(df.공급금액)\r\n",
    "plt.show()"
   ],
   "outputs": [],
   "metadata": {}
  },
  {
   "cell_type": "code",
   "execution_count": null,
   "source": [
    "\r\n",
    "from statsmodels.graphics.tsaplots import plot_acf, plot_pacf\r\n",
    "\r\n",
    "plot_acf(yymm.공급금액)\r\n",
    "plot_pacf(yymm.공급금액)\r\n",
    "plt.show()"
   ],
   "outputs": [],
   "metadata": {}
  },
  {
   "cell_type": "code",
   "execution_count": 35,
   "source": [
    "from statsmodels.tsa.stattools import adfuller\r\n",
    "result = adfuller(df.공급금액)\r\n",
    "print(f'p-values : {result[1]}')"
   ],
   "outputs": [
    {
     "output_type": "stream",
     "name": "stdout",
     "text": [
      "p-values : 0.03226256686006423\n"
     ]
    }
   ],
   "metadata": {}
  },
  {
   "cell_type": "code",
   "execution_count": null,
   "source": [
    "# 1차 차분\r\n",
    "df_dff = df - df.shift()\r\n",
    "df_dff.head()"
   ],
   "outputs": [],
   "metadata": {}
  },
  {
   "cell_type": "code",
   "execution_count": null,
   "source": [
    "plt.figure(figsize=(25,10))\r\n",
    "plt.plot( df_dff.공급금액)\r\n",
    "plt.title(\"거래 날짜에 따른 공급금액 그래프\")\r\n",
    "plt.xlabel('날짜')\r\n",
    "plt.ylabel('공급금액')\r\n",
    "plt.show()\r\n"
   ],
   "outputs": [],
   "metadata": {}
  },
  {
   "cell_type": "markdown",
   "source": [
    "1차 차분 후 나아졌다고 이게 볼수가 있는건지...."
   ],
   "metadata": {}
  },
  {
   "cell_type": "code",
   "execution_count": null,
   "source": [
    "from statsmodels.tsa.arima_model import ARIMA\r\n",
    "order=(1,1,1) # AR, 차분, MA\r\n",
    "model = ARIMA(df.공급금액,order)\r\n",
    "rfit = model.fit()\r\n",
    "rfit.summary()"
   ],
   "outputs": [],
   "metadata": {}
  },
  {
   "cell_type": "markdown",
   "source": [
    "## 월별 데이터의 경우"
   ],
   "metadata": {}
  },
  {
   "cell_type": "code",
   "execution_count": null,
   "source": [
    "yymm = pd.read_excel('C:/Users/Sum/Desktop/Sumin/16.프로젝트/한경_농협양곡/00.데이터/시계열용.xlsx',sheet_name='yearmonth')\r\n",
    "# 2021년 7월 데이터의 경우 혼자 너무 튀어서 삭제\r\n",
    "yymm.head()"
   ],
   "outputs": [],
   "metadata": {}
  },
  {
   "cell_type": "code",
   "execution_count": null,
   "source": [
    "yymm.날짜 = pd.to_datetime(yymm.날짜)\r\n",
    "del yymm['매출수량']\r\n",
    "yymm.info()"
   ],
   "outputs": [],
   "metadata": {}
  },
  {
   "cell_type": "code",
   "execution_count": null,
   "source": [
    "# 그래프 살펴보기\r\n",
    "plt.figure(figsize=(25,10))\r\n",
    "plt.plot(yymm.날짜,yymm.공급금액)\r\n",
    "plt.title(\"월별 거래 날짜에 따른 공급금액 그래프\")\r\n",
    "plt.xlabel('날짜')\r\n",
    "plt.ylabel('공급금액')\r\n",
    "plt.show()"
   ],
   "outputs": [],
   "metadata": {}
  },
  {
   "cell_type": "code",
   "execution_count": null,
   "source": [
    "# 0이 존재하므로 가법으로 진행, 월이므로 freq는 12\r\n",
    "result = seasonal_decompose(yymm.공급금액, model='additive',freq=12)\r\n",
    "\r\n",
    "fig = plt.figure()\r\n",
    "fig = result.plot()\r\n",
    "fig.set_size_inches(20,15)"
   ],
   "outputs": [],
   "metadata": {}
  },
  {
   "cell_type": "code",
   "execution_count": null,
   "source": [
    "from statsmodels.graphics.tsaplots import plot_acf, plot_pacf\r\n",
    "\r\n",
    "plot_acf(yymm.공급금액)\r\n",
    "plot_pacf(yymm.공급금액)\r\n",
    "plt.show()"
   ],
   "outputs": [],
   "metadata": {}
  },
  {
   "cell_type": "markdown",
   "source": [
    "ACF를 살펴보면 자기상관이 있는 것으로 판단됨.  \r\n",
    "절단값 추정 : 4  \r\n",
    "PACF에서는 2\r\n"
   ],
   "metadata": {}
  }
 ],
 "metadata": {
  "orig_nbformat": 4,
  "language_info": {
   "name": "python",
   "version": "3.8.3",
   "mimetype": "text/x-python",
   "codemirror_mode": {
    "name": "ipython",
    "version": 3
   },
   "pygments_lexer": "ipython3",
   "nbconvert_exporter": "python",
   "file_extension": ".py"
  },
  "kernelspec": {
   "name": "python3",
   "display_name": "Python 3.8.3 64-bit ('base': conda)"
  },
  "interpreter": {
   "hash": "63a3d0eb315879201a4ba4d849cfcb11f77ed8ed1ecd0e79837906be1748192d"
  }
 },
 "nbformat": 4,
 "nbformat_minor": 2
}