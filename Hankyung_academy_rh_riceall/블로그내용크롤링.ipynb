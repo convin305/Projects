{
 "metadata": {
  "language_info": {
   "codemirror_mode": {
    "name": "ipython",
    "version": 3
   },
   "file_extension": ".py",
   "mimetype": "text/x-python",
   "name": "python",
   "nbconvert_exporter": "python",
   "pygments_lexer": "ipython3",
   "version": "3.8.5"
  },
  "orig_nbformat": 4,
  "kernelspec": {
   "name": "python3",
   "display_name": "Python 3.8.5 64-bit ('base': conda)"
  },
  "interpreter": {
   "hash": "a9304dfccfc2803363eba81e94316a7fbb7230839deefde8043067d034843f70"
  }
 },
 "nbformat": 4,
 "nbformat_minor": 2,
 "cells": [
  {
   "cell_type": "code",
   "execution_count": 1,
   "metadata": {},
   "outputs": [],
   "source": [
    "from urllib.parse import quote\n",
    "import selenium\n",
    "from selenium import webdriver\n",
    "\n",
    "path = 'C:/Users/Sumin/Sumin/한경 프로젝트/chromedriver.exe'\n",
    "driver = webdriver.Chrome(path)"
   ]
  },
  {
   "cell_type": "code",
   "execution_count": 2,
   "metadata": {},
   "outputs": [],
   "source": [
    "search = \"농협양곡\"\n",
    "text = quote(search)"
   ]
  },
  {
   "cell_type": "code",
   "execution_count": 3,
   "metadata": {},
   "outputs": [],
   "source": [
    "driver.get(f'https://search.naver.com/search.naver?where=view&sm=tab_jum&query={text}')"
   ]
  },
  {
   "source": [
    "## 검색 결과 페이지에서 블로그 링크 가져오기"
   ],
   "cell_type": "markdown",
   "metadata": {}
  },
  {
   "cell_type": "code",
   "execution_count": 4,
   "metadata": {},
   "outputs": [],
   "source": [
    "link_list=[]"
   ]
  },
  {
   "cell_type": "code",
   "execution_count": 5,
   "metadata": {},
   "outputs": [
    {
     "output_type": "execute_result",
     "data": {
      "text/plain": [
       "'https://blog.naver.com/sweetipear/222320841712'"
      ]
     },
     "metadata": {},
     "execution_count": 5
    }
   ],
   "source": [
    "a = driver.find_element_by_css_selector('#main_pack > section > div > div._list > panel-list > div > more-contents > div > ul > li:nth-child(2) > div.total_wrap.api_ani_send > a').get_attribute('href')\n",
    "a"
   ]
  },
  {
   "cell_type": "code",
   "execution_count": 6,
   "metadata": {},
   "outputs": [
    {
     "output_type": "stream",
     "name": "stdout",
     "text": [
      "스크롤 내림\n",
      "10번째 완료\n",
      "30번째 완료\n",
      "40번째 완료\n",
      "50번째 완료\n",
      "60번째 완료\n",
      "70번째 완료\n",
      "90번째 완료\n",
      "110번째 완료\n"
     ]
    }
   ],
   "source": [
    "import time\n",
    "\n",
    "\n",
    "SCROLL_PAUSE_SEC = 1\n",
    "\n",
    "# 스크롤 높이 가져옴\n",
    "last_height = driver.execute_script(\"return document.body.scrollHeight\")\n",
    "\n",
    "while True:\n",
    "    # 끝까지 스크롤 다운\n",
    "    driver.execute_script(\"window.scrollTo(0, document.body.scrollHeight);\")\n",
    "\n",
    "    # 1초 대기\n",
    "    time.sleep(SCROLL_PAUSE_SEC)\n",
    "\n",
    "    # 스크롤 다운 후 스크롤 높이 다시 가져옴\n",
    "    new_height = driver.execute_script(\"return document.body.scrollHeight\")\n",
    "    if new_height == last_height:\n",
    "        break\n",
    "    last_height = new_height\n",
    "time.sleep(4)\n",
    "print('스크롤 내림')\n",
    "\n",
    "\n",
    "for i in range(1, 200):\n",
    "    try : \n",
    "        a = driver.find_element_by_css_selector(f'#main_pack > section > div > div._list > panel-list > div > more-contents > div > ul > li:nth-child({i}) > div.total_wrap.api_ani_send > a')\n",
    "        link = a.get_attribute('href')\n",
    "        link_list.append(link)\n",
    "        if i % 10 == 0:\n",
    "            print(f'{i}번째 완료')\n",
    "    except : \n",
    "        pass\n"
   ]
  },
  {
   "cell_type": "code",
   "execution_count": 11,
   "metadata": {},
   "outputs": [],
   "source": [
    "import pandas as pd\n",
    "\n",
    "df = pd.DataFrame(link_list)\n",
    "df.to_csv('data/blog.csv')"
   ]
  },
  {
   "cell_type": "code",
   "execution_count": 9,
   "metadata": {},
   "outputs": [
    {
     "output_type": "execute_result",
     "data": {
      "text/plain": [
       "83"
      ]
     },
     "metadata": {},
     "execution_count": 9
    }
   ],
   "source": [
    "len(link_list)"
   ]
  },
  {
   "source": [
    "## 블로그 내용 가져오기"
   ],
   "cell_type": "markdown",
   "metadata": {}
  },
  {
   "cell_type": "code",
   "execution_count": 26,
   "metadata": {},
   "outputs": [],
   "source": [
    "with open('data/clientid.txt',mode='r') as key_file:\n",
    "    client_id = key_file.read()\n",
    "\n",
    "with open('data/clientsecret.txt', mode='r') as key_secret:\n",
    "    client_secret = key_secret.read()"
   ]
  },
  {
   "cell_type": "code",
   "execution_count": 33,
   "metadata": {},
   "outputs": [
    {
     "output_type": "stream",
     "name": "stdout",
     "text": [
      "{\n\"lastBuildDate\": \"Fri, 06 Aug 2021 15:17:28 +0900\",\n\"total\": 5921,\n\"start\": 1,\n\"display\": 10,\n\"items\": [\n{\n\"title\": \"[자율활동]3.5단계. &quot;<b>농협양곡</b>&quot; 기업 탐방\",\n\"link\": \"https:\\/\\/blog.naver.com\\/somsomin99?Redirect=Log&logNo=222086955643\",\n\"description\": \"<b>농협양곡</b> 저장-도정-포장 시설 견학 진천농형양곡미곡종합처리장 1. 벼를 보관하는 저장시설 2.... 생거진천쌀 유통처 농협 물류센터 및 하나로클럽: 매출량 증가추세 대형유통업체 (CJ주식회사, 이마트 등)... \",\n\"bloggername\": \"건YAFF블리 (건얍블리)\",\n\"bloggerlink\": \"https://blog.naver.com/somsomin99\",\n\"postdate\": \"20200911\"\n\n},\n{\n\"title\": \"안성시카페 <b>농협양곡</b>창고를 리모델링한 베이커리카페 보개바람\",\n\"link\": \"https:\\/\\/blog.naver.com\\/jinstorybook?Redirect=Log&logNo=222421363171\",\n\"description\": \"양곡창고를 리모델링한 카페가 있다고 해서 다녀왔습니다. 보개바람은 경기도 안성시 보개면 불현길... 포토존이 많아 사진 찍기 좋고 <b>농협양곡</b>창고를 리모델링한 카페라 이색적인 곳이에요. : )\",\n\"bloggername\": \"JIN story\",\n\"bloggerlink\": \"https://blog.naver.com/jinstorybook\",\n\"postdate\": \"20210708\"\n\n},\n{\n\"title\": \"<b>농협</b>안성 <b>양곡</b> 유통센터 화재\",\n\"link\": \"https:\\/\\/blog.naver.com\\/sweetipear?Redirect=Log&logNo=222320841712\",\n\"description\": \"나중에 알아보니 불이 난 곳은 <b>농협</b>에서 운영하는 <b>양곡</b> 유통센터라고 합니다. <b>양곡</b>이면 쌀도 포함되어 있을 텐데 쌀이 재로 많이 변했을지 걱정됩니다. 이번 화재로 직원 한 명이 화상을 입어서 병원으로... \",\n\"bloggername\": \"개두령\",\n\"bloggerlink\": \"https://blog.naver.com/sweetipear\",\n\"postdate\": \"20210423\"\n\n},\n{\n\"title\": \"벽제<b>농협 양곡</b>창고,  주민 위한... 고양시-벽제농협, 창고활용... \",\n\"link\": \"https:\\/\\/blog.naver.com\\/leejaejoongoyang?Redirect=Log&logNo=222253723890\",\n\"description\": \"24 관산동 주민들을 위한 문화공간을 변신하게 될 벽제<b>농협 양곡</b>창고. 붉은 벽돌 외관이 아름답다. [고양신문] 벽제농협 본관 주차장에 서 있는 오래된 양곡창고가 지역주민들을 위한 복합문화공간으로... \",\n\"bloggername\": \"고양시장 이재준입니다\",\n\"bloggerlink\": \"https://blog.naver.com/leejaejoongoyang\",\n\"postdate\": \"20210223\"\n\n},\n{\n\"title\": \"[안성 카페] <b>농협양곡</b>창고 개조 카페 - 보개바람\",\n\"link\": \"https:\\/\\/blog.naver.com\\/17717923?Redirect=Log&logNo=222443037845\",\n\"description\": \"#안성카페 #안성농협개조카페 #보개바람 안성 카페 ‘보개바람’ 지난주 평일에 안성에 위치한 카페에 다녀왔어요! 평일이라 그런지 사람이 생각보다 없어서 사진도 맘껏 찍구 좋았어요! <b>농협양곡</b>창고를... \",\n\"bloggername\": \"소소한 story\",\n\"bloggerlink\": \"https://blog.naver.com/17717923\",\n\"postdate\": \"20210723\"\n\n},\n{\n\"title\": \"⭕ 경기 안성 미양면 <b>농협 양곡</b>유통센터 화재 불 ! 직원 1명... \",\n\"link\": \"https:\\/\\/blog.naver.com\\/ahnjs7883?Redirect=Log&logNo=222320665666\",\n\"description\": \"<b>농협 양곡</b>유통센터 화재 불 ! 직원 1명 화상 ! 경기 안성 미양 농협 화재 ... 양곡유통센터 불 검은 연기 뿜어 ... 23일 오후 2시 27분께 경기 안성시 미양면 소재 미양농협 안성양곡유통센터 창고에서 불이... \",\n\"bloggername\": \"❤둘리삼촌의 해피월드❤\",\n\"bloggerlink\": \"https://blog.naver.com/ahnjs7883\",\n\"postdate\": \"20210423\"\n\n},\n{\n\"title\": \"2020년 햅쌀, <b>농협양곡</b>의 전국 햅쌀 지도보고 추석준비하세요\",\n\"link\": \"https:\\/\\/blog.naver.com\\/nh_foodgrain_inc?Redirect=Log&logNo=222083885042\",\n\"description\": \"#<b>농협양곡</b> #햅쌀 #2020햅쌀 #2020년햅쌀 #추석햅쌀 #추석쌀 #쌀구매 안녕하세요! 항상 유용한 쌀 정보를 들고오는 농협이입니다. 곧 2020년 추석이 다가오고 있는데요. 추석을 맞이하면서 2020년 햅쌀을 찾고... \",\n\"bloggername\": \"농협양곡 공식블로그\",\n\"bloggerlink\": \"https://blog.naver.com/nh_foodgrain_inc\",\n\"postdate\": \"20200909\"\n\n},\n{\n\"title\": \"논산 연무<b>농협 양곡</b>저장창고 공사\",\n\"link\": \"https:\\/\\/blog.naver.com\\/koeltech?Redirect=Log&logNo=221742541081\",\n\"description\": \"최근에 공사한 현장 중 <b>양곡</b>저장창고 공사 내용입니다. 도면과 1:1로 3D 렌더링을 하여 관련되는 문제를... 연무<b>농협</b> 미곡종합처리장은 잘관리 된 설비로 양질의 쌀로 재탄생 시키고 있습니다. 품질 및 밥맛이... \",\n\"bloggername\": \"KOEL 님의블로그\",\n\"bloggerlink\": \"https://blog.naver.com/koeltech\",\n\"postdate\": \"20191219\"\n\n},\n{\n\"title\": \"포천시, 일동<b>농협 양곡</b>창고 무상대차 협약 체결\",\n\"link\": \"https:\\/\\/blog.naver.com\\/pcmnews?Redirect=Log&logNo=222223871653\",\n\"description\": \"포천시는 28일 일동농협(조합장 김광수)과 일동면 기산리 일동<b>농협 양곡</b>창고 무상대차 상생협약을... 일이화 청년 상단 임원진 등이 참석했다. #포천매일뉴스 #포천시 #양곡창고 #무상대차계약 #청년상단 #일동농협\",\n\"bloggername\": \"포천매일뉴스\",\n\"bloggerlink\": \"https://blog.naver.com/pcmnews\",\n\"postdate\": \"20210129\"\n\n},\n{\n\"title\": \"(<b>농협양곡</b>) 한토래 건강혼합 10곡 2kg  +  2kg\",\n\"link\": \"https:\\/\\/blog.naver.com\\/pyj69741?Redirect=Log&logNo=222066717338\",\n\"description\": \"잡곡을 거즌 다 먹고 구매할 시기가 되어 폭풍검색에 들어간 몽실맘~ 농협에서 판매하는 신동진쌀을... 울집 잡곡 자리~ 한봉지는 김치냉장고로 ㄱㄱㄱㄱ 건강해지는 잡곡~ #잡곡 #<b>농협양곡</b> #건강챙기기... \",\n\"bloggername\": \"댕댕이와 떠나는 국내차박여행\",\n\"bloggerlink\": \"https://blog.naver.com/pyj69741\",\n\"postdate\": \"20200821\"\n\n}\n]\n}\n\n"
     ]
    }
   ],
   "source": [
    "import os\n",
    "import sys\n",
    "import urllib.request\n",
    "\n",
    "\n",
    "encText = urllib.parse.quote(\"농협양곡\")\n",
    "url = \"https://openapi.naver.com/v1/search/blog?query=\" + encText + \"&display=100\" # json 결과\n",
    "# url = \"https://openapi.naver.com/v1/search/blog.xml?query=\" + encText # xml 결과\n",
    "request = urllib.request.Request(url)\n",
    "request.add_header(\"X-Naver-Client-Id\",client_id)\n",
    "request.add_header(\"X-Naver-Client-Secret\",client_secret)\n",
    "response = urllib.request.urlopen(request)\n",
    "rescode = response.getcode()\n",
    "if(rescode==200):\n",
    "    response_body = response.read()\n",
    "    print(response_body.decode('utf-8'))\n",
    "else:\n",
    "    print(\"Error Code:\" + rescode)"
   ]
  },
  {
   "cell_type": "code",
   "execution_count": 52,
   "metadata": {},
   "outputs": [
    {
     "output_type": "stream",
     "name": "stdout",
     "text": [
      "url 수집 끝, 해당 url 데이터 크롤링\n",
      "크롤링 끝\n"
     ]
    }
   ],
   "source": [
    "# 크롬 웹브라우저 실행\n",
    "\n",
    "driver = webdriver.Chrome(path)\n",
    "url_list = []\n",
    "content_list = []\n",
    "c = \"\"\n",
    "text = \"농협양곡\"\n",
    " \n",
    "for i in range(1, 50):  # 1~2페이지까지의 블로그 내용을 읽어옴\n",
    "    url = 'https://section.blog.naver.com/Search/Post.nhn?pageNo='+ str(i) + '&rangeType=ALL&orderBy=sim&keyword=' + text\n",
    "    driver.get(url)\n",
    "    time.sleep(0.5)\n",
    " \n",
    "    for j in range(1, 8): # 각 블로그 주소 저장\n",
    "        titles = driver.find_element_by_xpath('/html/body/ui-view/div/main/div/div/section/div[2]/div['+str(j)+']/div/div[1]/div[1]/a[1]')\n",
    "        title = titles.get_attribute('href')\n",
    "        url_list.append(title)\n",
    " \n",
    "print(\"url 수집 끝, 해당 url 데이터 크롤링\")\n",
    " \n",
    "for url in url_list: # 수집한 url 만큼 반복\n",
    "    driver.get(url) # 해당 url로 이동\n",
    " \n",
    "    driver.switch_to.frame('mainFrame')\n",
    "    overlays = \".se-component.se-text.se-l-default\" # 내용 크롤링\n",
    "    contents = driver.find_elements_by_css_selector(overlays)\n",
    " \n",
    "    for content in contents:\n",
    "        c = c + content.text\n",
    "    content_list.append(c)\n",
    "    c = \"\"\n",
    "print(\"크롤링 끝\")"
   ]
  },
  {
   "cell_type": "code",
   "execution_count": 53,
   "metadata": {},
   "outputs": [],
   "source": [
    "df = pd.DataFrame(content_list)\n",
    "df.to_csv('data/blog_content.csv',encoding='utf-8-sig')"
   ]
  },
  {
   "cell_type": "code",
   "execution_count": null,
   "metadata": {},
   "outputs": [],
   "source": []
  }
 ]
}