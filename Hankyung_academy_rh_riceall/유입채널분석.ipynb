{
 "cells": [
  {
   "cell_type": "code",
   "execution_count": 1,
   "source": [
    "import pandas as pd\r\n",
    "import matplotlib.pyplot as plt\r\n",
    "\r\n",
    "import warnings\r\n",
    "warnings.filterwarnings(action='ignore', category=DeprecationWarning)\r\n",
    "\r\n",
    "import seaborn as sns\r\n",
    "\r\n",
    "import matplotlib as mpl\r\n",
    "mpl.rcParams['axes.unicode_minus'] = False\r\n",
    "plt.rcParams['font.family'] = 'Malgun Gothic'\r\n",
    "plt.rcParams['font.size'] = 10\r\n",
    "\r\n",
    "%matplotlib inline"
   ],
   "outputs": [],
   "metadata": {}
  },
  {
   "cell_type": "markdown",
   "source": [
    "## 마케팅 채널의 경우"
   ],
   "metadata": {}
  },
  {
   "cell_type": "code",
   "execution_count": null,
   "source": [
    "mc = pd.read_excel('C:/Users/Sum/Desktop/Sumin/16.프로젝트/한경_농협양곡/00.데이터/추가데이터/네이버_상품_마케팅채널_2021-01-01_2021-06-30.xlsx')\r\n",
    "mc.head()"
   ],
   "outputs": [],
   "metadata": {}
  },
  {
   "cell_type": "code",
   "execution_count": 3,
   "source": [
    "del mc['상품카테고리(대)']\r\n",
    "del mc['상품카테고리(중)']\r\n",
    "del mc['상품ID']"
   ],
   "outputs": [],
   "metadata": {}
  },
  {
   "cell_type": "code",
   "execution_count": 10,
   "source": [
    "mc.columns=['상품카테고리','세부카테고리','상품명','채널그룹','채널명','채널상세','채널통합','결제수','결제금액']"
   ],
   "outputs": [],
   "metadata": {}
  },
  {
   "cell_type": "code",
   "execution_count": null,
   "source": [
    "mc.head()"
   ],
   "outputs": [],
   "metadata": {}
  },
  {
   "cell_type": "code",
   "execution_count": null,
   "source": [
    "seg1 = pd.pivot_table(data=mc, index = '채널명', values='결제금액',aggfunc=sum)\r\n",
    "seg1.sort_values(by='결제금액',ascending=False)"
   ],
   "outputs": [],
   "metadata": {}
  },
  {
   "cell_type": "markdown",
   "source": [
    "- 네이버쇼핑-검색 : 네이버쇼핑에서 바로 검색어를 입력하여 유입, 쇼핑 더보기를 클릭하여 유입(네이버쇼핑-통합검색보다 한단계를 더 거침)  \r\n",
    "- 네이버쇼핑-통합검색 : 통합검색을 먼저 한 후 네이버쇼핑영역에서 유입된 경우  \r\n",
    "- 네이버페이 : 네이버페이서비스(장바구니,주문내역)등을 통해 유입  \r\n",
    "- 네이버쇼핑-카탈로그(검색) : 상품의 가격비교 페이지를 거쳐 스토어로 유입되는 경우  \r\n",
    "- (알수없음)  \r\n",
    "- 네이버쇼핑-서비스 : 채널상세를 봐야 함.  \r\n",
    " 공통 - 쇼핑검색, 쇼핑광고를 제외하고 쇼핑홈, 핫딜, 추천상품, 최상단 배너 등을 제외한 부분에서의 유입  \r\n",
    " 쇼핑MY - 네이버쇼핑의 쇼핑 MY 서비스로부터의 유입, 네이버쇼핑 홈(Home)의 최근본상품, 찜한상품, 찜한스토어, 재구매추천에서 유입된 경우  \r\n",
    "- 네이버 모바일메인 : 스마트스토어로 바로 유입된 경우  \r\n",
    "- 네이버검색 - 네이버메인 검색에서 바로 스마트스토어 링크를 클릭한 경우  \r\n",
    "- 네이버쇼핑-카탈로그(검색외) : 가격비교 페이지를 거쳐서 유입되었으나 검색어가 존재하지 않음. 함께 찾아본 상품 등으로 유입된 경우  \r\n",
    "- 웹사이트  \r\n",
    "- 네이버톡톡  \r\n",
    "- 네이버블로그  "
   ],
   "metadata": {}
  },
  {
   "cell_type": "markdown",
   "source": [
    "네이버쇼핑-검색을 통해서 유입된 고객은 구매하려는 정확한 의도를 가지고 네이버쇼핑에 검색을 한 것. 브랜드의 경우에는 상관이 없어보임  \r\n",
    "네이버 페이의 경우, 장바구니나 주문내역을 통해서 정확한 제품과 브랜드의 구매 의도가 있다는 것을 알 수 있음.  \r\n",
    "* 정확한 브랜드 인지 후 구매  \r\n",
    "  네이버페이, 네이버쇼핑-서비스 중 MY, 네이버톡톡, 웹사이트, 네이버검색, 네이버모바일메인  \r\n",
    "* 브랜드는 지정하지 않고 구매  \r\n",
    "  네이버쇼핑-검색, 네이버쇼핑-통합검색, 네이버쇼핑-카탈로그(검색), 네이버쇼핑-카탈로그(검색외)  \r\n",
    "* 기타  \r\n",
    "  네이버쇼핑-서비스 중 공통, 알수없음, 네이버블로그 등"
   ],
   "metadata": {}
  },
  {
   "cell_type": "code",
   "execution_count": 14,
   "source": [
    "mc['채널통합'].unique()"
   ],
   "outputs": [
    {
     "output_type": "execute_result",
     "data": {
      "text/plain": [
       "array(['네이버쇼핑-카탈로그(검색)', '네이버쇼핑-검색', '네이버페이', '네이버쇼핑-통합검색', '(알수없음)',\n",
       "       '네이버쇼핑-서비스:공통', '네이버쇼핑-카탈로그(검색외)', '네이버 모바일메인', '네이버검색', '웹사이트',\n",
       "       '네이버톡톡', '네이버쇼핑-서비스:쇼핑MY', '네이버 블로그'], dtype=object)"
      ]
     },
     "metadata": {},
     "execution_count": 14
    }
   ],
   "metadata": {}
  },
  {
   "cell_type": "code",
   "execution_count": 21,
   "source": [
    "good = ['네이버페이','네이버쇼핑-서비스:쇼핑MY','네이버톡톡','웹사이트','네이버검색','네이버모바일메인']\r\n",
    "bad = ['네이버쇼핑-검색','네이버쇼핑-통합검색','네이버쇼핑-카탈로그(검색)','네이버쇼핑-카탈로그(검색외)']\r\n",
    "\r\n",
    "mc['인지여부'] = ['브랜드지정' if x in good else '브랜드비지정' if x in bad else '알수없음' for x in mc['채널통합'] ]\r\n"
   ],
   "outputs": [],
   "metadata": {}
  },
  {
   "cell_type": "code",
   "execution_count": null,
   "source": [
    "mc.head()"
   ],
   "outputs": [],
   "metadata": {}
  },
  {
   "cell_type": "code",
   "execution_count": null,
   "source": [
    "seg2 = pd.pivot_table(data=mc, index='인지여부', values='결제금액',aggfunc=sum)\r\n",
    "seg2"
   ],
   "outputs": [],
   "metadata": {}
  },
  {
   "cell_type": "code",
   "execution_count": null,
   "source": [
    "plt.pie(seg2,labels=seg2.index, colors=['lightcoral','gold','grey'],autopct='%0.1f%%')\r\n",
    "plt.show()"
   ],
   "outputs": [],
   "metadata": {}
  },
  {
   "cell_type": "markdown",
   "source": [
    "농협이라는 브랜드, 농협에서 판매하고 있는 제품을 특정해서 구매하는 사람들은 전체의 25%가 되지 않는다.   \r\n",
    "그렇기 때문에 심리테스트 마케팅을 이용하여 농협 제품에 대한 인지도를 높히고  \r\n",
    "쿠폰제공으로 실제 구매까지 이어지도록 활용  \r\n",
    "동시에 쌀의 재구매 주기가 2~3개월임을 고려하여 심리테스트 마케팅 후 이모티콘 마케팅을 진행해 재구매가 이루어질 시점에 농협 제품을 구매할 수 있도록 유도"
   ],
   "metadata": {}
  },
  {
   "cell_type": "markdown",
   "source": [
    "# 전체 마케팅 채널의 경우"
   ],
   "metadata": {}
  },
  {
   "cell_type": "code",
   "execution_count": null,
   "source": [
    "hc = pd.read_excel('C:/Users/Sum/Desktop/Sumin/16.프로젝트/한경_농협양곡/00.데이터/추가데이터/네이버_전체채널_2021-01-01_2021-06-30.xlsx')\r\n",
    "hc.head()"
   ],
   "outputs": [],
   "metadata": {}
  },
  {
   "cell_type": "markdown",
   "source": [
    "추후 진행예정"
   ],
   "metadata": {}
  },
  {
   "cell_type": "code",
   "execution_count": null,
   "source": [],
   "outputs": [],
   "metadata": {}
  }
 ],
 "metadata": {
  "orig_nbformat": 4,
  "language_info": {
   "name": "python",
   "version": "3.8.3",
   "mimetype": "text/x-python",
   "codemirror_mode": {
    "name": "ipython",
    "version": 3
   },
   "pygments_lexer": "ipython3",
   "nbconvert_exporter": "python",
   "file_extension": ".py"
  },
  "kernelspec": {
   "name": "python3",
   "display_name": "Python 3.8.3 64-bit ('base': conda)"
  },
  "interpreter": {
   "hash": "63a3d0eb315879201a4ba4d849cfcb11f77ed8ed1ecd0e79837906be1748192d"
  }
 },
 "nbformat": 4,
 "nbformat_minor": 2
}