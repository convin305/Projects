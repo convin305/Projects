{
 "cells": [
  {
   "cell_type": "code",
   "execution_count": 1,
   "metadata": {},
   "outputs": [],
   "source": [
    "import csv\n",
    "import json\n",
    "import requests\n",
    "\n",
    "limit = 30 \n",
    "\n",
    "room_list_result = [{'room_id' : 'room_id', 'room_type' : 'room_type', 'is_quick' : 'is_quick'}]"
   ]
  },
  {
   "cell_type": "code",
   "execution_count": 20,
   "metadata": {},
   "outputs": [],
   "source": [
    "import pandas as pd"
   ]
  },
  {
   "cell_type": "code",
   "execution_count": null,
   "metadata": {},
   "outputs": [],
   "source": [
    "title,room_type_str,location, room_desc, room_desc2, price_title, selling_type_str = [],[],[],[],[],[],[]\n",
    "\n",
    "for page in range(1,limit):\n",
    "    try : \n",
    "        req = requests.get(f'https://www.dabangapp.com/api/3/room/list/multi-room/bbox?api_version=3.0.1&call_type=web&filters=%7B%22multi_room_type%22%3A%5B0%2C1%2C2%5D%2C%22selling_type%22%3A%5B0%2C1%2C2%5D%2C%22deposit_range%22%3A%5B0%2C999999%5D%2C%22price_range%22%3A%5B0%2C999999%5D%2C%22trade_range%22%3A%5B0%2C999999%5D%2C%22maintenance_cost_range%22%3A%5B0%2C999999%5D%2C%22room_size%22%3A%5B0%2C999999%5D%2C%22supply_space_range%22%3A%5B0%2C999999%5D%2C%22room_floor_multi%22%3A%5B1%2C2%2C3%2C4%2C5%2C6%2C7%2C-1%2C0%5D%2C%22division%22%3Afalse%2C%22duplex%22%3Afalse%2C%22room_type%22%3A%5B1%2C2%5D%2C%22use_approval_date_range%22%3A%5B0%2C999999%5D%2C%22parking_average_range%22%3A%5B0%2C999999%5D%2C%22household_num_range%22%3A%5B0%2C999999%5D%2C%22parking%22%3Afalse%2C%22animal%22%3Afalse%2C%22short_lease%22%3Afalse%2C%22full_option%22%3Afalse%2C%22built_in%22%3Afalse%2C%22elevator%22%3Afalse%2C%22balcony%22%3Afalse%2C%22loan%22%3Afalse%2C%22safety%22%3Afalse%2C%22pano%22%3Afalse%2C%22deal_type%22%3A%5B0%2C1%5D%7D&location=%5B%5B127.0037741%2C37.5782655%5D%2C%5B127.0811934%2C37.6351787%5D%5D&page={page}&version=1&zoom=14')\n",
    "        data = req.json()\n",
    "\n",
    "        for i in range(0, len(data['rooms'])+1):\n",
    "            title.append(data['rooms'][i]['title'])\n",
    "            room_type_str.append(data['rooms'][i]['room_type_str'])\n",
    "            location.append(data['rooms'][i]['location'])\n",
    "            room_desc.append(data['rooms'][i]['room_desc'])\n",
    "            room_desc2.append(data['rooms'][i]['room_desc2'])\n",
    "            price_title.append(data['rooms'][i]['price_title'])\n",
    "            selling_type_str.append(data['rooms'][i][\"selling_type_str\"])\n",
    "            \n",
    "    except : \n",
    "        pass\n",
    "    \n",
    "dabang = pd.DataFrame({\n",
    "    'title' : title,\n",
    "    'room_type' : room_type_str,\n",
    "    'selling_type_str' : selling_type_str,\n",
    "    'location' : location,\n",
    "    'room_desc' : room_desc,\n",
    "    'room_desc2' : room_desc2,\n",
    "    'price_title' : price_title\n",
    "})\n",
    "\n",
    "dabang.to_csv('dabang_crawling.csv',encoding='utf-8-sig')"
   ]
  },
  {
   "cell_type": "code",
   "execution_count": null,
   "metadata": {},
   "outputs": [],
   "source": []
  }
 ],
 "metadata": {
  "kernelspec": {
   "display_name": "Python 3",
   "language": "python",
   "name": "python3"
  },
  "language_info": {
   "codemirror_mode": {
    "name": "ipython",
    "version": 3
   },
   "file_extension": ".py",
   "mimetype": "text/x-python",
   "name": "python",
   "nbconvert_exporter": "python",
   "pygments_lexer": "ipython3",
   "version": "3.8.3"
  }
 },
 "nbformat": 4,
 "nbformat_minor": 4
}
