{
  "nbformat": 4,
  "nbformat_minor": 0,
  "metadata": {
    "colab": {
      "name": "LSTM2_0.023625.ipynb",
      "provenance": [],
      "collapsed_sections": [],
      "authorship_tag": "ABX9TyNNRNdAJOqfWIWKm4EN838e"
    },
    "kernelspec": {
      "name": "python3",
      "display_name": "Python 3"
    },
    "language_info": {
      "name": "python"
    },
    "accelerator": "GPU"
  },
  "cells": [
    {
      "cell_type": "markdown",
      "metadata": {
        "id": "4IPL7uPT4XQU"
      },
      "source": [
        "## 개요"
      ]
    },
    {
      "cell_type": "markdown",
      "metadata": {
        "id": "3nutiEkglJmg"
      },
      "source": [
        "\n",
        "- 정규화 : Min-Max Scaler  \n",
        "- 활성화함수 : 하이퍼볼릭탄젠트  \n",
        "- 옵티마이저 : Adam  \n",
        "- 활성함수 : relu  \n",
        "- layer 수 : 4,6,8  \n",
        "- epoch : 50,100,250"
      ]
    },
    {
      "cell_type": "code",
      "metadata": {
        "id": "dG99uIIyA1y0"
      },
      "source": [
        "import pandas as pd\n",
        "import numpy as np\n",
        "import matplotlib.pyplot as plt\n",
        "import matplotlib.font_manager as fm\n",
        "import seaborn as sns\n",
        "\n",
        "np.random.seed(2021)\n",
        "\n",
        "import warnings\n",
        "warnings.filterwarnings(action='ignore')"
      ],
      "execution_count": null,
      "outputs": []
    },
    {
      "cell_type": "code",
      "metadata": {
        "colab": {
          "base_uri": "https://localhost:8080/"
        },
        "id": "mhHq1dc5Dngh",
        "outputId": "39471a34-0226-40e4-d02e-1cc1d2c8254a"
      },
      "source": [
        "## matplotlib 사용시 한국어 나오게 하는 코드\n",
        "!apt -qq -y install fonts-nanum\n",
        "fontpath = '/usr/share/fonts/truetype/nanum/NanumBarunGothic.ttf'\n",
        "font = fm.FontProperties(fname=fontpath, size=9)\n",
        "fm._rebuild()\n",
        "\n",
        "# 그래프에 retina display 적용\n",
        "%config InlineBackend.figure_format = 'retina'\n",
        "\n",
        "# Colab 의 한글 폰트 설정\n",
        "plt.rc('font', family='NanumBarunGothic')"
      ],
      "execution_count": null,
      "outputs": [
        {
          "output_type": "stream",
          "name": "stdout",
          "text": [
            "The following NEW packages will be installed:\n",
            "  fonts-nanum\n",
            "0 upgraded, 1 newly installed, 0 to remove and 37 not upgraded.\n",
            "Need to get 9,604 kB of archives.\n",
            "After this operation, 29.5 MB of additional disk space will be used.\n",
            "Selecting previously unselected package fonts-nanum.\n",
            "(Reading database ... 155013 files and directories currently installed.)\n",
            "Preparing to unpack .../fonts-nanum_20170925-1_all.deb ...\n",
            "Unpacking fonts-nanum (20170925-1) ...\n",
            "Setting up fonts-nanum (20170925-1) ...\n",
            "Processing triggers for fontconfig (2.12.6-0ubuntu2) ...\n"
          ]
        }
      ]
    },
    {
      "cell_type": "code",
      "metadata": {
        "colab": {
          "base_uri": "https://localhost:8080/"
        },
        "id": "KzFpzvqf_PLV",
        "outputId": "4c62571b-da42-4564-f6be-ace3ac2de769"
      },
      "source": [
        "from google.colab import drive\n",
        "drive.mount('/content/drive')"
      ],
      "execution_count": null,
      "outputs": [
        {
          "output_type": "stream",
          "name": "stdout",
          "text": [
            "Mounted at /content/drive\n"
          ]
        }
      ]
    },
    {
      "cell_type": "code",
      "metadata": {
        "colab": {
          "base_uri": "https://localhost:8080/",
          "height": 237
        },
        "id": "4SpcOZLGnfwC",
        "outputId": "e7132482-02fd-4dd0-e893-0e924c389e45"
      },
      "source": [
        "df = pd.read_csv('/content/drive/MyDrive/프로젝트/BBS/02.분석/data/월간_매매가격지수_아파트_수정.csv',index_col='년월')\n",
        "df.head()"
      ],
      "execution_count": null,
      "outputs": [
        {
          "output_type": "execute_result",
          "data": {
            "text/html": [
              "<div>\n",
              "<style scoped>\n",
              "    .dataframe tbody tr th:only-of-type {\n",
              "        vertical-align: middle;\n",
              "    }\n",
              "\n",
              "    .dataframe tbody tr th {\n",
              "        vertical-align: top;\n",
              "    }\n",
              "\n",
              "    .dataframe thead th {\n",
              "        text-align: right;\n",
              "    }\n",
              "</style>\n",
              "<table border=\"1\" class=\"dataframe\">\n",
              "  <thead>\n",
              "    <tr style=\"text-align: right;\">\n",
              "      <th></th>\n",
              "      <th>지수</th>\n",
              "    </tr>\n",
              "    <tr>\n",
              "      <th>년월</th>\n",
              "      <th></th>\n",
              "    </tr>\n",
              "  </thead>\n",
              "  <tbody>\n",
              "    <tr>\n",
              "      <th>2012-01-01</th>\n",
              "      <td>78.997</td>\n",
              "    </tr>\n",
              "    <tr>\n",
              "      <th>2012-02-01</th>\n",
              "      <td>78.797</td>\n",
              "    </tr>\n",
              "    <tr>\n",
              "      <th>2012-03-01</th>\n",
              "      <td>78.456</td>\n",
              "    </tr>\n",
              "    <tr>\n",
              "      <th>2012-04-01</th>\n",
              "      <td>78.012</td>\n",
              "    </tr>\n",
              "    <tr>\n",
              "      <th>2012-05-01</th>\n",
              "      <td>77.588</td>\n",
              "    </tr>\n",
              "  </tbody>\n",
              "</table>\n",
              "</div>"
            ],
            "text/plain": [
              "                지수\n",
              "년월                \n",
              "2012-01-01  78.997\n",
              "2012-02-01  78.797\n",
              "2012-03-01  78.456\n",
              "2012-04-01  78.012\n",
              "2012-05-01  77.588"
            ]
          },
          "metadata": {},
          "execution_count": 4
        }
      ]
    },
    {
      "cell_type": "code",
      "metadata": {
        "colab": {
          "base_uri": "https://localhost:8080/",
          "height": 237
        },
        "id": "Rwpqpm-VCaKy",
        "outputId": "39b31110-1397-4c9f-f96e-5ae9bca25144"
      },
      "source": [
        "df1 = pd.read_csv('/content/drive/MyDrive/프로젝트/한이음_BBS/기준금리_수정.csv',index_col='시점')\n",
        "df1.head()"
      ],
      "execution_count": null,
      "outputs": [
        {
          "output_type": "execute_result",
          "data": {
            "text/html": [
              "<div>\n",
              "<style scoped>\n",
              "    .dataframe tbody tr th:only-of-type {\n",
              "        vertical-align: middle;\n",
              "    }\n",
              "\n",
              "    .dataframe tbody tr th {\n",
              "        vertical-align: top;\n",
              "    }\n",
              "\n",
              "    .dataframe thead th {\n",
              "        text-align: right;\n",
              "    }\n",
              "</style>\n",
              "<table border=\"1\" class=\"dataframe\">\n",
              "  <thead>\n",
              "    <tr style=\"text-align: right;\">\n",
              "      <th></th>\n",
              "      <th>기준금리</th>\n",
              "    </tr>\n",
              "    <tr>\n",
              "      <th>시점</th>\n",
              "      <th></th>\n",
              "    </tr>\n",
              "  </thead>\n",
              "  <tbody>\n",
              "    <tr>\n",
              "      <th>2012-01-01</th>\n",
              "      <td>3.25</td>\n",
              "    </tr>\n",
              "    <tr>\n",
              "      <th>2012-02-01</th>\n",
              "      <td>3.25</td>\n",
              "    </tr>\n",
              "    <tr>\n",
              "      <th>2012-03-01</th>\n",
              "      <td>3.25</td>\n",
              "    </tr>\n",
              "    <tr>\n",
              "      <th>2012-04-01</th>\n",
              "      <td>3.25</td>\n",
              "    </tr>\n",
              "    <tr>\n",
              "      <th>2012-05-01</th>\n",
              "      <td>3.25</td>\n",
              "    </tr>\n",
              "  </tbody>\n",
              "</table>\n",
              "</div>"
            ],
            "text/plain": [
              "            기준금리\n",
              "시점              \n",
              "2012-01-01  3.25\n",
              "2012-02-01  3.25\n",
              "2012-03-01  3.25\n",
              "2012-04-01  3.25\n",
              "2012-05-01  3.25"
            ]
          },
          "metadata": {},
          "execution_count": 5
        }
      ]
    },
    {
      "cell_type": "code",
      "metadata": {
        "id": "4UEdVguzDQR4"
      },
      "source": [
        "df['기준금리'] = df1['기준금리']"
      ],
      "execution_count": null,
      "outputs": []
    },
    {
      "cell_type": "code",
      "metadata": {
        "colab": {
          "base_uri": "https://localhost:8080/",
          "height": 237
        },
        "id": "lWzOeyM7EUq9",
        "outputId": "21f8e25f-46db-4db0-868c-bd08dc8cd813"
      },
      "source": [
        "df.head()"
      ],
      "execution_count": null,
      "outputs": [
        {
          "output_type": "execute_result",
          "data": {
            "text/html": [
              "<div>\n",
              "<style scoped>\n",
              "    .dataframe tbody tr th:only-of-type {\n",
              "        vertical-align: middle;\n",
              "    }\n",
              "\n",
              "    .dataframe tbody tr th {\n",
              "        vertical-align: top;\n",
              "    }\n",
              "\n",
              "    .dataframe thead th {\n",
              "        text-align: right;\n",
              "    }\n",
              "</style>\n",
              "<table border=\"1\" class=\"dataframe\">\n",
              "  <thead>\n",
              "    <tr style=\"text-align: right;\">\n",
              "      <th></th>\n",
              "      <th>지수</th>\n",
              "      <th>기준금리</th>\n",
              "    </tr>\n",
              "    <tr>\n",
              "      <th>년월</th>\n",
              "      <th></th>\n",
              "      <th></th>\n",
              "    </tr>\n",
              "  </thead>\n",
              "  <tbody>\n",
              "    <tr>\n",
              "      <th>2012-01-01</th>\n",
              "      <td>78.997</td>\n",
              "      <td>3.25</td>\n",
              "    </tr>\n",
              "    <tr>\n",
              "      <th>2012-02-01</th>\n",
              "      <td>78.797</td>\n",
              "      <td>3.25</td>\n",
              "    </tr>\n",
              "    <tr>\n",
              "      <th>2012-03-01</th>\n",
              "      <td>78.456</td>\n",
              "      <td>3.25</td>\n",
              "    </tr>\n",
              "    <tr>\n",
              "      <th>2012-04-01</th>\n",
              "      <td>78.012</td>\n",
              "      <td>3.25</td>\n",
              "    </tr>\n",
              "    <tr>\n",
              "      <th>2012-05-01</th>\n",
              "      <td>77.588</td>\n",
              "      <td>3.25</td>\n",
              "    </tr>\n",
              "  </tbody>\n",
              "</table>\n",
              "</div>"
            ],
            "text/plain": [
              "                지수  기준금리\n",
              "년월                      \n",
              "2012-01-01  78.997  3.25\n",
              "2012-02-01  78.797  3.25\n",
              "2012-03-01  78.456  3.25\n",
              "2012-04-01  78.012  3.25\n",
              "2012-05-01  77.588  3.25"
            ]
          },
          "metadata": {},
          "execution_count": 7
        }
      ]
    },
    {
      "cell_type": "code",
      "metadata": {
        "colab": {
          "base_uri": "https://localhost:8080/",
          "height": 237
        },
        "id": "qWpiH3Y8QgFS",
        "outputId": "22010596-ab7e-41d5-c0fd-4e0fce69fd8a"
      },
      "source": [
        "df.tail()"
      ],
      "execution_count": null,
      "outputs": [
        {
          "output_type": "execute_result",
          "data": {
            "text/html": [
              "<div>\n",
              "<style scoped>\n",
              "    .dataframe tbody tr th:only-of-type {\n",
              "        vertical-align: middle;\n",
              "    }\n",
              "\n",
              "    .dataframe tbody tr th {\n",
              "        vertical-align: top;\n",
              "    }\n",
              "\n",
              "    .dataframe thead th {\n",
              "        text-align: right;\n",
              "    }\n",
              "</style>\n",
              "<table border=\"1\" class=\"dataframe\">\n",
              "  <thead>\n",
              "    <tr style=\"text-align: right;\">\n",
              "      <th></th>\n",
              "      <th>지수</th>\n",
              "      <th>기준금리</th>\n",
              "    </tr>\n",
              "    <tr>\n",
              "      <th>년월</th>\n",
              "      <th></th>\n",
              "      <th></th>\n",
              "    </tr>\n",
              "  </thead>\n",
              "  <tbody>\n",
              "    <tr>\n",
              "      <th>2020-08-01</th>\n",
              "      <td>95.849</td>\n",
              "      <td>0.5</td>\n",
              "    </tr>\n",
              "    <tr>\n",
              "      <th>2020-09-01</th>\n",
              "      <td>96.131</td>\n",
              "      <td>0.5</td>\n",
              "    </tr>\n",
              "    <tr>\n",
              "      <th>2020-10-01</th>\n",
              "      <td>96.241</td>\n",
              "      <td>0.5</td>\n",
              "    </tr>\n",
              "    <tr>\n",
              "      <th>2020-11-01</th>\n",
              "      <td>96.354</td>\n",
              "      <td>0.5</td>\n",
              "    </tr>\n",
              "    <tr>\n",
              "      <th>2020-12-01</th>\n",
              "      <td>96.626</td>\n",
              "      <td>0.5</td>\n",
              "    </tr>\n",
              "  </tbody>\n",
              "</table>\n",
              "</div>"
            ],
            "text/plain": [
              "                지수  기준금리\n",
              "년월                      \n",
              "2020-08-01  95.849   0.5\n",
              "2020-09-01  96.131   0.5\n",
              "2020-10-01  96.241   0.5\n",
              "2020-11-01  96.354   0.5\n",
              "2020-12-01  96.626   0.5"
            ]
          },
          "metadata": {},
          "execution_count": 8
        }
      ]
    },
    {
      "cell_type": "code",
      "metadata": {
        "colab": {
          "base_uri": "https://localhost:8080/"
        },
        "id": "TyMcndyC0LNg",
        "outputId": "3d375c98-b46d-4144-84c9-d75856888f13"
      },
      "source": [
        "df.info()"
      ],
      "execution_count": null,
      "outputs": [
        {
          "output_type": "stream",
          "name": "stdout",
          "text": [
            "<class 'pandas.core.frame.DataFrame'>\n",
            "Index: 108 entries, 2012-01-01 to 2020-12-01\n",
            "Data columns (total 2 columns):\n",
            " #   Column  Non-Null Count  Dtype  \n",
            "---  ------  --------------  -----  \n",
            " 0   지수      108 non-null    float64\n",
            " 1   기준금리    108 non-null    float64\n",
            "dtypes: float64(2)\n",
            "memory usage: 2.5+ KB\n"
          ]
        }
      ]
    },
    {
      "cell_type": "code",
      "metadata": {
        "colab": {
          "base_uri": "https://localhost:8080/",
          "height": 296
        },
        "id": "oODu7r-70L6R",
        "outputId": "51894c34-a3b2-4d42-87d8-cd59efcb1c4d"
      },
      "source": [
        "df.지수.plot()"
      ],
      "execution_count": null,
      "outputs": [
        {
          "output_type": "execute_result",
          "data": {
            "text/plain": [
              "<matplotlib.axes._subplots.AxesSubplot at 0x7f6d0e276cd0>"
            ]
          },
          "metadata": {},
          "execution_count": 10
        },
        {
          "output_type": "stream",
          "name": "stderr",
          "text": [
            "findfont: Font family ['NanumBarunGothic'] not found. Falling back to DejaVu Sans.\n"
          ]
        },
        {
          "output_type": "display_data",
          "data": {
            "image/png": "[encoded data removed]",
            "text/plain": [
              "<Figure size 432x288 with 1 Axes>"
            ]
          },
          "metadata": {
            "image/png": {
              "width": 369,
              "height": 261
            },
            "needs_background": "light"
          }
        }
      ]
    },
    {
      "cell_type": "code",
      "metadata": {
        "colab": {
          "base_uri": "https://localhost:8080/"
        },
        "id": "3LjYN-fzLmHJ",
        "outputId": "e34128be-87dd-4dd8-8a36-af763cdc7eeb"
      },
      "source": [
        "# 스케일 조절\n",
        "from sklearn.preprocessing import MinMaxScaler\n",
        "\n",
        "sc = MinMaxScaler()\n",
        "\n",
        "df_sc = sc.fit_transform(df)\n",
        "\n",
        "df_sc[:5]"
      ],
      "execution_count": null,
      "outputs": [
        {
          "output_type": "execute_result",
          "data": {
            "text/plain": [
              "array([[0.26977881, 1.        ],\n",
              "       [0.26149449, 1.        ],\n",
              "       [0.24736973, 1.        ],\n",
              "       [0.22897854, 1.        ],\n",
              "       [0.21141579, 1.        ]])"
            ]
          },
          "metadata": {},
          "execution_count": 11
        }
      ]
    },
    {
      "cell_type": "code",
      "metadata": {
        "colab": {
          "base_uri": "https://localhost:8080/",
          "height": 237
        },
        "id": "UC1LYfAdMSBA",
        "outputId": "2bf4ca33-af70-48f0-afd2-2460151b30f1"
      },
      "source": [
        "df = pd.DataFrame(df_sc, columns=['지수','기준금리'], index=df.index)\n",
        "df.head()"
      ],
      "execution_count": null,
      "outputs": [
        {
          "output_type": "execute_result",
          "data": {
            "text/html": [
              "<div>\n",
              "<style scoped>\n",
              "    .dataframe tbody tr th:only-of-type {\n",
              "        vertical-align: middle;\n",
              "    }\n",
              "\n",
              "    .dataframe tbody tr th {\n",
              "        vertical-align: top;\n",
              "    }\n",
              "\n",
              "    .dataframe thead th {\n",
              "        text-align: right;\n",
              "    }\n",
              "</style>\n",
              "<table border=\"1\" class=\"dataframe\">\n",
              "  <thead>\n",
              "    <tr style=\"text-align: right;\">\n",
              "      <th></th>\n",
              "      <th>지수</th>\n",
              "      <th>기준금리</th>\n",
              "    </tr>\n",
              "    <tr>\n",
              "      <th>년월</th>\n",
              "      <th></th>\n",
              "      <th></th>\n",
              "    </tr>\n",
              "  </thead>\n",
              "  <tbody>\n",
              "    <tr>\n",
              "      <th>2012-01-01</th>\n",
              "      <td>0.269779</td>\n",
              "      <td>1.0</td>\n",
              "    </tr>\n",
              "    <tr>\n",
              "      <th>2012-02-01</th>\n",
              "      <td>0.261494</td>\n",
              "      <td>1.0</td>\n",
              "    </tr>\n",
              "    <tr>\n",
              "      <th>2012-03-01</th>\n",
              "      <td>0.247370</td>\n",
              "      <td>1.0</td>\n",
              "    </tr>\n",
              "    <tr>\n",
              "      <th>2012-04-01</th>\n",
              "      <td>0.228979</td>\n",
              "      <td>1.0</td>\n",
              "    </tr>\n",
              "    <tr>\n",
              "      <th>2012-05-01</th>\n",
              "      <td>0.211416</td>\n",
              "      <td>1.0</td>\n",
              "    </tr>\n",
              "  </tbody>\n",
              "</table>\n",
              "</div>"
            ],
            "text/plain": [
              "                  지수  기준금리\n",
              "년월                        \n",
              "2012-01-01  0.269779   1.0\n",
              "2012-02-01  0.261494   1.0\n",
              "2012-03-01  0.247370   1.0\n",
              "2012-04-01  0.228979   1.0\n",
              "2012-05-01  0.211416   1.0"
            ]
          },
          "metadata": {},
          "execution_count": 12
        }
      ]
    },
    {
      "cell_type": "code",
      "metadata": {
        "id": "-ckeojcO8Uxr"
      },
      "source": [
        "# 이동평균 구하기\n",
        "# shift방식을 사용했다는데 복잡해서 rolling사용\n",
        "df['6개월이동평균'] = df['지수'].rolling(window=6).mean()"
      ],
      "execution_count": null,
      "outputs": []
    },
    {
      "cell_type": "code",
      "metadata": {
        "colab": {
          "base_uri": "https://localhost:8080/",
          "height": 237
        },
        "id": "tCEPEtZ28ZNF",
        "outputId": "f1582135-fd62-4b02-ad3f-de25dca5d10e"
      },
      "source": [
        "df.dropna(axis=0,inplace=True)\n",
        "df.head(5)"
      ],
      "execution_count": null,
      "outputs": [
        {
          "output_type": "execute_result",
          "data": {
            "text/html": [
              "<div>\n",
              "<style scoped>\n",
              "    .dataframe tbody tr th:only-of-type {\n",
              "        vertical-align: middle;\n",
              "    }\n",
              "\n",
              "    .dataframe tbody tr th {\n",
              "        vertical-align: top;\n",
              "    }\n",
              "\n",
              "    .dataframe thead th {\n",
              "        text-align: right;\n",
              "    }\n",
              "</style>\n",
              "<table border=\"1\" class=\"dataframe\">\n",
              "  <thead>\n",
              "    <tr style=\"text-align: right;\">\n",
              "      <th></th>\n",
              "      <th>지수</th>\n",
              "      <th>기준금리</th>\n",
              "      <th>6개월이동평균</th>\n",
              "    </tr>\n",
              "    <tr>\n",
              "      <th>년월</th>\n",
              "      <th></th>\n",
              "      <th></th>\n",
              "      <th></th>\n",
              "    </tr>\n",
              "  </thead>\n",
              "  <tbody>\n",
              "    <tr>\n",
              "      <th>2012-06-01</th>\n",
              "      <td>0.186066</td>\n",
              "      <td>1.000000</td>\n",
              "      <td>0.234184</td>\n",
              "    </tr>\n",
              "    <tr>\n",
              "      <th>2012-07-01</th>\n",
              "      <td>0.164527</td>\n",
              "      <td>0.909091</td>\n",
              "      <td>0.216642</td>\n",
              "    </tr>\n",
              "    <tr>\n",
              "      <th>2012-08-01</th>\n",
              "      <td>0.136111</td>\n",
              "      <td>0.909091</td>\n",
              "      <td>0.195745</td>\n",
              "    </tr>\n",
              "    <tr>\n",
              "      <th>2012-09-01</th>\n",
              "      <td>0.115152</td>\n",
              "      <td>0.909091</td>\n",
              "      <td>0.173708</td>\n",
              "    </tr>\n",
              "    <tr>\n",
              "      <th>2012-10-01</th>\n",
              "      <td>0.095808</td>\n",
              "      <td>0.818182</td>\n",
              "      <td>0.151513</td>\n",
              "    </tr>\n",
              "  </tbody>\n",
              "</table>\n",
              "</div>"
            ],
            "text/plain": [
              "                  지수      기준금리   6개월이동평균\n",
              "년월                                      \n",
              "2012-06-01  0.186066  1.000000  0.234184\n",
              "2012-07-01  0.164527  0.909091  0.216642\n",
              "2012-08-01  0.136111  0.909091  0.195745\n",
              "2012-09-01  0.115152  0.909091  0.173708\n",
              "2012-10-01  0.095808  0.818182  0.151513"
            ]
          },
          "metadata": {},
          "execution_count": 14
        }
      ]
    },
    {
      "cell_type": "code",
      "metadata": {
        "id": "sDPNmgs02OKQ"
      },
      "source": [
        "# 트레인 테스트 셋 분리 - 나와있지 않은 것 같아서 임의 분리\n",
        "train = df.loc[:'2019-06-01',]\n",
        "test = df.loc['2019-07-01':,]"
      ],
      "execution_count": null,
      "outputs": []
    },
    {
      "cell_type": "code",
      "metadata": {
        "colab": {
          "base_uri": "https://localhost:8080/",
          "height": 237
        },
        "id": "MFmRP_u0-2_T",
        "outputId": "306d8b51-3b8d-4635-dc84-37cdc62b3adf"
      },
      "source": [
        "train.tail()"
      ],
      "execution_count": null,
      "outputs": [
        {
          "output_type": "execute_result",
          "data": {
            "text/html": [
              "<div>\n",
              "<style scoped>\n",
              "    .dataframe tbody tr th:only-of-type {\n",
              "        vertical-align: middle;\n",
              "    }\n",
              "\n",
              "    .dataframe tbody tr th {\n",
              "        vertical-align: top;\n",
              "    }\n",
              "\n",
              "    .dataframe thead th {\n",
              "        text-align: right;\n",
              "    }\n",
              "</style>\n",
              "<table border=\"1\" class=\"dataframe\">\n",
              "  <thead>\n",
              "    <tr style=\"text-align: right;\">\n",
              "      <th></th>\n",
              "      <th>지수</th>\n",
              "      <th>기준금리</th>\n",
              "      <th>6개월이동평균</th>\n",
              "    </tr>\n",
              "    <tr>\n",
              "      <th>년월</th>\n",
              "      <th></th>\n",
              "      <th></th>\n",
              "      <th></th>\n",
              "    </tr>\n",
              "  </thead>\n",
              "  <tbody>\n",
              "    <tr>\n",
              "      <th>2019-02-01</th>\n",
              "      <td>0.810579</td>\n",
              "      <td>0.454545</td>\n",
              "      <td>0.831683</td>\n",
              "    </tr>\n",
              "    <tr>\n",
              "      <th>2019-03-01</th>\n",
              "      <td>0.795460</td>\n",
              "      <td>0.454545</td>\n",
              "      <td>0.827141</td>\n",
              "    </tr>\n",
              "    <tr>\n",
              "      <th>2019-04-01</th>\n",
              "      <td>0.782412</td>\n",
              "      <td>0.454545</td>\n",
              "      <td>0.816730</td>\n",
              "    </tr>\n",
              "    <tr>\n",
              "      <th>2019-05-01</th>\n",
              "      <td>0.774874</td>\n",
              "      <td>0.454545</td>\n",
              "      <td>0.804732</td>\n",
              "    </tr>\n",
              "    <tr>\n",
              "      <th>2019-06-01</th>\n",
              "      <td>0.771436</td>\n",
              "      <td>0.454545</td>\n",
              "      <td>0.793237</td>\n",
              "    </tr>\n",
              "  </tbody>\n",
              "</table>\n",
              "</div>"
            ],
            "text/plain": [
              "                  지수      기준금리   6개월이동평균\n",
              "년월                                      \n",
              "2019-02-01  0.810579  0.454545  0.831683\n",
              "2019-03-01  0.795460  0.454545  0.827141\n",
              "2019-04-01  0.782412  0.454545  0.816730\n",
              "2019-05-01  0.774874  0.454545  0.804732\n",
              "2019-06-01  0.771436  0.454545  0.793237"
            ]
          },
          "metadata": {},
          "execution_count": 16
        }
      ]
    },
    {
      "cell_type": "code",
      "metadata": {
        "colab": {
          "base_uri": "https://localhost:8080/",
          "height": 237
        },
        "id": "fR6aJQZIf-Y5",
        "outputId": "0b84d85e-a426-466e-8248-469b590d2660"
      },
      "source": [
        "test.tail()"
      ],
      "execution_count": null,
      "outputs": [
        {
          "output_type": "execute_result",
          "data": {
            "text/html": [
              "<div>\n",
              "<style scoped>\n",
              "    .dataframe tbody tr th:only-of-type {\n",
              "        vertical-align: middle;\n",
              "    }\n",
              "\n",
              "    .dataframe tbody tr th {\n",
              "        vertical-align: top;\n",
              "    }\n",
              "\n",
              "    .dataframe thead th {\n",
              "        text-align: right;\n",
              "    }\n",
              "</style>\n",
              "<table border=\"1\" class=\"dataframe\">\n",
              "  <thead>\n",
              "    <tr style=\"text-align: right;\">\n",
              "      <th></th>\n",
              "      <th>지수</th>\n",
              "      <th>기준금리</th>\n",
              "      <th>6개월이동평균</th>\n",
              "    </tr>\n",
              "    <tr>\n",
              "      <th>년월</th>\n",
              "      <th></th>\n",
              "      <th></th>\n",
              "      <th></th>\n",
              "    </tr>\n",
              "  </thead>\n",
              "  <tbody>\n",
              "    <tr>\n",
              "      <th>2020-08-01</th>\n",
              "      <td>0.967815</td>\n",
              "      <td>0.0</td>\n",
              "      <td>0.921313</td>\n",
              "    </tr>\n",
              "    <tr>\n",
              "      <th>2020-09-01</th>\n",
              "      <td>0.979496</td>\n",
              "      <td>0.0</td>\n",
              "      <td>0.933063</td>\n",
              "    </tr>\n",
              "    <tr>\n",
              "      <th>2020-10-01</th>\n",
              "      <td>0.984053</td>\n",
              "      <td>0.0</td>\n",
              "      <td>0.946207</td>\n",
              "    </tr>\n",
              "    <tr>\n",
              "      <th>2020-11-01</th>\n",
              "      <td>0.988733</td>\n",
              "      <td>0.0</td>\n",
              "      <td>0.961457</td>\n",
              "    </tr>\n",
              "    <tr>\n",
              "      <th>2020-12-01</th>\n",
              "      <td>1.000000</td>\n",
              "      <td>0.0</td>\n",
              "      <td>0.977722</td>\n",
              "    </tr>\n",
              "  </tbody>\n",
              "</table>\n",
              "</div>"
            ],
            "text/plain": [
              "                  지수  기준금리   6개월이동평균\n",
              "년월                                  \n",
              "2020-08-01  0.967815   0.0  0.921313\n",
              "2020-09-01  0.979496   0.0  0.933063\n",
              "2020-10-01  0.984053   0.0  0.946207\n",
              "2020-11-01  0.988733   0.0  0.961457\n",
              "2020-12-01  1.000000   0.0  0.977722"
            ]
          },
          "metadata": {},
          "execution_count": 17
        }
      ]
    },
    {
      "cell_type": "code",
      "metadata": {
        "id": "9CMPaF01ectm"
      },
      "source": [
        "#train = train.reset_index()\n",
        "#test = test.reset_index()"
      ],
      "execution_count": null,
      "outputs": []
    },
    {
      "cell_type": "code",
      "metadata": {
        "id": "9melwMS7AJii",
        "colab": {
          "base_uri": "https://localhost:8080/"
        },
        "outputId": "01f27d59-27e8-4632-b967-f68ff9b3598b"
      },
      "source": [
        "X_train = train[['6개월이동평균','기준금리']]\n",
        "y_train = train['지수']\n",
        "X_test = test[['6개월이동평균','기준금리']]\n",
        "y_test = test['지수']\n",
        "\n",
        "print(X_train.shape, y_train.shape, X_test.shape, y_test.shape)"
      ],
      "execution_count": null,
      "outputs": [
        {
          "output_type": "stream",
          "name": "stdout",
          "text": [
            "(85, 2) (85,) (18, 2) (18,)\n"
          ]
        }
      ]
    },
    {
      "cell_type": "code",
      "metadata": {
        "colab": {
          "base_uri": "https://localhost:8080/"
        },
        "id": "j3kRH9w0Mij1",
        "outputId": "e9d13942-29ce-48b9-8e6d-2cfc91d3343c"
      },
      "source": [
        "print(type(X_train))\n",
        "X_train = X_train.values\n",
        "print(type(X_train))\n",
        "X_test= X_test.values\n",
        "\n",
        "y_train = y_train.values\n",
        "y_test = y_test.values\n",
        "print(X_train.shape)\n",
        "#print(X_train)\n",
        "print(y_train.shape)\n",
        "#print(y_train)"
      ],
      "execution_count": null,
      "outputs": [
        {
          "output_type": "stream",
          "name": "stdout",
          "text": [
            "<class 'pandas.core.frame.DataFrame'>\n",
            "<class 'numpy.ndarray'>\n",
            "(85, 2)\n",
            "(85,)\n"
          ]
        }
      ]
    },
    {
      "cell_type": "code",
      "metadata": {
        "colab": {
          "base_uri": "https://localhost:8080/"
        },
        "id": "AikMmd5aAlO5",
        "outputId": "fe14c956-7d2c-426b-bb4e-9239bf3631f1"
      },
      "source": [
        "X_train_t = X_train.reshape(X_train.shape[0], 2, 1)\n",
        "X_test_t = X_test.reshape(X_test.shape[0], 2, 1)\n",
        "\n",
        "print(\"최종 DATA\")\n",
        "print(X_train_t.shape)"
      ],
      "execution_count": null,
      "outputs": [
        {
          "output_type": "stream",
          "name": "stdout",
          "text": [
            "최종 DATA\n",
            "(85, 2, 1)\n"
          ]
        }
      ]
    },
    {
      "cell_type": "code",
      "metadata": {
        "id": "Z47ulblpfslL"
      },
      "source": [
        "from sklearn.metrics import mean_squared_error\n",
        "\n",
        "def model_compile(model,epochs):\n",
        "  model.compile(loss='mean_squared_error',optimizer='adam')\n",
        "  model.fit(X_train_t,y_train,epochs=epochs,batch_size=1,verbose=0)\n",
        "\n",
        "  y_pred = model.predict(X_test_t)\n",
        "  y_predict = []\n",
        "  for i in range(len(y_pred)) : \n",
        "    y_predict.append(y_pred[i][0][0])\n",
        "  mse = mean_squared_error(y_test, y_predict)\n",
        "  rmse = np.sqrt(mse)\n",
        "  print(rmse)\n",
        "  return rmse"
      ],
      "execution_count": null,
      "outputs": []
    },
    {
      "cell_type": "code",
      "metadata": {
        "id": "kW6phrNCkuGL"
      },
      "source": [
        "model_name = []\n",
        "rmse_list=[]"
      ],
      "execution_count": null,
      "outputs": []
    },
    {
      "cell_type": "code",
      "metadata": {
        "id": "8zvEZ_bIg0ez"
      },
      "source": [
        "from keras.layers import LSTM, Dense\n",
        "from keras.models import Sequential"
      ],
      "execution_count": null,
      "outputs": []
    },
    {
      "cell_type": "markdown",
      "metadata": {
        "id": "QekUEDfXLS79"
      },
      "source": [
        "## Single Layer"
      ]
    },
    {
      "cell_type": "markdown",
      "metadata": {
        "id": "jSSWnS3wLVbk"
      },
      "source": [
        "### epoch 50"
      ]
    },
    {
      "cell_type": "code",
      "metadata": {
        "colab": {
          "base_uri": "https://localhost:8080/"
        },
        "id": "m56QxvCnLW08",
        "outputId": "d499bce8-e904-49b9-9cb7-b1bbfb41814f"
      },
      "source": [
        "model_1layer_50 = Sequential()\n",
        "model_1layer_50.add(LSTM(24, \n",
        "               input_shape=(X_train_t.shape[1], X_train_t.shape[2]), \n",
        "               activation='relu', \n",
        "               return_sequences=True)\n",
        "          )\n",
        "model_1layer_50.add(Dense(1))\n",
        "\n",
        "model_1layer_50.summary()"
      ],
      "execution_count": null,
      "outputs": [
        {
          "output_type": "stream",
          "name": "stdout",
          "text": [
            "WARNING:tensorflow:Layer lstm will not use cuDNN kernels since it doesn't meet the criteria. It will use a generic GPU kernel as fallback when running on GPU.\n",
            "Model: \"sequential\"\n",
            "_________________________________________________________________\n",
            "Layer (type)                 Output Shape              Param #   \n",
            "=================================================================\n",
            "lstm (LSTM)                  (None, 2, 24)             2496      \n",
            "_________________________________________________________________\n",
            "dense (Dense)                (None, 2, 1)              25        \n",
            "=================================================================\n",
            "Total params: 2,521\n",
            "Trainable params: 2,521\n",
            "Non-trainable params: 0\n",
            "_________________________________________________________________\n"
          ]
        }
      ]
    },
    {
      "cell_type": "code",
      "metadata": {
        "colab": {
          "base_uri": "https://localhost:8080/"
        },
        "id": "vZlCLPZlLcUL",
        "outputId": "11fdb084-8a3e-482e-d76c-3f9d681b6139"
      },
      "source": [
        "model_name.append('model_1layer_50')\n",
        "rmse = model_compile(model_1layer_50,50)\n",
        "rmse_list.append(rmse)"
      ],
      "execution_count": null,
      "outputs": [
        {
          "output_type": "stream",
          "name": "stdout",
          "text": [
            "0.10344526553670969\n"
          ]
        }
      ]
    },
    {
      "cell_type": "markdown",
      "metadata": {
        "id": "LfjFazO7Le-C"
      },
      "source": [
        "### epoch100"
      ]
    },
    {
      "cell_type": "code",
      "metadata": {
        "colab": {
          "base_uri": "https://localhost:8080/"
        },
        "id": "l3rqa4rOLhzP",
        "outputId": "7e628c25-55ea-488b-bebd-c00cd2681e94"
      },
      "source": [
        "model_1layer_100 = Sequential()\n",
        "model_1layer_100.add(LSTM(24, \n",
        "               input_shape=(X_train_t.shape[1], X_train_t.shape[2]), \n",
        "               activation='relu', \n",
        "               return_sequences=True)\n",
        "          )\n",
        "model_1layer_100.add(Dense(1))\n",
        "\n",
        "model_1layer_100.summary()"
      ],
      "execution_count": null,
      "outputs": [
        {
          "output_type": "stream",
          "name": "stdout",
          "text": [
            "WARNING:tensorflow:Layer lstm_1 will not use cuDNN kernels since it doesn't meet the criteria. It will use a generic GPU kernel as fallback when running on GPU.\n",
            "Model: \"sequential_1\"\n",
            "_________________________________________________________________\n",
            "Layer (type)                 Output Shape              Param #   \n",
            "=================================================================\n",
            "lstm_1 (LSTM)                (None, 2, 24)             2496      \n",
            "_________________________________________________________________\n",
            "dense_1 (Dense)              (None, 2, 1)              25        \n",
            "=================================================================\n",
            "Total params: 2,521\n",
            "Trainable params: 2,521\n",
            "Non-trainable params: 0\n",
            "_________________________________________________________________\n"
          ]
        }
      ]
    },
    {
      "cell_type": "code",
      "metadata": {
        "colab": {
          "base_uri": "https://localhost:8080/"
        },
        "id": "vhimH85tLhV0",
        "outputId": "946f6408-d06a-41b9-9e2e-e762a28dac1e"
      },
      "source": [
        "model_name.append('model_1layer_100')\n",
        "rmse = model_compile(model_1layer_100,100)\n",
        "rmse_list.append(rmse)"
      ],
      "execution_count": null,
      "outputs": [
        {
          "output_type": "stream",
          "name": "stdout",
          "text": [
            "0.07307930865507632\n"
          ]
        }
      ]
    },
    {
      "cell_type": "markdown",
      "metadata": {
        "id": "Z3ggev-uRILK"
      },
      "source": [
        "### epoch 150"
      ]
    },
    {
      "cell_type": "code",
      "metadata": {
        "colab": {
          "base_uri": "https://localhost:8080/"
        },
        "id": "uE2f3L8gRJ5D",
        "outputId": "78e4bd7f-c3d4-433b-9567-80f549027f8a"
      },
      "source": [
        "model_1layer_150 = Sequential()\n",
        "model_1layer_150.add(LSTM(24, \n",
        "               input_shape=(X_train_t.shape[1], X_train_t.shape[2]), \n",
        "               activation='relu', \n",
        "               return_sequences=True)\n",
        "          )\n",
        "model_1layer_150.add(Dense(1))\n",
        "\n",
        "model_1layer_150.summary()"
      ],
      "execution_count": null,
      "outputs": [
        {
          "output_type": "stream",
          "name": "stdout",
          "text": [
            "WARNING:tensorflow:Layer lstm_2 will not use cuDNN kernels since it doesn't meet the criteria. It will use a generic GPU kernel as fallback when running on GPU.\n",
            "Model: \"sequential_2\"\n",
            "_________________________________________________________________\n",
            "Layer (type)                 Output Shape              Param #   \n",
            "=================================================================\n",
            "lstm_2 (LSTM)                (None, 2, 24)             2496      \n",
            "_________________________________________________________________\n",
            "dense_2 (Dense)              (None, 2, 1)              25        \n",
            "=================================================================\n",
            "Total params: 2,521\n",
            "Trainable params: 2,521\n",
            "Non-trainable params: 0\n",
            "_________________________________________________________________\n"
          ]
        }
      ]
    },
    {
      "cell_type": "code",
      "metadata": {
        "colab": {
          "base_uri": "https://localhost:8080/"
        },
        "id": "ooDgEGf0ROTy",
        "outputId": "696b86e4-2b42-4c96-8afc-5fbb94b689ad"
      },
      "source": [
        "model_name.append('model_1layer_150')\n",
        "rmse = model_compile(model_1layer_150,150)\n",
        "rmse_list.append(rmse)"
      ],
      "execution_count": null,
      "outputs": [
        {
          "output_type": "stream",
          "name": "stdout",
          "text": [
            "0.023929203573146506\n"
          ]
        }
      ]
    },
    {
      "cell_type": "markdown",
      "metadata": {
        "id": "qA0u1PRaKp3r"
      },
      "source": [
        "## Layer2"
      ]
    },
    {
      "cell_type": "markdown",
      "metadata": {
        "id": "XfJeKdq_Kvsy"
      },
      "source": [
        "### epoch 50"
      ]
    },
    {
      "cell_type": "code",
      "metadata": {
        "colab": {
          "base_uri": "https://localhost:8080/"
        },
        "id": "iVfDBbd1KxiS",
        "outputId": "7d1914e4-8a9d-4a2f-d74c-a79b95477e3b"
      },
      "source": [
        "model_2layer_50 = Sequential()\n",
        "model_2layer_50.add(LSTM(32, \n",
        "               input_shape=(X_train_t.shape[1], X_train_t.shape[2]), \n",
        "               activation='relu', \n",
        "               return_sequences=True)\n",
        "          )\n",
        "model_2layer_50.add(LSTM(16, \n",
        "               activation='relu', \n",
        "               return_sequences=True)\n",
        "          )\n",
        "model_2layer_50.add(Dense(1))\n",
        "\n",
        "model_2layer_50.summary()"
      ],
      "execution_count": null,
      "outputs": [
        {
          "output_type": "stream",
          "name": "stdout",
          "text": [
            "WARNING:tensorflow:Layer lstm_3 will not use cuDNN kernels since it doesn't meet the criteria. It will use a generic GPU kernel as fallback when running on GPU.\n",
            "WARNING:tensorflow:Layer lstm_4 will not use cuDNN kernels since it doesn't meet the criteria. It will use a generic GPU kernel as fallback when running on GPU.\n",
            "Model: \"sequential_3\"\n",
            "_________________________________________________________________\n",
            "Layer (type)                 Output Shape              Param #   \n",
            "=================================================================\n",
            "lstm_3 (LSTM)                (None, 2, 32)             4352      \n",
            "_________________________________________________________________\n",
            "lstm_4 (LSTM)                (None, 2, 16)             3136      \n",
            "_________________________________________________________________\n",
            "dense_3 (Dense)              (None, 2, 1)              17        \n",
            "=================================================================\n",
            "Total params: 7,505\n",
            "Trainable params: 7,505\n",
            "Non-trainable params: 0\n",
            "_________________________________________________________________\n"
          ]
        }
      ]
    },
    {
      "cell_type": "code",
      "metadata": {
        "colab": {
          "base_uri": "https://localhost:8080/"
        },
        "id": "juf6sr21LBon",
        "outputId": "81194ed0-b43c-4a6a-8d01-927abdb6cf46"
      },
      "source": [
        "model_name.append('model_2layer_50')\n",
        "rmse = model_compile(model_2layer_50,50)\n",
        "rmse_list.append(rmse)"
      ],
      "execution_count": null,
      "outputs": [
        {
          "output_type": "stream",
          "name": "stdout",
          "text": [
            "0.023625306009622257\n"
          ]
        }
      ]
    },
    {
      "cell_type": "markdown",
      "metadata": {
        "id": "mn97Zv-xL0hL"
      },
      "source": [
        "### epoch 100"
      ]
    },
    {
      "cell_type": "code",
      "metadata": {
        "colab": {
          "base_uri": "https://localhost:8080/"
        },
        "id": "UQyRyHj0L0TX",
        "outputId": "de0231a1-866b-4269-c366-f5a6fbcf4f22"
      },
      "source": [
        "model_2layer_100 = Sequential()\n",
        "model_2layer_100.add(LSTM(32, \n",
        "               input_shape=(X_train_t.shape[1], X_train_t.shape[2]), \n",
        "               activation='relu', \n",
        "               return_sequences=True)\n",
        "          )\n",
        "model_2layer_100.add(LSTM(16, \n",
        "               activation='relu', \n",
        "               return_sequences=True)\n",
        "          )\n",
        "model_2layer_100.add(Dense(1))\n",
        "\n",
        "model_2layer_100.summary()"
      ],
      "execution_count": null,
      "outputs": [
        {
          "output_type": "stream",
          "name": "stdout",
          "text": [
            "WARNING:tensorflow:Layer lstm_5 will not use cuDNN kernels since it doesn't meet the criteria. It will use a generic GPU kernel as fallback when running on GPU.\n",
            "WARNING:tensorflow:Layer lstm_6 will not use cuDNN kernels since it doesn't meet the criteria. It will use a generic GPU kernel as fallback when running on GPU.\n",
            "Model: \"sequential_4\"\n",
            "_________________________________________________________________\n",
            "Layer (type)                 Output Shape              Param #   \n",
            "=================================================================\n",
            "lstm_5 (LSTM)                (None, 2, 32)             4352      \n",
            "_________________________________________________________________\n",
            "lstm_6 (LSTM)                (None, 2, 16)             3136      \n",
            "_________________________________________________________________\n",
            "dense_4 (Dense)              (None, 2, 1)              17        \n",
            "=================================================================\n",
            "Total params: 7,505\n",
            "Trainable params: 7,505\n",
            "Non-trainable params: 0\n",
            "_________________________________________________________________\n"
          ]
        }
      ]
    },
    {
      "cell_type": "code",
      "metadata": {
        "colab": {
          "base_uri": "https://localhost:8080/"
        },
        "id": "53S68oGRL0Jr",
        "outputId": "03e7a3df-6d05-47d7-ba58-c1b6d07a7643"
      },
      "source": [
        "model_name.append('model_2layer_100')\n",
        "rmse = model_compile(model_2layer_100,100)\n",
        "rmse_list.append(rmse)"
      ],
      "execution_count": null,
      "outputs": [
        {
          "output_type": "stream",
          "name": "stdout",
          "text": [
            "WARNING:tensorflow:5 out of the last 5 calls to <function Model.make_predict_function.<locals>.predict_function at 0x7f6c467c8950> triggered tf.function retracing. Tracing is expensive and the excessive number of tracings could be due to (1) creating @tf.function repeatedly in a loop, (2) passing tensors with different shapes, (3) passing Python objects instead of tensors. For (1), please define your @tf.function outside of the loop. For (2), @tf.function has experimental_relax_shapes=True option that relaxes argument shapes that can avoid unnecessary retracing. For (3), please refer to https://www.tensorflow.org/guide/function#controlling_retracing and https://www.tensorflow.org/api_docs/python/tf/function for  more details.\n",
            "0.0811658372524931\n"
          ]
        }
      ]
    },
    {
      "cell_type": "markdown",
      "metadata": {
        "id": "clIvOE1t_1_0"
      },
      "source": [
        "### epoch 150"
      ]
    },
    {
      "cell_type": "code",
      "metadata": {
        "colab": {
          "base_uri": "https://localhost:8080/"
        },
        "id": "4S1NMbkM_6Ey",
        "outputId": "72a4b36e-e967-4131-e9fd-3673662abbf3"
      },
      "source": [
        "model_2layer_150 = Sequential()\n",
        "model_2layer_150.add(LSTM(32, \n",
        "               input_shape=(X_train_t.shape[1], X_train_t.shape[2]), \n",
        "               activation='relu', \n",
        "               return_sequences=True)\n",
        "          )\n",
        "model_2layer_150.add(LSTM(16, \n",
        "               activation='relu', \n",
        "               return_sequences=True)\n",
        "          )\n",
        "model_2layer_150.add(Dense(1))\n",
        "\n",
        "model_2layer_150.summary()"
      ],
      "execution_count": null,
      "outputs": [
        {
          "output_type": "stream",
          "name": "stdout",
          "text": [
            "WARNING:tensorflow:Layer lstm_7 will not use cuDNN kernels since it doesn't meet the criteria. It will use a generic GPU kernel as fallback when running on GPU.\n",
            "WARNING:tensorflow:Layer lstm_8 will not use cuDNN kernels since it doesn't meet the criteria. It will use a generic GPU kernel as fallback when running on GPU.\n",
            "Model: \"sequential_5\"\n",
            "_________________________________________________________________\n",
            "Layer (type)                 Output Shape              Param #   \n",
            "=================================================================\n",
            "lstm_7 (LSTM)                (None, 2, 32)             4352      \n",
            "_________________________________________________________________\n",
            "lstm_8 (LSTM)                (None, 2, 16)             3136      \n",
            "_________________________________________________________________\n",
            "dense_5 (Dense)              (None, 2, 1)              17        \n",
            "=================================================================\n",
            "Total params: 7,505\n",
            "Trainable params: 7,505\n",
            "Non-trainable params: 0\n",
            "_________________________________________________________________\n"
          ]
        }
      ]
    },
    {
      "cell_type": "code",
      "metadata": {
        "colab": {
          "base_uri": "https://localhost:8080/"
        },
        "id": "7xZ3EQK7__CR",
        "outputId": "7751c7f7-d7bf-4bfa-8198-90e55d306c17"
      },
      "source": [
        "model_name.append('model_2layer_150')\n",
        "rmse = model_compile(model_2layer_150,150)\n",
        "rmse_list.append(rmse)"
      ],
      "execution_count": null,
      "outputs": [
        {
          "output_type": "stream",
          "name": "stdout",
          "text": [
            "WARNING:tensorflow:6 out of the last 6 calls to <function Model.make_predict_function.<locals>.predict_function at 0x7f6c44ae7e60> triggered tf.function retracing. Tracing is expensive and the excessive number of tracings could be due to (1) creating @tf.function repeatedly in a loop, (2) passing tensors with different shapes, (3) passing Python objects instead of tensors. For (1), please define your @tf.function outside of the loop. For (2), @tf.function has experimental_relax_shapes=True option that relaxes argument shapes that can avoid unnecessary retracing. For (3), please refer to https://www.tensorflow.org/guide/function#controlling_retracing and https://www.tensorflow.org/api_docs/python/tf/function for  more details.\n",
            "0.057757523228175234\n"
          ]
        }
      ]
    },
    {
      "cell_type": "markdown",
      "metadata": {
        "id": "L6g7GgMnlEOy"
      },
      "source": [
        "## Layer4"
      ]
    },
    {
      "cell_type": "markdown",
      "metadata": {
        "id": "zf9WVwFBlHAr"
      },
      "source": [
        "### epoch 50"
      ]
    },
    {
      "cell_type": "code",
      "metadata": {
        "colab": {
          "base_uri": "https://localhost:8080/"
        },
        "id": "ZMg6LX_4g5wP",
        "outputId": "6c0be4c6-59c2-4417-8dce-3343f62b0715"
      },
      "source": [
        "model_4layer_50 = Sequential()\n",
        "model_4layer_50.add(LSTM(128, \n",
        "               input_shape=(X_train_t.shape[1], X_train_t.shape[2]), \n",
        "               activation='relu', \n",
        "               return_sequences=True)\n",
        "          )\n",
        "model_4layer_50.add(LSTM(64, \n",
        "               activation='relu', \n",
        "               return_sequences=True)\n",
        "          )\n",
        "model_4layer_50.add(LSTM(32, \n",
        "               activation='relu', \n",
        "               return_sequences=True)\n",
        "          )\n",
        "model_4layer_50.add(LSTM(16, \n",
        "               activation='relu', \n",
        "               return_sequences=True)\n",
        "          )\n",
        "model_4layer_50.add(Dense(1))\n",
        "\n",
        "model_4layer_50.summary()"
      ],
      "execution_count": null,
      "outputs": [
        {
          "output_type": "stream",
          "name": "stdout",
          "text": [
            "WARNING:tensorflow:Layer lstm_9 will not use cuDNN kernels since it doesn't meet the criteria. It will use a generic GPU kernel as fallback when running on GPU.\n",
            "WARNING:tensorflow:Layer lstm_10 will not use cuDNN kernels since it doesn't meet the criteria. It will use a generic GPU kernel as fallback when running on GPU.\n",
            "WARNING:tensorflow:Layer lstm_11 will not use cuDNN kernels since it doesn't meet the criteria. It will use a generic GPU kernel as fallback when running on GPU.\n",
            "WARNING:tensorflow:Layer lstm_12 will not use cuDNN kernels since it doesn't meet the criteria. It will use a generic GPU kernel as fallback when running on GPU.\n",
            "Model: \"sequential_6\"\n",
            "_________________________________________________________________\n",
            "Layer (type)                 Output Shape              Param #   \n",
            "=================================================================\n",
            "lstm_9 (LSTM)                (None, 2, 128)            66560     \n",
            "_________________________________________________________________\n",
            "lstm_10 (LSTM)               (None, 2, 64)             49408     \n",
            "_________________________________________________________________\n",
            "lstm_11 (LSTM)               (None, 2, 32)             12416     \n",
            "_________________________________________________________________\n",
            "lstm_12 (LSTM)               (None, 2, 16)             3136      \n",
            "_________________________________________________________________\n",
            "dense_6 (Dense)              (None, 2, 1)              17        \n",
            "=================================================================\n",
            "Total params: 131,537\n",
            "Trainable params: 131,537\n",
            "Non-trainable params: 0\n",
            "_________________________________________________________________\n"
          ]
        }
      ]
    },
    {
      "cell_type": "code",
      "metadata": {
        "id": "oDbvGSm8kkj3",
        "colab": {
          "base_uri": "https://localhost:8080/"
        },
        "outputId": "791a14f8-3196-489e-cd13-a47e3ee88459"
      },
      "source": [
        "model_name.append('model_4layer_50')\n",
        "rmse = model_compile(model_4layer_50,50)\n",
        "rmse_list.append(rmse)"
      ],
      "execution_count": null,
      "outputs": [
        {
          "output_type": "stream",
          "name": "stdout",
          "text": [
            "0.02813827032624244\n"
          ]
        }
      ]
    },
    {
      "cell_type": "markdown",
      "metadata": {
        "id": "gxDhcFEXlJZ9"
      },
      "source": [
        "### epoch100"
      ]
    },
    {
      "cell_type": "code",
      "metadata": {
        "colab": {
          "base_uri": "https://localhost:8080/"
        },
        "id": "onLfxiuOlLzv",
        "outputId": "01edf725-3075-420d-8878-847ec9dac0bd"
      },
      "source": [
        "model_4layer_100 = Sequential()\n",
        "model_4layer_100.add(LSTM(128, \n",
        "               input_shape=(X_train_t.shape[1], X_train_t.shape[2]), \n",
        "               activation='relu', \n",
        "               return_sequences=True)\n",
        "          )\n",
        "model_4layer_100.add(LSTM(64, \n",
        "               activation='relu', \n",
        "               return_sequences=True)\n",
        "          )\n",
        "model_4layer_100.add(LSTM(32, \n",
        "               activation='relu', \n",
        "               return_sequences=True)\n",
        "          )\n",
        "model_4layer_100.add(LSTM(16, \n",
        "               activation='relu', \n",
        "               return_sequences=True)\n",
        "          )\n",
        "model_4layer_100.add(Dense(1))\n",
        "\n",
        "model_4layer_100.summary()"
      ],
      "execution_count": null,
      "outputs": [
        {
          "output_type": "stream",
          "name": "stdout",
          "text": [
            "WARNING:tensorflow:Layer lstm_13 will not use cuDNN kernels since it doesn't meet the criteria. It will use a generic GPU kernel as fallback when running on GPU.\n",
            "WARNING:tensorflow:Layer lstm_14 will not use cuDNN kernels since it doesn't meet the criteria. It will use a generic GPU kernel as fallback when running on GPU.\n",
            "WARNING:tensorflow:Layer lstm_15 will not use cuDNN kernels since it doesn't meet the criteria. It will use a generic GPU kernel as fallback when running on GPU.\n",
            "WARNING:tensorflow:Layer lstm_16 will not use cuDNN kernels since it doesn't meet the criteria. It will use a generic GPU kernel as fallback when running on GPU.\n",
            "Model: \"sequential_7\"\n",
            "_________________________________________________________________\n",
            "Layer (type)                 Output Shape              Param #   \n",
            "=================================================================\n",
            "lstm_13 (LSTM)               (None, 2, 128)            66560     \n",
            "_________________________________________________________________\n",
            "lstm_14 (LSTM)               (None, 2, 64)             49408     \n",
            "_________________________________________________________________\n",
            "lstm_15 (LSTM)               (None, 2, 32)             12416     \n",
            "_________________________________________________________________\n",
            "lstm_16 (LSTM)               (None, 2, 16)             3136      \n",
            "_________________________________________________________________\n",
            "dense_7 (Dense)              (None, 2, 1)              17        \n",
            "=================================================================\n",
            "Total params: 131,537\n",
            "Trainable params: 131,537\n",
            "Non-trainable params: 0\n",
            "_________________________________________________________________\n"
          ]
        }
      ]
    },
    {
      "cell_type": "code",
      "metadata": {
        "id": "HwTE6DaClfe0",
        "colab": {
          "base_uri": "https://localhost:8080/"
        },
        "outputId": "286ef26c-ac7c-49c3-8e8d-d31c699c5bdd"
      },
      "source": [
        "model_name.append('model_4layer_100')\n",
        "rmse = model_compile(model_4layer_100,100)\n",
        "rmse_list.append(rmse)"
      ],
      "execution_count": null,
      "outputs": [
        {
          "output_type": "stream",
          "name": "stdout",
          "text": [
            "0.08057471111074284\n"
          ]
        }
      ]
    },
    {
      "cell_type": "markdown",
      "metadata": {
        "id": "fU6vOQWBlh0u"
      },
      "source": [
        "### epoch150"
      ]
    },
    {
      "cell_type": "code",
      "metadata": {
        "colab": {
          "base_uri": "https://localhost:8080/"
        },
        "id": "f9xVc1nTljsF",
        "outputId": "800b2a34-d5ac-4089-ea77-09aa078923df"
      },
      "source": [
        "model_4layer_150 = Sequential()\n",
        "model_4layer_150.add(LSTM(128, \n",
        "               input_shape=(X_train_t.shape[1], X_train_t.shape[2]), \n",
        "               activation='relu', \n",
        "               return_sequences=True)\n",
        "          )\n",
        "model_4layer_150.add(LSTM(64, \n",
        "               activation='relu', \n",
        "               return_sequences=True)\n",
        "          )\n",
        "model_4layer_150.add(LSTM(32, \n",
        "               activation='relu', \n",
        "               return_sequences=True)\n",
        "          )\n",
        "model_4layer_150.add(LSTM(16, \n",
        "               activation='relu', \n",
        "               return_sequences=True)\n",
        "          )\n",
        "model_4layer_150.add(Dense(1))\n",
        "\n",
        "model_4layer_150.summary()"
      ],
      "execution_count": null,
      "outputs": [
        {
          "output_type": "stream",
          "name": "stdout",
          "text": [
            "WARNING:tensorflow:Layer lstm_17 will not use cuDNN kernels since it doesn't meet the criteria. It will use a generic GPU kernel as fallback when running on GPU.\n",
            "WARNING:tensorflow:Layer lstm_18 will not use cuDNN kernels since it doesn't meet the criteria. It will use a generic GPU kernel as fallback when running on GPU.\n",
            "WARNING:tensorflow:Layer lstm_19 will not use cuDNN kernels since it doesn't meet the criteria. It will use a generic GPU kernel as fallback when running on GPU.\n",
            "WARNING:tensorflow:Layer lstm_20 will not use cuDNN kernels since it doesn't meet the criteria. It will use a generic GPU kernel as fallback when running on GPU.\n",
            "Model: \"sequential_8\"\n",
            "_________________________________________________________________\n",
            "Layer (type)                 Output Shape              Param #   \n",
            "=================================================================\n",
            "lstm_17 (LSTM)               (None, 2, 128)            66560     \n",
            "_________________________________________________________________\n",
            "lstm_18 (LSTM)               (None, 2, 64)             49408     \n",
            "_________________________________________________________________\n",
            "lstm_19 (LSTM)               (None, 2, 32)             12416     \n",
            "_________________________________________________________________\n",
            "lstm_20 (LSTM)               (None, 2, 16)             3136      \n",
            "_________________________________________________________________\n",
            "dense_8 (Dense)              (None, 2, 1)              17        \n",
            "=================================================================\n",
            "Total params: 131,537\n",
            "Trainable params: 131,537\n",
            "Non-trainable params: 0\n",
            "_________________________________________________________________\n"
          ]
        }
      ]
    },
    {
      "cell_type": "code",
      "metadata": {
        "id": "FX4z0-aQljaN",
        "colab": {
          "base_uri": "https://localhost:8080/"
        },
        "outputId": "f20d0bc9-4621-4075-c0d4-e5247331cac3"
      },
      "source": [
        "model_name.append('model_4layer_150')\n",
        "rmse = model_compile(model_4layer_150,150)\n",
        "rmse_list.append(rmse)"
      ],
      "execution_count": null,
      "outputs": [
        {
          "output_type": "stream",
          "name": "stdout",
          "text": [
            "0.05354382679378499\n"
          ]
        }
      ]
    },
    {
      "cell_type": "markdown",
      "metadata": {
        "id": "P3rDw3KKlQqD"
      },
      "source": [
        "## Layer6"
      ]
    },
    {
      "cell_type": "markdown",
      "metadata": {
        "id": "aZzWKK3LlRd3"
      },
      "source": [
        "### epoch50"
      ]
    },
    {
      "cell_type": "code",
      "metadata": {
        "colab": {
          "base_uri": "https://localhost:8080/"
        },
        "id": "1Xi5yLS-BYuM",
        "outputId": "534a121b-3561-4590-b88d-d8b794e57500"
      },
      "source": [
        "model_6layer_50 = Sequential()\n",
        "model_6layer_50.add(LSTM(512, \n",
        "               input_shape=(X_train_t.shape[1], X_train_t.shape[2]), \n",
        "               activation='relu', \n",
        "               return_sequences=True)\n",
        "          )\n",
        "model_6layer_50.add(LSTM(256, \n",
        "               activation='relu', \n",
        "               return_sequences=True)\n",
        "          )\n",
        "model_6layer_50.add(LSTM(128, \n",
        "               activation='relu', \n",
        "               return_sequences=True)\n",
        "          )\n",
        "model_6layer_50.add(LSTM(64, \n",
        "               activation='relu', \n",
        "               return_sequences=True)\n",
        "          )\n",
        "model_6layer_50.add(LSTM(32, \n",
        "               activation='relu', \n",
        "               return_sequences=True)\n",
        "          )\n",
        "model_6layer_50.add(LSTM(16, \n",
        "               activation='relu', \n",
        "               return_sequences=True)\n",
        "          )\n",
        "model_6layer_50.add(Dense(1))\n",
        "\n",
        "model_6layer_50.summary()"
      ],
      "execution_count": null,
      "outputs": [
        {
          "output_type": "stream",
          "name": "stdout",
          "text": [
            "WARNING:tensorflow:Layer lstm_21 will not use cuDNN kernels since it doesn't meet the criteria. It will use a generic GPU kernel as fallback when running on GPU.\n",
            "WARNING:tensorflow:Layer lstm_22 will not use cuDNN kernels since it doesn't meet the criteria. It will use a generic GPU kernel as fallback when running on GPU.\n",
            "WARNING:tensorflow:Layer lstm_23 will not use cuDNN kernels since it doesn't meet the criteria. It will use a generic GPU kernel as fallback when running on GPU.\n",
            "WARNING:tensorflow:Layer lstm_24 will not use cuDNN kernels since it doesn't meet the criteria. It will use a generic GPU kernel as fallback when running on GPU.\n",
            "WARNING:tensorflow:Layer lstm_25 will not use cuDNN kernels since it doesn't meet the criteria. It will use a generic GPU kernel as fallback when running on GPU.\n",
            "WARNING:tensorflow:Layer lstm_26 will not use cuDNN kernels since it doesn't meet the criteria. It will use a generic GPU kernel as fallback when running on GPU.\n",
            "Model: \"sequential_9\"\n",
            "_________________________________________________________________\n",
            "Layer (type)                 Output Shape              Param #   \n",
            "=================================================================\n",
            "lstm_21 (LSTM)               (None, 2, 512)            1052672   \n",
            "_________________________________________________________________\n",
            "lstm_22 (LSTM)               (None, 2, 256)            787456    \n",
            "_________________________________________________________________\n",
            "lstm_23 (LSTM)               (None, 2, 128)            197120    \n",
            "_________________________________________________________________\n",
            "lstm_24 (LSTM)               (None, 2, 64)             49408     \n",
            "_________________________________________________________________\n",
            "lstm_25 (LSTM)               (None, 2, 32)             12416     \n",
            "_________________________________________________________________\n",
            "lstm_26 (LSTM)               (None, 2, 16)             3136      \n",
            "_________________________________________________________________\n",
            "dense_9 (Dense)              (None, 2, 1)              17        \n",
            "=================================================================\n",
            "Total params: 2,102,225\n",
            "Trainable params: 2,102,225\n",
            "Non-trainable params: 0\n",
            "_________________________________________________________________\n"
          ]
        }
      ]
    },
    {
      "cell_type": "code",
      "metadata": {
        "id": "kptVhVWQl1nM",
        "colab": {
          "base_uri": "https://localhost:8080/"
        },
        "outputId": "6a3a7c7b-4885-4fb4-f6a2-2a1926294d22"
      },
      "source": [
        "model_name.append('model_6layer_50')\n",
        "rmse = model_compile(model_6layer_50,50)\n",
        "rmse_list.append(rmse)"
      ],
      "execution_count": null,
      "outputs": [
        {
          "output_type": "stream",
          "name": "stdout",
          "text": [
            "0.14321301226324473\n"
          ]
        }
      ]
    },
    {
      "cell_type": "markdown",
      "metadata": {
        "id": "0mNUAY2Ml9CL"
      },
      "source": [
        "### epoch100"
      ]
    },
    {
      "cell_type": "code",
      "metadata": {
        "colab": {
          "base_uri": "https://localhost:8080/"
        },
        "id": "wDRcH8AGl-JP",
        "outputId": "e7df5ac2-e924-4100-f96e-6a9942604582"
      },
      "source": [
        "model_6layer_100 = Sequential()\n",
        "model_6layer_100.add(LSTM(512, \n",
        "               input_shape=(X_train_t.shape[1], X_train_t.shape[2]), \n",
        "               activation='relu', \n",
        "               return_sequences=True)\n",
        "          )\n",
        "model_6layer_100.add(LSTM(256, \n",
        "               activation='relu', \n",
        "               return_sequences=True)\n",
        "          )\n",
        "model_6layer_100.add(LSTM(128, \n",
        "               activation='relu', \n",
        "               return_sequences=True)\n",
        "          )\n",
        "model_6layer_100.add(LSTM(64, \n",
        "               activation='relu', \n",
        "               return_sequences=True)\n",
        "          )\n",
        "model_6layer_100.add(LSTM(32, \n",
        "               activation='relu', \n",
        "               return_sequences=True)\n",
        "          )\n",
        "model_6layer_100.add(LSTM(16, \n",
        "               activation='relu', \n",
        "               return_sequences=True)\n",
        "          )\n",
        "model_6layer_100.add(Dense(1))\n",
        "\n",
        "model_6layer_100.summary()"
      ],
      "execution_count": null,
      "outputs": [
        {
          "output_type": "stream",
          "name": "stdout",
          "text": [
            "WARNING:tensorflow:Layer lstm_27 will not use cuDNN kernels since it doesn't meet the criteria. It will use a generic GPU kernel as fallback when running on GPU.\n",
            "WARNING:tensorflow:Layer lstm_28 will not use cuDNN kernels since it doesn't meet the criteria. It will use a generic GPU kernel as fallback when running on GPU.\n",
            "WARNING:tensorflow:Layer lstm_29 will not use cuDNN kernels since it doesn't meet the criteria. It will use a generic GPU kernel as fallback when running on GPU.\n",
            "WARNING:tensorflow:Layer lstm_30 will not use cuDNN kernels since it doesn't meet the criteria. It will use a generic GPU kernel as fallback when running on GPU.\n",
            "WARNING:tensorflow:Layer lstm_31 will not use cuDNN kernels since it doesn't meet the criteria. It will use a generic GPU kernel as fallback when running on GPU.\n",
            "WARNING:tensorflow:Layer lstm_32 will not use cuDNN kernels since it doesn't meet the criteria. It will use a generic GPU kernel as fallback when running on GPU.\n",
            "Model: \"sequential_10\"\n",
            "_________________________________________________________________\n",
            "Layer (type)                 Output Shape              Param #   \n",
            "=================================================================\n",
            "lstm_27 (LSTM)               (None, 2, 512)            1052672   \n",
            "_________________________________________________________________\n",
            "lstm_28 (LSTM)               (None, 2, 256)            787456    \n",
            "_________________________________________________________________\n",
            "lstm_29 (LSTM)               (None, 2, 128)            197120    \n",
            "_________________________________________________________________\n",
            "lstm_30 (LSTM)               (None, 2, 64)             49408     \n",
            "_________________________________________________________________\n",
            "lstm_31 (LSTM)               (None, 2, 32)             12416     \n",
            "_________________________________________________________________\n",
            "lstm_32 (LSTM)               (None, 2, 16)             3136      \n",
            "_________________________________________________________________\n",
            "dense_10 (Dense)             (None, 2, 1)              17        \n",
            "=================================================================\n",
            "Total params: 2,102,225\n",
            "Trainable params: 2,102,225\n",
            "Non-trainable params: 0\n",
            "_________________________________________________________________\n"
          ]
        }
      ]
    },
    {
      "cell_type": "code",
      "metadata": {
        "id": "RQEDAUaFl_ud",
        "colab": {
          "base_uri": "https://localhost:8080/"
        },
        "outputId": "b5df6ae4-2554-4b5a-ab73-2fc5faa0a1c1"
      },
      "source": [
        "model_name.append('model_6layer_100')\n",
        "rmse = model_compile(model_6layer_100,100)\n",
        "rmse_list.append(rmse)"
      ],
      "execution_count": null,
      "outputs": [
        {
          "output_type": "stream",
          "name": "stdout",
          "text": [
            "0.11441506369209427\n"
          ]
        }
      ]
    },
    {
      "cell_type": "markdown",
      "metadata": {
        "id": "GUKZRxOumHh6"
      },
      "source": [
        "### epoch 150"
      ]
    },
    {
      "cell_type": "code",
      "metadata": {
        "id": "X6hbDyAYl_pi",
        "colab": {
          "base_uri": "https://localhost:8080/"
        },
        "outputId": "71df4dc9-cd3c-4ed2-d49e-edfd01aa5c86"
      },
      "source": [
        "model_6layer_150 = Sequential()\n",
        "model_6layer_150.add(LSTM(512, \n",
        "               input_shape=(X_train_t.shape[1], X_train_t.shape[2]), \n",
        "               activation='relu', \n",
        "               return_sequences=True)\n",
        "          )\n",
        "model_6layer_150.add(LSTM(256, \n",
        "               activation='relu', \n",
        "               return_sequences=True)\n",
        "          )\n",
        "model_6layer_150.add(LSTM(128, \n",
        "               activation='relu', \n",
        "               return_sequences=True)\n",
        "          )\n",
        "model_6layer_150.add(LSTM(64, \n",
        "               activation='relu', \n",
        "               return_sequences=True)\n",
        "          )\n",
        "model_6layer_150.add(LSTM(32, \n",
        "               activation='relu', \n",
        "               return_sequences=True)\n",
        "          )\n",
        "model_6layer_150.add(LSTM(16, \n",
        "               activation='relu', \n",
        "               return_sequences=True)\n",
        "          )\n",
        "model_6layer_150.add(Dense(1))\n",
        "\n",
        "model_6layer_150.summary()"
      ],
      "execution_count": null,
      "outputs": [
        {
          "output_type": "stream",
          "name": "stdout",
          "text": [
            "WARNING:tensorflow:Layer lstm_33 will not use cuDNN kernels since it doesn't meet the criteria. It will use a generic GPU kernel as fallback when running on GPU.\n",
            "WARNING:tensorflow:Layer lstm_34 will not use cuDNN kernels since it doesn't meet the criteria. It will use a generic GPU kernel as fallback when running on GPU.\n",
            "WARNING:tensorflow:Layer lstm_35 will not use cuDNN kernels since it doesn't meet the criteria. It will use a generic GPU kernel as fallback when running on GPU.\n",
            "WARNING:tensorflow:Layer lstm_36 will not use cuDNN kernels since it doesn't meet the criteria. It will use a generic GPU kernel as fallback when running on GPU.\n",
            "WARNING:tensorflow:Layer lstm_37 will not use cuDNN kernels since it doesn't meet the criteria. It will use a generic GPU kernel as fallback when running on GPU.\n",
            "WARNING:tensorflow:Layer lstm_38 will not use cuDNN kernels since it doesn't meet the criteria. It will use a generic GPU kernel as fallback when running on GPU.\n",
            "Model: \"sequential_11\"\n",
            "_________________________________________________________________\n",
            "Layer (type)                 Output Shape              Param #   \n",
            "=================================================================\n",
            "lstm_33 (LSTM)               (None, 2, 512)            1052672   \n",
            "_________________________________________________________________\n",
            "lstm_34 (LSTM)               (None, 2, 256)            787456    \n",
            "_________________________________________________________________\n",
            "lstm_35 (LSTM)               (None, 2, 128)            197120    \n",
            "_________________________________________________________________\n",
            "lstm_36 (LSTM)               (None, 2, 64)             49408     \n",
            "_________________________________________________________________\n",
            "lstm_37 (LSTM)               (None, 2, 32)             12416     \n",
            "_________________________________________________________________\n",
            "lstm_38 (LSTM)               (None, 2, 16)             3136      \n",
            "_________________________________________________________________\n",
            "dense_11 (Dense)             (None, 2, 1)              17        \n",
            "=================================================================\n",
            "Total params: 2,102,225\n",
            "Trainable params: 2,102,225\n",
            "Non-trainable params: 0\n",
            "_________________________________________________________________\n"
          ]
        }
      ]
    },
    {
      "cell_type": "code",
      "metadata": {
        "id": "LHwDTcP5mWvR",
        "colab": {
          "base_uri": "https://localhost:8080/"
        },
        "outputId": "52e658dc-142b-41e2-a227-504bfed2cbd6"
      },
      "source": [
        "model_name.append('model_6layer_150')\n",
        "rmse = model_compile(model_6layer_150,150)\n",
        "rmse_list.append(rmse)"
      ],
      "execution_count": null,
      "outputs": [
        {
          "output_type": "stream",
          "name": "stdout",
          "text": [
            "0.15713878059583322\n"
          ]
        }
      ]
    },
    {
      "cell_type": "markdown",
      "metadata": {
        "id": "E6l6OFkBniaL"
      },
      "source": [
        "## 정리"
      ]
    },
    {
      "cell_type": "code",
      "metadata": {
        "id": "x23bz4B_njUS",
        "colab": {
          "base_uri": "https://localhost:8080/",
          "height": 424
        },
        "outputId": "0f07dd3f-5bde-4f5b-8980-f25b1c936db2"
      },
      "source": [
        "result = pd.DataFrame({\n",
        "    'model' : model_name,\n",
        "    'rmse' : rmse_list\n",
        "})\n",
        "result.to_csv(f'/content/drive/MyDrive/프로젝트/한이음_BBS/기간변경_lstm_result_{min(result.rmse)}.csv')\n",
        "result"
      ],
      "execution_count": null,
      "outputs": [
        {
          "output_type": "execute_result",
          "data": {
            "text/html": [
              "<div>\n",
              "<style scoped>\n",
              "    .dataframe tbody tr th:only-of-type {\n",
              "        vertical-align: middle;\n",
              "    }\n",
              "\n",
              "    .dataframe tbody tr th {\n",
              "        vertical-align: top;\n",
              "    }\n",
              "\n",
              "    .dataframe thead th {\n",
              "        text-align: right;\n",
              "    }\n",
              "</style>\n",
              "<table border=\"1\" class=\"dataframe\">\n",
              "  <thead>\n",
              "    <tr style=\"text-align: right;\">\n",
              "      <th></th>\n",
              "      <th>model</th>\n",
              "      <th>rmse</th>\n",
              "    </tr>\n",
              "  </thead>\n",
              "  <tbody>\n",
              "    <tr>\n",
              "      <th>0</th>\n",
              "      <td>model_1layer_50</td>\n",
              "      <td>0.103445</td>\n",
              "    </tr>\n",
              "    <tr>\n",
              "      <th>1</th>\n",
              "      <td>model_1layer_100</td>\n",
              "      <td>0.073079</td>\n",
              "    </tr>\n",
              "    <tr>\n",
              "      <th>2</th>\n",
              "      <td>model_1layer_150</td>\n",
              "      <td>0.023929</td>\n",
              "    </tr>\n",
              "    <tr>\n",
              "      <th>3</th>\n",
              "      <td>model_2layer_50</td>\n",
              "      <td>0.023625</td>\n",
              "    </tr>\n",
              "    <tr>\n",
              "      <th>4</th>\n",
              "      <td>model_2layer_100</td>\n",
              "      <td>0.081166</td>\n",
              "    </tr>\n",
              "    <tr>\n",
              "      <th>5</th>\n",
              "      <td>model_2layer_150</td>\n",
              "      <td>0.057758</td>\n",
              "    </tr>\n",
              "    <tr>\n",
              "      <th>6</th>\n",
              "      <td>model_4layer_50</td>\n",
              "      <td>0.028138</td>\n",
              "    </tr>\n",
              "    <tr>\n",
              "      <th>7</th>\n",
              "      <td>model_4layer_100</td>\n",
              "      <td>0.080575</td>\n",
              "    </tr>\n",
              "    <tr>\n",
              "      <th>8</th>\n",
              "      <td>model_4layer_150</td>\n",
              "      <td>0.053544</td>\n",
              "    </tr>\n",
              "    <tr>\n",
              "      <th>9</th>\n",
              "      <td>model_6layer_50</td>\n",
              "      <td>0.143213</td>\n",
              "    </tr>\n",
              "    <tr>\n",
              "      <th>10</th>\n",
              "      <td>model_6layer_100</td>\n",
              "      <td>0.114415</td>\n",
              "    </tr>\n",
              "    <tr>\n",
              "      <th>11</th>\n",
              "      <td>model_6layer_150</td>\n",
              "      <td>0.157139</td>\n",
              "    </tr>\n",
              "  </tbody>\n",
              "</table>\n",
              "</div>"
            ],
            "text/plain": [
              "               model      rmse\n",
              "0    model_1layer_50  0.103445\n",
              "1   model_1layer_100  0.073079\n",
              "2   model_1layer_150  0.023929\n",
              "3    model_2layer_50  0.023625\n",
              "4   model_2layer_100  0.081166\n",
              "5   model_2layer_150  0.057758\n",
              "6    model_4layer_50  0.028138\n",
              "7   model_4layer_100  0.080575\n",
              "8   model_4layer_150  0.053544\n",
              "9    model_6layer_50  0.143213\n",
              "10  model_6layer_100  0.114415\n",
              "11  model_6layer_150  0.157139"
            ]
          },
          "metadata": {},
          "execution_count": 49
        }
      ]
    },
    {
      "cell_type": "code",
      "metadata": {
        "id": "kkflzC_v9BLD",
        "colab": {
          "base_uri": "https://localhost:8080/"
        },
        "outputId": "de91a095-5cd7-49e0-9caf-f8fe6b96020b"
      },
      "source": [
        "min(result.rmse)"
      ],
      "execution_count": null,
      "outputs": [
        {
          "output_type": "execute_result",
          "data": {
            "text/plain": [
              "0.023625306009622257"
            ]
          },
          "metadata": {},
          "execution_count": 50
        }
      ]
    },
    {
      "cell_type": "code",
      "metadata": {
        "id": "RoYY19plZIpa"
      },
      "source": [
        ""
      ],
      "execution_count": null,
      "outputs": []
    }
  ]
}